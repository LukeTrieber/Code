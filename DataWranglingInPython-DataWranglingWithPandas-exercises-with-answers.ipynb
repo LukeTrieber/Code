{
 "cells": [
  {
   "cell_type": "code",
   "execution_count": 1,
   "id": "fa6d0d59",
   "metadata": {},
   "outputs": [],
   "source": [
    "#######################################################\n",
    "#######################################################\n",
    "#######################################################\n",
    "\n",
    "## Data Wrangling In Python: Data Wrangling With Pandas - 5 EXERCISE ANSWERS ##\n",
    "\n",
    "\n",
    "\n",
    "\n"
   ]
  },
  {
   "cell_type": "markdown",
   "id": "24c82f6b",
   "metadata": {},
   "source": [
    "#### Please refer to module 1 of DataWranglingInPython - DataWranglingWithPandas for Tasks 1-4\n",
    "#### Task 1\n",
    "##### Import `pandas` as `pd` and numpy as `np`.\n",
    "##### Import `path` from `Pathlib`.\n",
    "##### Set the data directory using the data_dir variable.\n"
   ]
  },
  {
   "cell_type": "markdown",
   "id": "47e58c8f",
   "metadata": {},
   "source": [
    "#### Result:\n"
   ]
  },
  {
   "cell_type": "code",
   "execution_count": 2,
   "id": "8144c6b3",
   "metadata": {},
   "outputs": [
    {
     "name": "stdout",
     "output_type": "stream",
     "text": [
      "C:\\\n",
      "/data\n"
     ]
    }
   ],
   "source": [
    "import numpy as np\n",
    "import pandas as pd\n",
    "from pathlib import Path\n",
    "\n",
    "# Set 'main_dir' to location of the project folder\n",
    "home_dir = Path(\".\").resolve()\n",
    "main_dir = home_dir.parent.parent\n",
    "print(main_dir)\n",
    "data_dir = \"/data\"\n",
    "print(data_dir)\n",
    "\n"
   ]
  },
  {
   "cell_type": "markdown",
   "id": "7a16202e",
   "metadata": {},
   "source": [
    "#### Task 2\n",
    "##### Create a Pandas `Series` object from a list of groceries below. Assign it to `shopping_series` variable and print it.\n"
   ]
  },
  {
   "cell_type": "markdown",
   "id": "5beb7a0f",
   "metadata": {},
   "source": [
    "- milk\n",
    "- eggs\n",
    "- peppers\n",
    "- cheese\n",
    "- tomatoes\n",
    "\n"
   ]
  },
  {
   "cell_type": "markdown",
   "id": "09fd3153",
   "metadata": {},
   "source": [
    "##### Print out only the values of the Series.\n"
   ]
  },
  {
   "cell_type": "markdown",
   "id": "b4287ddd",
   "metadata": {},
   "source": [
    "#### Result:\n"
   ]
  },
  {
   "cell_type": "code",
   "execution_count": 3,
   "id": "17f6e48e",
   "metadata": {},
   "outputs": [
    {
     "name": "stdout",
     "output_type": "stream",
     "text": [
      "0        milk\n",
      "1        eggs\n",
      "2     peppers\n",
      "3      cheese\n",
      "4    tomatoes\n",
      "dtype: object\n",
      "['milk' 'eggs' 'peppers' 'cheese' 'tomatoes']\n"
     ]
    }
   ],
   "source": [
    "shopping_series = pd.Series([\"milk\", \"eggs\", \"peppers\", \"cheese\", \"tomatoes\"])\n",
    "print(shopping_series)\n",
    "print(shopping_series.values)\n",
    "\n"
   ]
  },
  {
   "cell_type": "markdown",
   "id": "5feabe35",
   "metadata": {},
   "source": [
    "#### Task 3\n",
    "##### Create a Pandas Date Series object starting from `January 1st 2019` and ending with `January 1st 2020` separated monthly. Assign the Series to `monthly_series` variable. Print the result.     \n"
   ]
  },
  {
   "cell_type": "markdown",
   "id": "fe19f110",
   "metadata": {},
   "source": [
    "##### Create another Pandas Date Series object starting from `January 1st 2019` and covering 12 monthly periods. Assign the Series to `monthly_series_by_period` variable. Print the result.\n",
    "##### Are the two Series equivalent?\n"
   ]
  },
  {
   "cell_type": "markdown",
   "id": "5b8da57e",
   "metadata": {},
   "source": [
    "#### Result:\n"
   ]
  },
  {
   "cell_type": "code",
   "execution_count": 4,
   "id": "f6285290",
   "metadata": {},
   "outputs": [
    {
     "name": "stdout",
     "output_type": "stream",
     "text": [
      "DatetimeIndex(['2019-01-31', '2019-02-28', '2019-03-31', '2019-04-30',\n",
      "               '2019-05-31', '2019-06-30', '2019-07-31', '2019-08-31',\n",
      "               '2019-09-30', '2019-10-31', '2019-11-30', '2019-12-31'],\n",
      "              dtype='datetime64[ns]', freq='M')\n",
      "DatetimeIndex(['2019-01-31', '2019-02-28', '2019-03-31', '2019-04-30',\n",
      "               '2019-05-31', '2019-06-30', '2019-07-31', '2019-08-31',\n",
      "               '2019-09-30', '2019-10-31', '2019-11-30', '2019-12-31'],\n",
      "              dtype='datetime64[ns]', freq='M')\n"
     ]
    }
   ],
   "source": [
    "monthly_series = pd.date_range(start = '20190101', end = '20200101', freq = 'M')\n",
    "print(monthly_series)\n",
    "monthly_series_by_period = pd.date_range(start = '20190101', freq = 'M', periods = 12)\n",
    "print(monthly_series_by_period)\n",
    "# Yes, the two series objects are equivalent!\n",
    "\n"
   ]
  },
  {
   "cell_type": "markdown",
   "id": "43240f4d",
   "metadata": {},
   "source": [
    "#### Task 4\n",
    "##### Create a NumPy array `abs_values` with values `[5, 8, 66, 4]` and convert it into a `Pandas Series` object. Assign it to variable `abs_series`.\n",
    "##### Print the result.\n",
    "##### Then print the results of the following operations:\n"
   ]
  },
  {
   "cell_type": "markdown",
   "id": "a59802d0",
   "metadata": {},
   "source": [
    "- Get the shape of the Series\n",
    "- Find the mean of the Series\n",
    "- Find the median of the Series\n",
    "- Find the standard deviation of the Series\n",
    "- Get unique values in the Series\n",
    "- Get the number of unique values in the Series\n",
    "\n"
   ]
  },
  {
   "cell_type": "markdown",
   "id": "19fe8223",
   "metadata": {},
   "source": [
    "#### Here are some bonus questions that you could work on later\n"
   ]
  },
  {
   "cell_type": "markdown",
   "id": "15447400",
   "metadata": {},
   "source": [
    "- Get counts of unique values in the Series\n",
    "- Find the position of the minimum value in the Series\n",
    "- Find the position of the maximum value in the Series\n",
    "- Rank items in the Series in descending order\n",
    "- Sort values in the Series\n",
    "- Find sum of the Series\n",
    "- Find cumulative sum of the Series\n",
    "\n"
   ]
  },
  {
   "cell_type": "markdown",
   "id": "dd3bfb8c",
   "metadata": {},
   "source": [
    "#### Result:\n"
   ]
  },
  {
   "cell_type": "code",
   "execution_count": 5,
   "id": "a1c3e274",
   "metadata": {},
   "outputs": [
    {
     "name": "stdout",
     "output_type": "stream",
     "text": [
      "0     5\n",
      "1     8\n",
      "2    66\n",
      "3     4\n",
      "dtype: int32\n",
      "(4,)\n",
      "20.75\n",
      "6.5\n",
      "30.21451086260816\n",
      "[ 5  8 66  4]\n",
      "4\n"
     ]
    }
   ],
   "source": [
    "abs_values = np.array([5, 8, 66, 4])\n",
    "abs_series = pd.Series(abs_values)\n",
    "print(abs_series)\n",
    "print(abs_series.shape)\n",
    "print(abs_series.mean())\n",
    "print(abs_series.median())\n",
    "print(abs_series.std())\n",
    "print(abs_series.unique())\n",
    "print(abs_series.nunique())\n",
    "\n"
   ]
  },
  {
   "cell_type": "markdown",
   "id": "0fc73a39",
   "metadata": {},
   "source": [
    "#### Answers for the bonus questions\n"
   ]
  },
  {
   "cell_type": "code",
   "execution_count": 6,
   "id": "12353a0c",
   "metadata": {},
   "outputs": [
    {
     "name": "stdout",
     "output_type": "stream",
     "text": [
      "5     1\n",
      "8     1\n",
      "66    1\n",
      "4     1\n",
      "dtype: int64\n",
      "3\n",
      "2\n",
      "0    3.0\n",
      "1    2.0\n",
      "2    1.0\n",
      "3    4.0\n",
      "dtype: float64\n",
      "3     4\n",
      "0     5\n",
      "1     8\n",
      "2    66\n",
      "dtype: int32\n",
      "83\n",
      "0     5\n",
      "1    13\n",
      "2    79\n",
      "3    83\n",
      "dtype: int32\n"
     ]
    }
   ],
   "source": [
    "print(abs_series.value_counts())\n",
    "print(abs_series.idxmin()) \n",
    "print(abs_series.idxmax())\n",
    "print(abs_series.rank(ascending = False))\n",
    "print(abs_series.sort_values())\n",
    "print(abs_series.sum())\n",
    "print(abs_series.cumsum())\n"
   ]
  },
  {
   "cell_type": "markdown",
   "id": "c1b09286",
   "metadata": {},
   "source": [
    "#### Please refer to module 2 of DataWranglingInPython - DataWranglingWithPandas for Tasks 5-8\n",
    "#### Task 5\n",
    "##### Create a Pandas Series object from a list of groceries below. Assign it to a variable called `shopping_series` and print it.\n"
   ]
  },
  {
   "cell_type": "markdown",
   "id": "fc595e2c",
   "metadata": {},
   "source": [
    "- milk\n",
    "- eggs\n",
    "- peppers\n",
    "- cheese\n",
    "- tomatoes\n",
    "\n"
   ]
  },
  {
   "cell_type": "markdown",
   "id": "0fb67b09",
   "metadata": {},
   "source": [
    "##### Create a Series object called `prices` that contains the following values: [2.5, 3.99, 1.95, 5.99, 1.29].\n",
    "##### Create a Series object called `num_items` that contains the following values: [1, 1, 2, 1, 3].\n",
    "##### Combine the three `Series` objects described above into a single DataFrame called `shopping_cart` naming the columns as follows:\n"
   ]
  },
  {
   "cell_type": "markdown",
   "id": "d4e524c2",
   "metadata": {},
   "source": [
    "- `item_name`\n",
    "- `item_price`\n",
    "- `item_quantity`\n",
    "\n"
   ]
  },
  {
   "cell_type": "markdown",
   "id": "fe865b60",
   "metadata": {},
   "source": [
    "##### Print the first few entries (i.e. the `head` of the DataFrame).\n",
    "#### Result:\n"
   ]
  },
  {
   "cell_type": "code",
   "execution_count": 7,
   "id": "503a8f5c",
   "metadata": {},
   "outputs": [
    {
     "name": "stdout",
     "output_type": "stream",
     "text": [
      "  item_name  item_price  item_quantity\n",
      "0      milk        2.50              1\n",
      "1      eggs        3.99              1\n",
      "2   peppers        1.95              2\n",
      "3    cheese        5.99              1\n",
      "4  tomatoes        1.29              3\n"
     ]
    }
   ],
   "source": [
    "shopping_series = pd.Series([\"milk\", \"eggs\", \"peppers\", \"cheese\", \"tomatoes\"])\n",
    "prices = pd.Series([2.5, 3.99, 1.95, 5.99, 1.29])\n",
    "num_items = pd.Series([1, 1, 2, 1, 3])\n",
    "shopping_cart = pd.DataFrame({'item_name': shopping_series, 'item_price': prices, 'item_quantity': num_items})\n",
    "print(shopping_cart.head())\n",
    "\n"
   ]
  },
  {
   "cell_type": "markdown",
   "id": "d87fd2cb",
   "metadata": {},
   "source": [
    "#### Task 6\n",
    "##### Check the following characteristics of the `shopping_cart` object:\n"
   ]
  },
  {
   "cell_type": "markdown",
   "id": "b8a34039",
   "metadata": {},
   "source": [
    "- Type\n",
    "- Shape\n",
    "- Show column names of the DataFrame\n",
    "- Show information of the DataFrame\n",
    "- Describe the DataFrame\n",
    "\n"
   ]
  },
  {
   "cell_type": "markdown",
   "id": "6751d0b8",
   "metadata": {},
   "source": [
    "##### How many columns are described in the last output? Why do you think that's the case?\n",
    "##### What is the 75th percentile of the column `item_price`?\n",
    "##### What is the standard deviation of the column `item_quantity`?\n",
    "#### Result:\n"
   ]
  },
  {
   "cell_type": "code",
   "execution_count": 8,
   "id": "f9afa719",
   "metadata": {},
   "outputs": [
    {
     "name": "stdout",
     "output_type": "stream",
     "text": [
      "<class 'pandas.core.frame.DataFrame'>\n",
      "(5, 3)\n",
      "Index(['item_name', 'item_price', 'item_quantity'], dtype='object')\n",
      "<class 'pandas.core.frame.DataFrame'>\n",
      "RangeIndex: 5 entries, 0 to 4\n",
      "Data columns (total 3 columns):\n",
      " #   Column         Non-Null Count  Dtype  \n",
      "---  ------         --------------  -----  \n",
      " 0   item_name      5 non-null      object \n",
      " 1   item_price     5 non-null      float64\n",
      " 2   item_quantity  5 non-null      int64  \n",
      "dtypes: float64(1), int64(1), object(1)\n",
      "memory usage: 248.0+ bytes\n",
      "None\n",
      "       item_price  item_quantity\n",
      "count     5.00000       5.000000\n",
      "mean      3.14400       1.600000\n",
      "std       1.87704       0.894427\n",
      "min       1.29000       1.000000\n",
      "25%       1.95000       1.000000\n",
      "50%       2.50000       1.000000\n",
      "75%       3.99000       2.000000\n",
      "max       5.99000       3.000000\n"
     ]
    }
   ],
   "source": [
    "print(type(shopping_cart))\n",
    "print(shopping_cart.shape)\n",
    "print(shopping_cart.columns)\n",
    "print(shopping_cart.info())\n",
    "print(shopping_cart.describe())\n",
    "\n",
    "# There are only 2 columns because the first column is non-numerical.\n",
    "# The 75th percentile of `item_price` is 3.99.\n",
    "# The standard deviation of `item_quantity` is 0.894427.\n",
    "\n"
   ]
  },
  {
   "cell_type": "markdown",
   "id": "51a1da6b",
   "metadata": {},
   "source": [
    "#### Task 7\n",
    "##### Perform the following on the `shopping_cart` DataFrame:\n"
   ]
  },
  {
   "cell_type": "markdown",
   "id": "8d95a665",
   "metadata": {},
   "source": [
    "- Extract column `item_price`\n",
    "- Extract columns `item_name` and`item_quantity`\n",
    "- Extract the 3rd row\n"
   ]
  },
  {
   "cell_type": "markdown",
   "id": "c6186981",
   "metadata": {},
   "source": [
    "#### Result:\n"
   ]
  },
  {
   "cell_type": "code",
   "execution_count": 9,
   "id": "3439de34",
   "metadata": {},
   "outputs": [
    {
     "name": "stdout",
     "output_type": "stream",
     "text": [
      "0    2.50\n",
      "1    3.99\n",
      "2    1.95\n",
      "3    5.99\n",
      "4    1.29\n",
      "Name: item_price, dtype: float64\n",
      "  item_name  item_quantity\n",
      "0      milk              1\n",
      "1      eggs              1\n",
      "2   peppers              2\n",
      "3    cheese              1\n",
      "4  tomatoes              3\n",
      "item_name        peppers\n",
      "item_price          1.95\n",
      "item_quantity          2\n",
      "Name: 2, dtype: object\n"
     ]
    }
   ],
   "source": [
    "print(shopping_cart['item_price'])\n",
    "print(shopping_cart[['item_name', 'item_quantity']])\n",
    "print(shopping_cart.iloc[2])\n",
    "\n"
   ]
  },
  {
   "cell_type": "markdown",
   "id": "354d524d",
   "metadata": {},
   "source": [
    "#### Task 8\n",
    "##### Set the index of `shopping_cart` DataFrame to `item_name`. Print the updated DataFrame.\n",
    "##### Print just the index of the `shopping_cart` DataFrame.\n",
    "##### Look up the row of the `shopping_cart` by using the index value 'eggs'.\n",
    "##### Reset index of the `shopping_cart`. Print the updated DataFrame.\n",
    "#### Result:\n"
   ]
  },
  {
   "cell_type": "code",
   "execution_count": 10,
   "id": "2226ef64",
   "metadata": {},
   "outputs": [
    {
     "name": "stdout",
     "output_type": "stream",
     "text": [
      "           item_price  item_quantity\n",
      "item_name                           \n",
      "milk             2.50              1\n",
      "eggs             3.99              1\n",
      "peppers          1.95              2\n",
      "cheese           5.99              1\n",
      "tomatoes         1.29              3\n",
      "Index(['milk', 'eggs', 'peppers', 'cheese', 'tomatoes'], dtype='object', name='item_name')\n",
      "item_price       3.99\n",
      "item_quantity    1.00\n",
      "Name: eggs, dtype: float64\n",
      "  item_name  item_price  item_quantity\n",
      "0      milk        2.50              1\n",
      "1      eggs        3.99              1\n",
      "2   peppers        1.95              2\n",
      "3    cheese        5.99              1\n",
      "4  tomatoes        1.29              3\n"
     ]
    }
   ],
   "source": [
    "shopping_cart = shopping_cart.set_index('item_name')\n",
    "print(shopping_cart)\n",
    "print(shopping_cart.index)\n",
    "print(shopping_cart.loc['eggs'])\n",
    "shopping_cart = shopping_cart.reset_index()\n",
    "print(shopping_cart)\n"
   ]
  },
  {
   "cell_type": "markdown",
   "id": "1f76c23b",
   "metadata": {},
   "source": [
    "#### Please refer to module 3 of DataWranglingInPython - DataWranglingWithPandas for Tasks 9-12\n",
    "#### Task 9\n",
    "##### Read in 'healthcare-dataset-stroke-data.csv' into a variable called `ex_df` using Pandas.\n",
    "##### Print the first 20 rows of the DataFrame.\n"
   ]
  },
  {
   "cell_type": "markdown",
   "id": "e4625638",
   "metadata": {},
   "source": [
    "#### Result:\n"
   ]
  },
  {
   "cell_type": "code",
   "execution_count": 11,
   "id": "c88194c0",
   "metadata": {},
   "outputs": [
    {
     "name": "stdout",
     "output_type": "stream",
     "text": [
      "     age  anaemia  creatinine_phosphokinase  diabetes  ejection_fraction  \\\n",
      "0   75.0        0                       582         0                 20   \n",
      "1   55.0        0                      7861         0                 38   \n",
      "2   65.0        0                       146         0                 20   \n",
      "3   50.0        1                       111         0                 20   \n",
      "4   65.0        1                       160         1                 20   \n",
      "5   90.0        1                        47         0                 40   \n",
      "6   75.0        1                       246         0                 15   \n",
      "7   60.0        1                       315         1                 60   \n",
      "8   65.0        0                       157         0                 65   \n",
      "9   80.0        1                       123         0                 35   \n",
      "10  75.0        1                        81         0                 38   \n",
      "11  62.0        0                       231         0                 25   \n",
      "12  45.0        1                       981         0                 30   \n",
      "13  50.0        1                       168         0                 38   \n",
      "14  49.0        1                        80         0                 30   \n",
      "15  82.0        1                       379         0                 50   \n",
      "16  87.0        1                       149         0                 38   \n",
      "17  45.0        0                       582         0                 14   \n",
      "18  70.0        1                       125         0                 25   \n",
      "19  48.0        1                       582         1                 55   \n",
      "\n",
      "    high_blood_pressure  platelets  serum_creatinine  serum_sodium  sex  \\\n",
      "0                     1  265000.00               1.9           130    1   \n",
      "1                     0  263358.03               1.1           136    1   \n",
      "2                     0  162000.00               1.3           129    1   \n",
      "3                     0  210000.00               1.9           137    1   \n",
      "4                     0  327000.00               2.7           116    0   \n",
      "5                     1  204000.00               2.1           132    1   \n",
      "6                     0  127000.00               1.2           137    1   \n",
      "7                     0  454000.00               1.1           131    1   \n",
      "8                     0  263358.03               1.5           138    0   \n",
      "9                     1  388000.00               9.4           133    1   \n",
      "10                    1  368000.00               4.0           131    1   \n",
      "11                    1  253000.00               0.9           140    1   \n",
      "12                    0  136000.00               1.1           137    1   \n",
      "13                    1  276000.00               1.1           137    1   \n",
      "14                    1  427000.00               1.0           138    0   \n",
      "15                    0   47000.00               1.3           136    1   \n",
      "16                    0  262000.00               0.9           140    1   \n",
      "17                    0  166000.00               0.8           127    1   \n",
      "18                    1  237000.00               1.0           140    0   \n",
      "19                    0   87000.00               1.9           121    0   \n",
      "\n",
      "    smoking  time  death_event  id  \n",
      "0         0     4            1   1  \n",
      "1         0     6            1   2  \n",
      "2         1     7            1   3  \n",
      "3         0     7            1   4  \n",
      "4         0     8            1   5  \n",
      "5         1     8            1   6  \n",
      "6         0    10            1   7  \n",
      "7         1    10            1   8  \n",
      "8         0    10            1   9  \n",
      "9         1    10            1  10  \n",
      "10        1    10            1  11  \n",
      "11        1    10            1  12  \n",
      "12        0    11            1  13  \n",
      "13        0    11            1  14  \n",
      "14        0    12            0  15  \n",
      "15        0    13            1  16  \n",
      "16        0    14            1  17  \n",
      "17        0    14            1  18  \n",
      "18        0    15            1  19  \n",
      "19        0    15            1  20  \n"
     ]
    }
   ],
   "source": [
    "ex_df = pd.read_csv('heart_failure_clinical_records_dataset.csv')\n",
    "print(ex_df.head(20))\n",
    "\n"
   ]
  },
  {
   "cell_type": "markdown",
   "id": "d4c417d5",
   "metadata": {},
   "source": [
    "#### Task 10\n",
    "##### Perform the following actions on `ex_df` object:\n"
   ]
  },
  {
   "cell_type": "markdown",
   "id": "5d5e746a",
   "metadata": {},
   "source": [
    "- Check the type of the object\n",
    "- Get the shape of the object and save it to 2 variables and print both: `nrows` and `ncols`\n",
    "\n"
   ]
  },
  {
   "cell_type": "markdown",
   "id": "79a57e31",
   "metadata": {},
   "source": [
    "#### Result:\n"
   ]
  },
  {
   "cell_type": "code",
   "execution_count": 12,
   "id": "9a1c53c7",
   "metadata": {},
   "outputs": [
    {
     "name": "stdout",
     "output_type": "stream",
     "text": [
      "<class 'pandas.core.frame.DataFrame'>\n",
      "299\n",
      "14\n"
     ]
    }
   ],
   "source": [
    "print(type(ex_df))\n",
    "nrows, ncols = ex_df.shape\n",
    "print(nrows)\n",
    "print(ncols)\n",
    "\n"
   ]
  },
  {
   "cell_type": "markdown",
   "id": "404f4661",
   "metadata": {},
   "source": [
    "#### Task 11\n",
    "##### Use the sample function to:\n"
   ]
  },
  {
   "cell_type": "markdown",
   "id": "7015c281",
   "metadata": {},
   "source": [
    "- print 3 random rows in ex_df\n",
    "- print 0.1% random rows in \n"
   ]
  },
  {
   "cell_type": "markdown",
   "id": "31e11146",
   "metadata": {},
   "source": [
    "#### Result:\n"
   ]
  },
  {
   "cell_type": "code",
   "execution_count": 13,
   "id": "64f891a6",
   "metadata": {},
   "outputs": [
    {
     "name": "stdout",
     "output_type": "stream",
     "text": [
      "      age  anaemia  creatinine_phosphokinase  diabetes  ejection_fraction  \\\n",
      "33   50.0        1                       159         1                 30   \n",
      "81   67.0        0                       582         0                 50   \n",
      "229  72.0        0                       211         0                 25   \n",
      "\n",
      "     high_blood_pressure  platelets  serum_creatinine  serum_sodium  sex  \\\n",
      "33                     0  302000.00              1.20           138    0   \n",
      "81                     0  263358.03              1.18           137    1   \n",
      "229                    0  274000.00              1.20           134    0   \n",
      "\n",
      "     smoking  time  death_event   id  \n",
      "33         0    29            0   34  \n",
      "81         1    76            0   82  \n",
      "229        0   207            0  230  \n",
      "Empty DataFrame\n",
      "Columns: [age, anaemia, creatinine_phosphokinase, diabetes, ejection_fraction, high_blood_pressure, platelets, serum_creatinine, serum_sodium, sex, smoking, time, death_event, id]\n",
      "Index: []\n"
     ]
    }
   ],
   "source": [
    "print(ex_df.sample(n=3))\n",
    "print(ex_df.sample(frac=0.001))\n",
    "\n"
   ]
  },
  {
   "cell_type": "markdown",
   "id": "157ec486",
   "metadata": {},
   "source": [
    "#### Task 12\n",
    "##### Inspect `ex_df` for the following information:\n"
   ]
  },
  {
   "cell_type": "markdown",
   "id": "bec9d76e",
   "metadata": {},
   "source": [
    "- columns\n",
    "- data types\n",
    "- info\n",
    "- statistical summary (describe)\n"
   ]
  },
  {
   "cell_type": "markdown",
   "id": "26a966a9",
   "metadata": {},
   "source": [
    "#### Result:\n"
   ]
  },
  {
   "cell_type": "code",
   "execution_count": 14,
   "id": "60e95a2d",
   "metadata": {},
   "outputs": [
    {
     "name": "stdout",
     "output_type": "stream",
     "text": [
      "<class 'pandas.core.frame.DataFrame'>\n",
      "RangeIndex: 299 entries, 0 to 298\n",
      "Data columns (total 14 columns):\n",
      " #   Column                    Non-Null Count  Dtype  \n",
      "---  ------                    --------------  -----  \n",
      " 0   age                       299 non-null    float64\n",
      " 1   anaemia                   299 non-null    int64  \n",
      " 2   creatinine_phosphokinase  299 non-null    int64  \n",
      " 3   diabetes                  299 non-null    int64  \n",
      " 4   ejection_fraction         299 non-null    int64  \n",
      " 5   high_blood_pressure       299 non-null    int64  \n",
      " 6   platelets                 299 non-null    float64\n",
      " 7   serum_creatinine          299 non-null    float64\n",
      " 8   serum_sodium              299 non-null    int64  \n",
      " 9   sex                       299 non-null    int64  \n",
      " 10  smoking                   299 non-null    int64  \n",
      " 11  time                      299 non-null    int64  \n",
      " 12  death_event               299 non-null    int64  \n",
      " 13  id                        299 non-null    int64  \n",
      "dtypes: float64(3), int64(11)\n",
      "memory usage: 32.8 KB\n"
     ]
    },
    {
     "data": {
      "text/html": [
       "<div>\n",
       "<style scoped>\n",
       "    .dataframe tbody tr th:only-of-type {\n",
       "        vertical-align: middle;\n",
       "    }\n",
       "\n",
       "    .dataframe tbody tr th {\n",
       "        vertical-align: top;\n",
       "    }\n",
       "\n",
       "    .dataframe thead th {\n",
       "        text-align: right;\n",
       "    }\n",
       "</style>\n",
       "<table border=\"1\" class=\"dataframe\">\n",
       "  <thead>\n",
       "    <tr style=\"text-align: right;\">\n",
       "      <th></th>\n",
       "      <th>age</th>\n",
       "      <th>anaemia</th>\n",
       "      <th>creatinine_phosphokinase</th>\n",
       "      <th>diabetes</th>\n",
       "      <th>ejection_fraction</th>\n",
       "      <th>high_blood_pressure</th>\n",
       "      <th>platelets</th>\n",
       "      <th>serum_creatinine</th>\n",
       "      <th>serum_sodium</th>\n",
       "      <th>sex</th>\n",
       "      <th>smoking</th>\n",
       "      <th>time</th>\n",
       "      <th>death_event</th>\n",
       "      <th>id</th>\n",
       "    </tr>\n",
       "  </thead>\n",
       "  <tbody>\n",
       "    <tr>\n",
       "      <th>count</th>\n",
       "      <td>299.000000</td>\n",
       "      <td>299.000000</td>\n",
       "      <td>299.000000</td>\n",
       "      <td>299.000000</td>\n",
       "      <td>299.000000</td>\n",
       "      <td>299.000000</td>\n",
       "      <td>299.000000</td>\n",
       "      <td>299.00000</td>\n",
       "      <td>299.000000</td>\n",
       "      <td>299.000000</td>\n",
       "      <td>299.00000</td>\n",
       "      <td>299.000000</td>\n",
       "      <td>299.00000</td>\n",
       "      <td>299.000000</td>\n",
       "    </tr>\n",
       "    <tr>\n",
       "      <th>mean</th>\n",
       "      <td>60.833893</td>\n",
       "      <td>0.431438</td>\n",
       "      <td>581.839465</td>\n",
       "      <td>0.418060</td>\n",
       "      <td>38.083612</td>\n",
       "      <td>0.351171</td>\n",
       "      <td>263358.029264</td>\n",
       "      <td>1.39388</td>\n",
       "      <td>136.625418</td>\n",
       "      <td>0.648829</td>\n",
       "      <td>0.32107</td>\n",
       "      <td>130.260870</td>\n",
       "      <td>0.32107</td>\n",
       "      <td>150.000000</td>\n",
       "    </tr>\n",
       "    <tr>\n",
       "      <th>std</th>\n",
       "      <td>11.894809</td>\n",
       "      <td>0.496107</td>\n",
       "      <td>970.287881</td>\n",
       "      <td>0.494067</td>\n",
       "      <td>11.834841</td>\n",
       "      <td>0.478136</td>\n",
       "      <td>97804.236869</td>\n",
       "      <td>1.03451</td>\n",
       "      <td>4.412477</td>\n",
       "      <td>0.478136</td>\n",
       "      <td>0.46767</td>\n",
       "      <td>77.614208</td>\n",
       "      <td>0.46767</td>\n",
       "      <td>86.458082</td>\n",
       "    </tr>\n",
       "    <tr>\n",
       "      <th>min</th>\n",
       "      <td>40.000000</td>\n",
       "      <td>0.000000</td>\n",
       "      <td>23.000000</td>\n",
       "      <td>0.000000</td>\n",
       "      <td>14.000000</td>\n",
       "      <td>0.000000</td>\n",
       "      <td>25100.000000</td>\n",
       "      <td>0.50000</td>\n",
       "      <td>113.000000</td>\n",
       "      <td>0.000000</td>\n",
       "      <td>0.00000</td>\n",
       "      <td>4.000000</td>\n",
       "      <td>0.00000</td>\n",
       "      <td>1.000000</td>\n",
       "    </tr>\n",
       "    <tr>\n",
       "      <th>25%</th>\n",
       "      <td>51.000000</td>\n",
       "      <td>0.000000</td>\n",
       "      <td>116.500000</td>\n",
       "      <td>0.000000</td>\n",
       "      <td>30.000000</td>\n",
       "      <td>0.000000</td>\n",
       "      <td>212500.000000</td>\n",
       "      <td>0.90000</td>\n",
       "      <td>134.000000</td>\n",
       "      <td>0.000000</td>\n",
       "      <td>0.00000</td>\n",
       "      <td>73.000000</td>\n",
       "      <td>0.00000</td>\n",
       "      <td>75.500000</td>\n",
       "    </tr>\n",
       "    <tr>\n",
       "      <th>50%</th>\n",
       "      <td>60.000000</td>\n",
       "      <td>0.000000</td>\n",
       "      <td>250.000000</td>\n",
       "      <td>0.000000</td>\n",
       "      <td>38.000000</td>\n",
       "      <td>0.000000</td>\n",
       "      <td>262000.000000</td>\n",
       "      <td>1.10000</td>\n",
       "      <td>137.000000</td>\n",
       "      <td>1.000000</td>\n",
       "      <td>0.00000</td>\n",
       "      <td>115.000000</td>\n",
       "      <td>0.00000</td>\n",
       "      <td>150.000000</td>\n",
       "    </tr>\n",
       "    <tr>\n",
       "      <th>75%</th>\n",
       "      <td>70.000000</td>\n",
       "      <td>1.000000</td>\n",
       "      <td>582.000000</td>\n",
       "      <td>1.000000</td>\n",
       "      <td>45.000000</td>\n",
       "      <td>1.000000</td>\n",
       "      <td>303500.000000</td>\n",
       "      <td>1.40000</td>\n",
       "      <td>140.000000</td>\n",
       "      <td>1.000000</td>\n",
       "      <td>1.00000</td>\n",
       "      <td>203.000000</td>\n",
       "      <td>1.00000</td>\n",
       "      <td>224.500000</td>\n",
       "    </tr>\n",
       "    <tr>\n",
       "      <th>max</th>\n",
       "      <td>95.000000</td>\n",
       "      <td>1.000000</td>\n",
       "      <td>7861.000000</td>\n",
       "      <td>1.000000</td>\n",
       "      <td>80.000000</td>\n",
       "      <td>1.000000</td>\n",
       "      <td>850000.000000</td>\n",
       "      <td>9.40000</td>\n",
       "      <td>148.000000</td>\n",
       "      <td>1.000000</td>\n",
       "      <td>1.00000</td>\n",
       "      <td>285.000000</td>\n",
       "      <td>1.00000</td>\n",
       "      <td>299.000000</td>\n",
       "    </tr>\n",
       "  </tbody>\n",
       "</table>\n",
       "</div>"
      ],
      "text/plain": [
       "              age     anaemia  creatinine_phosphokinase    diabetes  \\\n",
       "count  299.000000  299.000000                299.000000  299.000000   \n",
       "mean    60.833893    0.431438                581.839465    0.418060   \n",
       "std     11.894809    0.496107                970.287881    0.494067   \n",
       "min     40.000000    0.000000                 23.000000    0.000000   \n",
       "25%     51.000000    0.000000                116.500000    0.000000   \n",
       "50%     60.000000    0.000000                250.000000    0.000000   \n",
       "75%     70.000000    1.000000                582.000000    1.000000   \n",
       "max     95.000000    1.000000               7861.000000    1.000000   \n",
       "\n",
       "       ejection_fraction  high_blood_pressure      platelets  \\\n",
       "count         299.000000           299.000000     299.000000   \n",
       "mean           38.083612             0.351171  263358.029264   \n",
       "std            11.834841             0.478136   97804.236869   \n",
       "min            14.000000             0.000000   25100.000000   \n",
       "25%            30.000000             0.000000  212500.000000   \n",
       "50%            38.000000             0.000000  262000.000000   \n",
       "75%            45.000000             1.000000  303500.000000   \n",
       "max            80.000000             1.000000  850000.000000   \n",
       "\n",
       "       serum_creatinine  serum_sodium         sex    smoking        time  \\\n",
       "count         299.00000    299.000000  299.000000  299.00000  299.000000   \n",
       "mean            1.39388    136.625418    0.648829    0.32107  130.260870   \n",
       "std             1.03451      4.412477    0.478136    0.46767   77.614208   \n",
       "min             0.50000    113.000000    0.000000    0.00000    4.000000   \n",
       "25%             0.90000    134.000000    0.000000    0.00000   73.000000   \n",
       "50%             1.10000    137.000000    1.000000    0.00000  115.000000   \n",
       "75%             1.40000    140.000000    1.000000    1.00000  203.000000   \n",
       "max             9.40000    148.000000    1.000000    1.00000  285.000000   \n",
       "\n",
       "       death_event          id  \n",
       "count    299.00000  299.000000  \n",
       "mean       0.32107  150.000000  \n",
       "std        0.46767   86.458082  \n",
       "min        0.00000    1.000000  \n",
       "25%        0.00000   75.500000  \n",
       "50%        0.00000  150.000000  \n",
       "75%        1.00000  224.500000  \n",
       "max        1.00000  299.000000  "
      ]
     },
     "execution_count": 14,
     "metadata": {},
     "output_type": "execute_result"
    }
   ],
   "source": [
    "ex_df.columns\n",
    "ex_df.dtypes\n",
    "ex_df.info()\n",
    "ex_df.describe()\n"
   ]
  },
  {
   "cell_type": "markdown",
   "id": "2b7022fd",
   "metadata": {},
   "source": [
    "#### Please refer to module 4 of DataWranglingInPython - DataWranglingWithPandas for Tasks 13-16\n",
    "#### Task 13\n",
    "##### Find the number of unique values present in the columns of the DataFrame, store the result in the dictionary format with the name `ex_col_dict` and print the dictionary.\n",
    "##### Identify and pick the column which has the least number of unique values from the dictionary.\n",
    "##### Save the column as `ex_grouping_col` and print it.\n",
    "#### Result:\n"
   ]
  },
  {
   "cell_type": "code",
   "execution_count": 15,
   "id": "cba9c48a",
   "metadata": {},
   "outputs": [
    {
     "name": "stdout",
     "output_type": "stream",
     "text": [
      "{'age': 47, 'anaemia': 2, 'creatinine_phosphokinase': 208, 'diabetes': 2, 'ejection_fraction': 17, 'high_blood_pressure': 2, 'platelets': 176, 'serum_creatinine': 40, 'serum_sodium': 27, 'sex': 2, 'smoking': 2, 'time': 148, 'death_event': 2, 'id': 299}\n"
     ]
    },
    {
     "data": {
      "text/plain": [
       "'anaemia'"
      ]
     },
     "execution_count": 15,
     "metadata": {},
     "output_type": "execute_result"
    }
   ],
   "source": [
    "ex_col_dict = ex_df.nunique().to_dict()\n",
    "print(ex_col_dict)\n",
    "ex_grouping_col = min(ex_col_dict, key=ex_col_dict.get)\n",
    "ex_grouping_col\n",
    "\n"
   ]
  },
  {
   "cell_type": "markdown",
   "id": "d1cca066",
   "metadata": {},
   "source": [
    "#### Task 14\n",
    "##### Group by the column `ex_grouping_col` and assign it to a DataFrame named `ex_grouped_df`.\n",
    "##### Use the summary functions to get the count of ID variable for all the variables you just grouped in `ex_grouped_df`.\n",
    "##### Assign the output to a DataFrame called `ex_df_ID` and print that DataFrame.\n",
    "#### Result:\n"
   ]
  },
  {
   "cell_type": "code",
   "execution_count": 16,
   "id": "6f56ed7e",
   "metadata": {},
   "outputs": [
    {
     "name": "stdout",
     "output_type": "stream",
     "text": [
      "          id\n",
      "anaemia     \n",
      "0        170\n",
      "1        129\n"
     ]
    }
   ],
   "source": [
    "ex_grouped_df = ex_df.groupby(ex_grouping_col)\n",
    "ex_df_ID = ex_grouped_df.count()[['id']]\n",
    "print(ex_df_ID)\n",
    "\n"
   ]
  },
  {
   "cell_type": "markdown",
   "id": "161cc80b",
   "metadata": {},
   "source": [
    "#### Task 15\n",
    "##### Sort the values by ID.\n",
    "#### Result:\n"
   ]
  },
  {
   "cell_type": "code",
   "execution_count": 17,
   "id": "ca28bbfa",
   "metadata": {},
   "outputs": [
    {
     "data": {
      "text/html": [
       "<div>\n",
       "<style scoped>\n",
       "    .dataframe tbody tr th:only-of-type {\n",
       "        vertical-align: middle;\n",
       "    }\n",
       "\n",
       "    .dataframe tbody tr th {\n",
       "        vertical-align: top;\n",
       "    }\n",
       "\n",
       "    .dataframe thead th {\n",
       "        text-align: right;\n",
       "    }\n",
       "</style>\n",
       "<table border=\"1\" class=\"dataframe\">\n",
       "  <thead>\n",
       "    <tr style=\"text-align: right;\">\n",
       "      <th></th>\n",
       "      <th>id</th>\n",
       "    </tr>\n",
       "    <tr>\n",
       "      <th>anaemia</th>\n",
       "      <th></th>\n",
       "    </tr>\n",
       "  </thead>\n",
       "  <tbody>\n",
       "    <tr>\n",
       "      <th>1</th>\n",
       "      <td>129</td>\n",
       "    </tr>\n",
       "    <tr>\n",
       "      <th>0</th>\n",
       "      <td>170</td>\n",
       "    </tr>\n",
       "  </tbody>\n",
       "</table>\n",
       "</div>"
      ],
      "text/plain": [
       "          id\n",
       "anaemia     \n",
       "1        129\n",
       "0        170"
      ]
     },
     "execution_count": 17,
     "metadata": {},
     "output_type": "execute_result"
    }
   ],
   "source": [
    "ex_df_ID.sort_values(['id'])\n",
    "\n"
   ]
  },
  {
   "cell_type": "markdown",
   "id": "4f7b4526",
   "metadata": {},
   "source": [
    "#### Task 16\n",
    "##### In `ex_df_ID`, create a new Boolean column (containing values True or False) called `over10000_ID` .\n",
    "##### This indicates whether a row has a value for `ID` that is higher than 10000.\n",
    "#### Result:\n"
   ]
  },
  {
   "cell_type": "code",
   "execution_count": 18,
   "id": "f84100bb",
   "metadata": {},
   "outputs": [
    {
     "name": "stdout",
     "output_type": "stream",
     "text": [
      "          id  over10000_ID\n",
      "anaemia                   \n",
      "0        170         False\n",
      "1        129         False\n"
     ]
    }
   ],
   "source": [
    "over10000_ID = ex_df_ID[['id']] > 10000\n",
    "# Add the new column.\n",
    "ex_df_ID['over10000_ID'] = over10000_ID\n",
    "print(ex_df_ID.head())\n"
   ]
  },
  {
   "cell_type": "markdown",
   "id": "ba1719e1",
   "metadata": {},
   "source": [
    "#### Please refer to module 5 of DataWranglingInPython - DataWranglingWithPandas for Tasks 17-20\n",
    "#### Task 17\n",
    "##### Subset the DataFrame to have the following variables: ex_cols_list. Print head of `ex_df_subset`.\n",
    "##### Check if there are any NAs in the DataFrame and fill with mean if NAs are present.\n",
    "#### Result:\n"
   ]
  },
  {
   "cell_type": "code",
   "execution_count": 19,
   "id": "5ad6a3c3",
   "metadata": {},
   "outputs": [
    {
     "name": "stdout",
     "output_type": "stream",
     "text": [
      "   creatinine_phosphokinase   age  time  serum_creatinine  ejection_fraction  \\\n",
      "0                       582  75.0     4               1.9                 20   \n",
      "1                      7861  55.0     6               1.1                 38   \n",
      "2                       146  65.0     7               1.3                 20   \n",
      "3                       111  50.0     7               1.9                 20   \n",
      "4                       160  65.0     8               2.7                 20   \n",
      "\n",
      "   serum_sodium  platelets  smoking  anaemia  death_event  diabetes  \\\n",
      "0           130  265000.00        0        0            1         0   \n",
      "1           136  263358.03        0        0            1         0   \n",
      "2           129  162000.00        1        0            1         0   \n",
      "3           137  210000.00        0        1            1         0   \n",
      "4           116  327000.00        0        1            1         1   \n",
      "\n",
      "   high_blood_pressure  sex  \n",
      "0                    1    1  \n",
      "1                    0    1  \n",
      "2                    0    1  \n",
      "3                    0    1  \n",
      "4                    0    0  \n",
      "creatinine_phosphokinase    0\n",
      "age                         0\n",
      "time                        0\n",
      "serum_creatinine            0\n",
      "ejection_fraction           0\n",
      "serum_sodium                0\n",
      "platelets                   0\n",
      "smoking                     0\n",
      "anaemia                     0\n",
      "death_event                 0\n",
      "diabetes                    0\n",
      "high_blood_pressure         0\n",
      "sex                         0\n",
      "dtype: int64\n"
     ]
    },
    {
     "name": "stderr",
     "output_type": "stream",
     "text": [
      "C:\\Users\\624768\\AppData\\Local\\Temp\\ipykernel_22440\\3161267896.py:4: SettingWithCopyWarning: \n",
      "A value is trying to be set on a copy of a slice from a DataFrame.\n",
      "Try using .loc[row_indexer,col_indexer] = value instead\n",
      "\n",
      "See the caveats in the documentation: https://pandas.pydata.org/pandas-docs/stable/user_guide/indexing.html#returning-a-view-versus-a-copy\n",
      "  ex_df_subset[['creatinine_phosphokinase', 'age', 'time', 'serum_creatinine', 'ejection_fraction', 'serum_sodium', 'platelets']] = ex_df_subset[['creatinine_phosphokinase', 'age', 'time', 'serum_creatinine', 'ejection_fraction', 'serum_sodium', 'platelets']].fillna(ex_df_subset.mean())\n"
     ]
    }
   ],
   "source": [
    "ex_df_subset = ex_df[['creatinine_phosphokinase', 'age', 'time', 'serum_creatinine', 'ejection_fraction', 'serum_sodium', 'platelets', 'smoking', 'anaemia', 'death_event', 'diabetes', 'high_blood_pressure', 'sex']]\n",
    "print(ex_df_subset.head())\n",
    "# Set the DataFrame equal to the imputed dataset.\n",
    "ex_df_subset[['creatinine_phosphokinase', 'age', 'time', 'serum_creatinine', 'ejection_fraction', 'serum_sodium', 'platelets']] = ex_df_subset[['creatinine_phosphokinase', 'age', 'time', 'serum_creatinine', 'ejection_fraction', 'serum_sodium', 'platelets']].fillna(ex_df_subset.mean())\n",
    "# Check how many values are null in the DataFrame.\n",
    "print(ex_df_subset.isnull().sum())\n"
   ]
  },
  {
   "cell_type": "markdown",
   "id": "0aa8d782",
   "metadata": {},
   "source": [
    "#### Task 18\n",
    "##### Group `ex_df` data by the variable `ex_grouping_col`. Save as `ex_grouped`.\n",
    "##### Then group and summarize the numeric variables: ['creatinine_phosphokinase', 'age', 'time', 'serum_creatinine', 'ejection_fraction', 'serum_sodium', 'platelets'] using their means.\n",
    "##### Save as `ex_grouped_mean` and print.\n",
    "##### Reset its index and print the result.\n",
    "#### Result:\n"
   ]
  },
  {
   "cell_type": "code",
   "execution_count": 20,
   "id": "fda4662d",
   "metadata": {},
   "outputs": [
    {
     "name": "stdout",
     "output_type": "stream",
     "text": [
      "         creatinine_phosphokinase        age        time  serum_creatinine  \\\n",
      "anaemia                                                                      \n",
      "0                      742.788235  59.923529  139.805882          1.346941   \n",
      "1                      369.736434  62.033597  117.682171          1.455736   \n",
      "\n",
      "         ejection_fraction  serum_sodium      platelets  \n",
      "anaemia                                                  \n",
      "0                37.758824    136.464706  267082.215647  \n",
      "1                38.511628    136.837209  258450.186744  \n",
      "   anaemia  creatinine_phosphokinase        age        time  serum_creatinine  \\\n",
      "0        0                742.788235  59.923529  139.805882          1.346941   \n",
      "1        1                369.736434  62.033597  117.682171          1.455736   \n",
      "\n",
      "   ejection_fraction  serum_sodium      platelets  \n",
      "0          37.758824    136.464706  267082.215647  \n",
      "1          38.511628    136.837209  258450.186744  \n"
     ]
    }
   ],
   "source": [
    "# Group data by `per_capita_income` variable.\n",
    "ex_grouped = ex_df.groupby(ex_grouping_col)\n",
    "# Compute mean on the listed variables using the grouped data.\n",
    "ex_df_grouped_mean = ex_grouped.mean()[['creatinine_phosphokinase', 'age', 'time', 'serum_creatinine', 'ejection_fraction', 'serum_sodium', 'platelets']]\n",
    "print(ex_df_grouped_mean)\n",
    "# Reset index of the dataset.\n",
    "ex_df_grouped_mean = ex_df_grouped_mean.reset_index()\n",
    "print(ex_df_grouped_mean)\n"
   ]
  },
  {
   "cell_type": "markdown",
   "id": "d22f7dd2",
   "metadata": {},
   "source": [
    "#### Task 19\n",
    "##### Notice the format of `ex_grouped_mean`. We wish to convert it from wide to long format.\n",
    "##### Use the `pd.melt()` function and convert it to long format. Save as `ex_grouped_mean_long` and print the result.\n",
    "#### Result:\n"
   ]
  },
  {
   "cell_type": "code",
   "execution_count": 21,
   "id": "de301361",
   "metadata": {},
   "outputs": [
    {
     "name": "stdout",
     "output_type": "stream",
     "text": [
      "    anaemia                    metric           mean\n",
      "0         0  creatinine_phosphokinase     742.788235\n",
      "1         1  creatinine_phosphokinase     369.736434\n",
      "2         0                       age      59.923529\n",
      "3         1                       age      62.033597\n",
      "4         0                      time     139.805882\n",
      "5         1                      time     117.682171\n",
      "6         0          serum_creatinine       1.346941\n",
      "7         1          serum_creatinine       1.455736\n",
      "8         0         ejection_fraction      37.758824\n",
      "9         1         ejection_fraction      38.511628\n",
      "10        0              serum_sodium     136.464706\n",
      "11        1              serum_sodium     136.837209\n",
      "12        0                 platelets  267082.215647\n",
      "13        1                 platelets  258450.186744\n"
     ]
    }
   ],
   "source": [
    "# Melt the wide data into long.\n",
    "ex_grouped_mean_long = pd.melt(ex_df_grouped_mean,       #<- wide dataset\n",
    "                               id_vars = [ex_grouping_col],  #<- identifying variable\n",
    "                               var_name = 'metric',      #<- contains col names of wide data\n",
    "                               value_name = 'mean')      #<- contains values from above columns\n",
    "print(ex_grouped_mean_long)\n"
   ]
  },
  {
   "cell_type": "markdown",
   "id": "30559d68",
   "metadata": {},
   "source": [
    "#### Task 20\n",
    "##### Now use the `pd.pivot()` function to convert `ex_grouped_mean_long` to wide format.\n",
    "##### Save as `ex_grouped_mean_wide` and print.\n",
    "#### Result:\n"
   ]
  },
  {
   "cell_type": "code",
   "execution_count": 22,
   "id": "475a9f3f",
   "metadata": {},
   "outputs": [
    {
     "name": "stdout",
     "output_type": "stream",
     "text": [
      "metric         age  creatinine_phosphokinase  ejection_fraction  \\\n",
      "anaemia                                                           \n",
      "0        59.923529                742.788235          37.758824   \n",
      "1        62.033597                369.736434          38.511628   \n",
      "\n",
      "metric       platelets  serum_creatinine  serum_sodium        time  \n",
      "anaemia                                                             \n",
      "0        267082.215647          1.346941    136.464706  139.805882  \n",
      "1        258450.186744          1.455736    136.837209  117.682171  \n"
     ]
    }
   ],
   "source": [
    "# Melt the long data into wide.\n",
    "ex_grouped_mean_wide = ex_grouped_mean_long.pivot(\n",
    "                                      index = [ex_grouping_col],     #<- identifying variable\n",
    "                                      columns = 'metric', #<- contains col names of wide data\n",
    "                                      values = 'mean')    #<- contains values from above columns\n",
    "print(ex_grouped_mean_wide)\n",
    "\n",
    "\n"
   ]
  }
 ],
 "metadata": {
  "kernelspec": {
   "display_name": "Python 3 (ipykernel)",
   "language": "python",
   "name": "python3"
  },
  "language_info": {
   "codemirror_mode": {
    "name": "ipython",
    "version": 3
   },
   "file_extension": ".py",
   "mimetype": "text/x-python",
   "name": "python",
   "nbconvert_exporter": "python",
   "pygments_lexer": "ipython3",
   "version": "3.9.12"
  }
 },
 "nbformat": 4,
 "nbformat_minor": 5
}
