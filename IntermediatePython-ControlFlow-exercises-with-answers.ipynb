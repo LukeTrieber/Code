{
 "cells": [
  {
   "cell_type": "code",
   "execution_count": null,
   "id": "729d26a5",
   "metadata": {},
   "outputs": [],
   "source": [
    "#######################################################\n",
    "#######################################################\n",
    "#######################################################\n",
    "\n",
    "## Intermediate Python: Control Flow - 3 EXERCISE ANSWERS ##\n",
    "\n",
    "\n",
    "\n",
    "\n"
   ]
  },
  {
   "cell_type": "markdown",
   "id": "6b2060d6",
   "metadata": {},
   "source": [
    "#### Please refer to module 1 of IntermediatePython - ControlFlow for Tasks 1-4 \n",
    "#### Task 1\n",
    "##### Let `x` be equal to -56.\n",
    "##### Build a conditional statement that checks whether the absolute value of `x` is greater than or equal to `x*(-1)` OR  whether `x` is less than `100/(-2)`.\n",
    "##### Print the result.\n",
    "#### Result:\n"
   ]
  },
  {
   "cell_type": "code",
   "execution_count": null,
   "id": "8f5a7923",
   "metadata": {},
   "outputs": [],
   "source": [
    "\n",
    "x = -56\n",
    "print(abs(x) >= x*(-1) or x < 100/(-2))\n",
    "\n"
   ]
  },
  {
   "cell_type": "markdown",
   "id": "8e4b3e60",
   "metadata": {},
   "source": [
    "#### Task 2\n",
    "##### Assign the conditional statement from Task 1 to a variable `condition_1`.\n",
    "##### Create a variable `condition_2` and assign it the following conditional expression: check if string `\"ABC\"` is equal to string `\"abc\"`.\n",
    "##### Let `output` variable be the output of the following compound expression: check whether `condition_1` and `condition_2` both hold.\n",
    "##### Print the `output` variable.\n",
    "##### Which of the two conditions is `False`? Why do you think that's the case?\n",
    "#### Result:\n"
   ]
  },
  {
   "cell_type": "code",
   "execution_count": null,
   "id": "8e984ac2",
   "metadata": {},
   "outputs": [],
   "source": [
    "\n",
    "condition_1 = abs(x) >= x*(-1) or x < 100/(-2)\n",
    "condition_2 = \"ABC\" == 'abc'\n",
    "output = condition_1 and condition_2\n",
    "print(output)\n",
    "\n",
    "# Condition_2 is false because capitalization matters.\n",
    "# \"ABC\" is not the same as \"abc\".\n",
    "\n"
   ]
  },
  {
   "cell_type": "markdown",
   "id": "59cbac32",
   "metadata": {},
   "source": [
    "#### Task 3\n",
    "##### Create a variable `x`. Assign any number to `x`.\n",
    "##### Now build the following `if-else` statement to check if `x` is an `odd` or an `even` number: If `x` is even, print \"x is even\"; otherwise print \"x is odd\".\n",
    "##### *Hint: you can find out if a number is odd or even by using the modulus symbol %.*\n",
    "##### Try out different values of `x` and check what output you get when running the `if-else` block.\n",
    "#### Result:\n"
   ]
  },
  {
   "cell_type": "code",
   "execution_count": null,
   "id": "79379eca",
   "metadata": {},
   "outputs": [],
   "source": [
    "\n",
    "x = 9\n",
    "if x % 2 == 0:\n",
    "    print('x is even')\n",
    "else:\n",
    "    print('x is odd')\n",
    "\n"
   ]
  },
  {
   "cell_type": "markdown",
   "id": "27afc511",
   "metadata": {},
   "source": [
    "#### Task 4    \n",
    "##### Let variable `item_price` be equal to any number between 1000 and 3000.\n",
    "##### Build the following nested `if-else` statement:\n",
    "##### If `item_price` is less than 3000, then check whether it is less than 1800,\n",
    "#####     If it is less than or equal to 1800, then print \"I'll buy 2 items\"\n",
    "#####     Otherwise, print \"I'll buy 1 item\"\n",
    "##### If `item_price` is not less than 3000, print \"This item is too expensive for me!\"\n",
    "##### Try out a few different values within the same range, check the output each time.\n",
    "#### Result:\n"
   ]
  },
  {
   "cell_type": "code",
   "execution_count": null,
   "id": "3577e7bc",
   "metadata": {},
   "outputs": [],
   "source": [
    "\n",
    "item_price = 1200\n",
    "\n",
    "if item_price < 3000:\n",
    "    if item_price <= 1800:\n",
    "        print(\"I'll buy 2 items\")\n",
    "    else:\n",
    "        print(\"I'll buy 1 item\")\n",
    "else: \n",
    "    print(\"This item is too expensive for me!\")\n"
   ]
  },
  {
   "cell_type": "markdown",
   "id": "ad0481fb",
   "metadata": {},
   "source": [
    "#### Please refer to module 2 of IntermediatePython - ControlFlow for Tasks 5-8 \n",
    "#### Task 5\n",
    "##### Make a shopping list that consists of following items and assign it to a variable `shopping_list`:\n"
   ]
  },
  {
   "cell_type": "markdown",
   "id": "14d572a8",
   "metadata": {},
   "source": [
    "- milk\n",
    "- eggs\n",
    "- peppers\n",
    "- cheese\n",
    "- tomatoes\n",
    "\n"
   ]
  },
  {
   "cell_type": "markdown",
   "id": "093ed633",
   "metadata": {},
   "source": [
    "##### For each of the items in the list, do the following using a single `for` loop:\n"
   ]
  },
  {
   "cell_type": "markdown",
   "id": "897ee691",
   "metadata": {},
   "source": [
    "- Print \"Add [item] to cart\"\n",
    "- Print \"Pay for [item]\"\n",
    "- Print \"Put [item] into shopping bag\"\n",
    "\n"
   ]
  },
  {
   "cell_type": "markdown",
   "id": "0c7ecca3",
   "metadata": {},
   "source": [
    "##### What do you think this is a recipe for? :)\n",
    "#### Result:\n"
   ]
  },
  {
   "cell_type": "code",
   "execution_count": null,
   "id": "c6a43e96",
   "metadata": {},
   "outputs": [],
   "source": [
    "\n",
    "shopping_list = ['milk', 'eggs', 'peppers', 'cheese', 'tomatoes']\n",
    "\n",
    "for i in shopping_list:\n",
    "    print('Add ' + i + ' to cart')\n",
    "    print('Pay for ' + i)\n",
    "    print('Put ' + i + ' into shopping bag')\n",
    "    \n",
    "# This could be a recipe for an omelette!\n",
    "\n"
   ]
  },
  {
   "cell_type": "markdown",
   "id": "bd5f3853",
   "metadata": {},
   "source": [
    "#### Task 6\n"
   ]
  },
  {
   "cell_type": "markdown",
   "id": "e4fa3a88",
   "metadata": {},
   "source": [
    "##### As in Task 5, create a  `for` loop. \n",
    "##### This time, make one that looks up the item in the list using its index.\n"
   ]
  },
  {
   "cell_type": "markdown",
   "id": "5d62f3b8",
   "metadata": {},
   "source": [
    "##### Hint: make use of a variable like `list_length` that captures the length of the `shopping_list` variable! \n",
    "#### Result:\n"
   ]
  },
  {
   "cell_type": "code",
   "execution_count": null,
   "id": "0ef23448",
   "metadata": {},
   "outputs": [],
   "source": [
    "shopping_list = ['milk', 'eggs', 'peppers', 'cheese', 'tomatoes']\n",
    "list_length = len(shopping_list)\n",
    "\n",
    "for i in range(list_length):\n",
    "    print('Add ' + shopping_list[i] + ' to cart')\n",
    "    print('Pay for ' + shopping_list[i])\n",
    "    print('Put ' + shopping_list[i] + ' into shopping bag')\n",
    "    \n"
   ]
  },
  {
   "cell_type": "markdown",
   "id": "8b2e46d5",
   "metadata": {},
   "source": [
    "#### Task 7\n",
    "##### Create a list `num_list` of all values between 50 and 130 (not including 130)\n",
    "##### that are evenly divisible by 21 (i.e. where the remainder = 0).\n",
    "##### Create using list comprehension.\n",
    "##### Hint: What is the syntax for returning the remainder?\n",
    "#### Result:\n"
   ]
  },
  {
   "cell_type": "code",
   "execution_count": null,
   "id": "6a8dac65",
   "metadata": {},
   "outputs": [],
   "source": [
    "num_list = [x for x in range(50,130) if x%21==0]\n",
    "num_list\n",
    "\n"
   ]
  },
  {
   "cell_type": "markdown",
   "id": "b5cbed10",
   "metadata": {},
   "source": [
    "#### Task 8\n",
    "##### Use the dictionary `family` given below.\n",
    "##### Print the name and the age of each member of the family.\n"
   ]
  },
  {
   "cell_type": "markdown",
   "id": "5b5dbf12",
   "metadata": {},
   "source": [
    "#### family = {'Max':10, 'Marie':12, 'John':40, 'Jane':38}\n",
    "#### Result:\n"
   ]
  },
  {
   "cell_type": "code",
   "execution_count": null,
   "id": "875bba0d",
   "metadata": {},
   "outputs": [],
   "source": [
    "\n",
    "family = {'Max':10, 'Marie':12, 'John':40, 'Jane':38}\n",
    "\n",
    "for key, value in family.items():\n",
    "    print(key, value)\n"
   ]
  },
  {
   "cell_type": "markdown",
   "id": "346d9a38",
   "metadata": {},
   "source": [
    "#### Please refer to module 3 of IntermediatePython - ControlFlow for Tasks 9-11 \n",
    "#### Task 9\n",
    "##### Re-write the loop from Task 5 using the `while` construct.\n",
    "#### Result:\n"
   ]
  },
  {
   "cell_type": "code",
   "execution_count": null,
   "id": "460d034d",
   "metadata": {},
   "outputs": [],
   "source": [
    "\n",
    "shopping_list = ['milk', 'eggs', 'peppers', 'cheese', 'tomatoes']\n",
    "list_length = len(shopping_list)\n",
    "\n",
    "x = 0\n",
    "\n",
    "while x < len(shopping_list):\n",
    "    print('Add ' + shopping_list[x] + ' to cart')\n",
    "    print('Pay for ' + shopping_list[x])\n",
    "    print('Put ' + shopping_list[x] + ' into shopping bag')\n",
    "    x = x + 1\n",
    "    \n"
   ]
  },
  {
   "cell_type": "markdown",
   "id": "b32ef3a8",
   "metadata": {},
   "source": [
    "#### Task 10\n",
    "##### Create a variable `my_list` = ['introduction', 'to', 'programming', 'in', 'python']\n",
    "##### Use a `while` loop to print all elements in the list, from the first to the last.\n"
   ]
  },
  {
   "cell_type": "markdown",
   "id": "4595bd43",
   "metadata": {},
   "source": [
    "#### Result:\n"
   ]
  },
  {
   "cell_type": "code",
   "execution_count": null,
   "id": "0a856cba",
   "metadata": {},
   "outputs": [],
   "source": [
    "my_list = ['introduction', 'to', 'programming', 'in', 'python']\n",
    "while my_list:\n",
    "    print(my_list.pop(0))\n",
    "    \n"
   ]
  },
  {
   "cell_type": "markdown",
   "id": "5a8e5b89",
   "metadata": {},
   "source": [
    "#### Task 11\n"
   ]
  },
  {
   "cell_type": "markdown",
   "id": "ec2e78b4",
   "metadata": {},
   "source": [
    "##### Create a list of 30 random integers from 1 to 100 using either for loop or list comprehension.\n",
    "##### Hint: random.randint(1, 100) will give you 1 random integer in 1 to 100.\n",
    "##### Create a variable `my_num` = 44.\n",
    "##### Use a while loop to print all numbers in `numbers` .\n",
    "##### If `my_num` is found, terminate the loop and print: Found my number!\n",
    "##### Hint: use break\n"
   ]
  },
  {
   "cell_type": "code",
   "execution_count": null,
   "id": "4b65b5b8",
   "metadata": {},
   "outputs": [],
   "source": [
    "\n",
    "# Run this chunk of code before you answer the question below!\n",
    "import random\n",
    "random.seed(123)\n"
   ]
  },
  {
   "cell_type": "markdown",
   "id": "5760986c",
   "metadata": {},
   "source": [
    "#### Result:\n"
   ]
  },
  {
   "cell_type": "code",
   "execution_count": null,
   "id": "a5be28d1",
   "metadata": {},
   "outputs": [],
   "source": [
    "\n",
    "# List comprehension\n",
    "numbers = [random.randint(1,100) for i in range(30)]\n",
    "\n",
    "# For loop\n",
    "numbers = []\n",
    "for i in range(30):\n",
    "    numbers.append(random.randint(1,100))\n",
    "\n",
    "print(numbers)\n",
    "\n",
    "my_num = 44\n",
    "n = 0\n",
    "while n < 30:\n",
    "    if numbers[n] == my_num:\n",
    "        break\n",
    "    print(numbers[n])\n",
    "    n += 1\n",
    "print(\"Found my number!\")\n",
    "\n",
    "\n",
    "\n"
   ]
  }
 ],
 "metadata": {
  "language": "python"
 },
 "nbformat": 4,
 "nbformat_minor": 5
}
