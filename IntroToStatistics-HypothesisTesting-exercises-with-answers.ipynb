{
 "cells": [
  {
   "cell_type": "code",
   "execution_count": null,
   "id": "a257978e",
   "metadata": {},
   "outputs": [],
   "source": [
    "#######################################################\n",
    "#######################################################\n",
    "#######################################################\n",
    "\n",
    "## Intro To Statistics: Hypothesis Testing - 2 EXERCISE ANSWERS ##\n",
    "\n",
    "\n",
    "\n"
   ]
  },
  {
   "cell_type": "markdown",
   "id": "8a444e59",
   "metadata": {},
   "source": [
    "#### Exercise ####\n"
   ]
  },
  {
   "cell_type": "markdown",
   "id": "9618ab5e",
   "metadata": {},
   "source": [
    "#### Please refer to module 1 of Intro To Statistics - Hypothesis Testing for Tasks 1-7\n",
    "#### Task 1\n",
    "##### Review the tasks below and import the packages required to complete them.\n",
    "##### Set the working directory to data directory.\n",
    "##### Print the working directory.\n",
    "#### Result:\n"
   ]
  },
  {
   "cell_type": "code",
   "execution_count": 1,
   "id": "4fc59f42",
   "metadata": {},
   "outputs": [
    {
     "name": "stdout",
     "output_type": "stream",
     "text": [
      "C:\\\n",
      "C:\\/data\n"
     ]
    }
   ],
   "source": [
    "import os\n",
    "import numpy as np\n",
    "import pandas as pd\n",
    "from pathlib import Path\n",
    "from scipy.stats import norm\n",
    "import matplotlib.pyplot as plt\n",
    "from statsmodels.graphics.gofplots import qqplot\n",
    "\n",
    "# Set 'main_dir' to location of the project folder\n",
    "home_dir = Path(\".\").resolve()\n",
    "main_dir = home_dir.parent.parent\n",
    "print(main_dir)\n",
    "data_dir = str(main_dir) + \"/data\"\n",
    "print(data_dir)\n",
    "\n"
   ]
  },
  {
   "cell_type": "markdown",
   "id": "d8c80436",
   "metadata": {},
   "source": [
    "#### Task 2\n",
    "##### Load `ChemicalManufacturingProcess.csv` from the data folder as ex_data.\n",
    "##### The goal is to understand the relationship between two variables.\n",
    "##### Print the head() of data, shape, number of rows and number of columns.\n",
    "##### Subset the data to contain only numeric variables.\n",
    "##### Drop NaN values and reset index.\n"
   ]
  },
  {
   "cell_type": "markdown",
   "id": "46e62f9a",
   "metadata": {},
   "source": [
    "#### Result:\n"
   ]
  },
  {
   "cell_type": "code",
   "execution_count": 2,
   "id": "a9bc4377",
   "metadata": {},
   "outputs": [
    {
     "name": "stdout",
     "output_type": "stream",
     "text": [
      "   Yield  BiologicalMaterial01  BiologicalMaterial02  BiologicalMaterial03  \\\n",
      "0  38.00                  6.25                 49.58                 56.97   \n",
      "1  42.44                  8.01                 60.97                 67.48   \n",
      "2  42.03                  8.01                 60.97                 67.48   \n",
      "3  41.42                  8.01                 60.97                 67.48   \n",
      "4  42.49                  7.47                 63.33                 72.25   \n",
      "\n",
      "   BiologicalMaterial04  BiologicalMaterial05  BiologicalMaterial06  \\\n",
      "0                 12.74                 19.51                 43.73   \n",
      "1                 14.65                 19.36                 53.14   \n",
      "2                 14.65                 19.36                 53.14   \n",
      "3                 14.65                 19.36                 53.14   \n",
      "4                 14.02                 17.91                 54.66   \n",
      "\n",
      "   BiologicalMaterial07  BiologicalMaterial08  BiologicalMaterial09  ...  \\\n",
      "0                 100.0                 16.66                 11.44  ...   \n",
      "1                 100.0                 19.04                 12.55  ...   \n",
      "2                 100.0                 19.04                 12.55  ...   \n",
      "3                 100.0                 19.04                 12.55  ...   \n",
      "4                 100.0                 18.22                 12.80  ...   \n",
      "\n",
      "   ManufacturingProcess37  ManufacturingProcess38  ManufacturingProcess39  \\\n",
      "0                     0.5                       3                     7.2   \n",
      "1                     2.0                       2                     7.2   \n",
      "2                     0.7                       2                     7.2   \n",
      "3                     1.2                       2                     7.2   \n",
      "4                     0.2                       2                     7.3   \n",
      "\n",
      "   ManufacturingProcess40  ManufacturingProcess41  ManufacturingProcess42  \\\n",
      "0                     NaN                     NaN                    11.6   \n",
      "1                     0.1                    0.15                    11.1   \n",
      "2                     0.0                    0.00                    12.0   \n",
      "3                     0.0                    0.00                    10.6   \n",
      "4                     0.0                    0.00                    11.0   \n",
      "\n",
      "   ManufacturingProcess43  ManufacturingProcess44  ManufacturingProcess45  id  \n",
      "0                     3.0                     1.8                     2.4   1  \n",
      "1                     0.9                     1.9                     2.2   2  \n",
      "2                     1.0                     1.8                     2.3   3  \n",
      "3                     1.1                     1.8                     2.1   4  \n",
      "4                     1.1                     1.7                     2.1   5  \n",
      "\n",
      "[5 rows x 59 columns]\n",
      "<class 'pandas.core.frame.DataFrame'>\n",
      "176\n",
      "176\n",
      "59\n"
     ]
    }
   ],
   "source": [
    "ex_df = pd.read_csv('ChemicalManufacturingProcess.csv')\n",
    "print(ex_df.head())\n",
    "print(type(ex_df))\n",
    "print(len(ex_df))\n",
    "ex_nrows, ex_ncols = ex_df.shape\n",
    "print(ex_nrows)\n",
    "print(ex_ncols)\n",
    "# Subset data\n",
    "ex_df = ex_df[['ManufacturingProcess03', 'ManufacturingProcess11', 'ManufacturingProcess10', 'ManufacturingProcess25', 'ManufacturingProcess30', 'ManufacturingProcess28', 'ManufacturingProcess35', 'ManufacturingProcess27', 'ManufacturingProcess31', 'ManufacturingProcess33', 'ManufacturingProcess26', 'ManufacturingProcess29', 'ManufacturingProcess02', 'ManufacturingProcess06', 'ManufacturingProcess14', 'ManufacturingProcess22', 'ManufacturingProcess04', 'ManufacturingProcess24', 'ManufacturingProcess01', 'ManufacturingProcess05', 'ManufacturingProcess20', 'ManufacturingProcess42', 'ManufacturingProcess18', 'BiologicalMaterial06', 'ManufacturingProcess21', 'ManufacturingProcess43', 'ManufacturingProcess13', 'BiologicalMaterial09', 'BiologicalMaterial05', 'ManufacturingProcess19', 'ManufacturingProcess17', 'BiologicalMaterial10', 'BiologicalMaterial04', 'ManufacturingProcess45', 'BiologicalMaterial03', 'ManufacturingProcess16', 'BiologicalMaterial12', 'ManufacturingProcess15', 'ManufacturingProcess37', 'BiologicalMaterial08', 'BiologicalMaterial01', 'BiologicalMaterial11', 'Yield', 'ManufacturingProcess32', 'ManufacturingProcess39', 'BiologicalMaterial02', 'ManufacturingProcess09']]\n",
    "ex_df = ex_df.dropna().reset_index()\n",
    "\n"
   ]
  },
  {
   "cell_type": "markdown",
   "id": "568efa23",
   "metadata": {},
   "source": [
    "#### Task 3\n",
    "##### Define `ex_sd` to be the population standard deviation to be `1.8762296787190247`.\n",
    "##### Then, calculate the standard error of the sample mean, and save it to a variable `ex_se`.\n",
    "#### Result:\n"
   ]
  },
  {
   "cell_type": "code",
   "execution_count": 3,
   "id": "6ac31308",
   "metadata": {},
   "outputs": [
    {
     "name": "stdout",
     "output_type": "stream",
     "text": [
      "0.1521823224247571\n"
     ]
    }
   ],
   "source": [
    "ex_sd = 1.8762296787190247\n",
    "ex_se = ex_sd / np.sqrt(len(ex_df))\n",
    "print(ex_se)\n",
    "\n"
   ]
  },
  {
   "cell_type": "markdown",
   "id": "3f467907",
   "metadata": {},
   "source": [
    "#### Task 4\n",
    "##### Next, calculate the margin of error (MOE) for a 95% confidence interval.\n",
    "##### HINT: by the empirical rule, 95% confidence interval implies z = 2.\n",
    "##### Save this MOE as `ex_moe_95`.\n",
    "#### Result:\n"
   ]
  },
  {
   "cell_type": "code",
   "execution_count": 4,
   "id": "4a7a6600",
   "metadata": {},
   "outputs": [
    {
     "data": {
      "text/plain": [
       "0.3043646448495142"
      ]
     },
     "execution_count": 4,
     "metadata": {},
     "output_type": "execute_result"
    }
   ],
   "source": [
    "ex_moe_95 = 2 * ex_se\n",
    "ex_moe_95\n",
    "\n"
   ]
  },
  {
   "cell_type": "markdown",
   "id": "ad107401",
   "metadata": {},
   "source": [
    "#### Task 5\n",
    "##### Create a variable `ex_mean` that is the mean of `'Yield'` column.\n",
    "##### Using this as the sample mean and the MOE calculated in the previous problem, \n",
    "##### create a 95% confidence interval for the population mean.\n",
    "##### Name the lower bound `CI_lower` and the upper bound `CI_upper`.\n",
    "#### Result:\n"
   ]
  },
  {
   "cell_type": "code",
   "execution_count": 5,
   "id": "6074958e",
   "metadata": {},
   "outputs": [
    {
     "name": "stdout",
     "output_type": "stream",
     "text": [
      "CI_lower:  39.823727460413664\n",
      "CI_upper:  40.43245675011269\n"
     ]
    }
   ],
   "source": [
    "# Define the mean.\n",
    "selected_column = 'Yield'\n",
    "ex_mean = ex_df[selected_column].mean()\n",
    "\n",
    "# The lower bound.\n",
    "CI_lower = ex_mean - ex_moe_95\n",
    "print(\"CI_lower: \",CI_lower)\n",
    "\n",
    "# The upper bound.\n",
    "CI_upper = ex_mean + ex_moe_95\n",
    "print(\"CI_upper: \",CI_upper)\n",
    "\n"
   ]
  },
  {
   "cell_type": "markdown",
   "id": "9764c356",
   "metadata": {},
   "source": [
    "#### Task 6\n",
    "##### Determine an appropriate z-value for a 90% confidence interval.\n",
    "##### Calculate the MOE using this z-value.\n",
    "##### Then calculate the upper and lower bounds of a 90% confidence interval.\n",
    "##### How does this interval compare to the 95% confidence interval?\n",
    "#### Result:\n"
   ]
  },
  {
   "cell_type": "code",
   "execution_count": 6,
   "id": "2843458e",
   "metadata": {},
   "outputs": [
    {
     "name": "stdout",
     "output_type": "stream",
     "text": [
      "-1.6448536269514729\n",
      "CI_lower:  39.823727460413664\n",
      "CI_upper:  39.87777446026492\n"
     ]
    }
   ],
   "source": [
    "# Calculate the appropriate z value using the qnorm function.\n",
    "z_score_90 = norm.ppf(0.05)\n",
    "print(z_score_90)\n",
    "\n",
    "# Calculate MOE.\n",
    "ex_moe_90 = z_score_90 * ex_se\n",
    "\n",
    "# The lower bound.\n",
    "CI_lower_90 = ex_mean - ex_moe_95\n",
    "print(\"CI_lower: \",CI_lower_90)\n",
    "\n",
    "# The upper bound.\n",
    "CI_upper_90 = ex_mean + ex_moe_90\n",
    "print(\"CI_upper: \", CI_upper_90)\n",
    "\n"
   ]
  },
  {
   "cell_type": "markdown",
   "id": "a2d5f0f7",
   "metadata": {},
   "source": [
    "#### Please refer to module 2 of Intro To Statistics - Hypothesis Testing for Tasks 7-11\n",
    "#### Task 7\n",
    "##### We are going to conduct a hypothesis test at the alpha = 0.10 level. \n",
    "##### Assume a claim has an average of 'Yield' as 36.83, with a population standard deviation of `ex_std`, as previously assumed. \n",
    "##### Our `ex_df` dataframe will serve as a random sample of the population.\n",
    "##### Our belief is that the average `'Yield'` is less than 36.83, and we will conduct our test in hopes to prove so.\n",
    "##### What are our null and alternative hypotheses?\n",
    "#### Result:\n"
   ]
  },
  {
   "cell_type": "code",
   "execution_count": null,
   "id": "a14fbfc4",
   "metadata": {},
   "outputs": [],
   "source": [
    "\n",
    "# - Null hypothesis: the average `'Yield'` value is 36.83\n",
    "# - Alternative hypothesis: the average `'Yield'` value is less than 36.83\n",
    "\n"
   ]
  },
  {
   "cell_type": "markdown",
   "id": "c6aabf96",
   "metadata": {},
   "source": [
    "#### Task 8\n",
    "##### To test the hypothesis in Task 7, we will first calculate the z-score\n",
    "##### Calculate the z-score and save it to a variable `z_ex_df_90`\n",
    "##### Calculate the p-value and save it to a variable `p_ex_df_90`\n",
    "##### What is our conclusion of this hypothesis test?\n",
    "#### Result:\n"
   ]
  },
  {
   "cell_type": "code",
   "execution_count": 7,
   "id": "b6caf9d6",
   "metadata": {},
   "outputs": [
    {
     "name": "stdout",
     "output_type": "stream",
     "text": [
      "Z-score -2.0495671886663107\n",
      "p-value:  0.02020334251494722\n",
      "At the alpha = 0.01 significance level, Here, we decide to fail to reject the null hypothesis, since 0.02020334251494722 >= 0.01\n"
     ]
    }
   ],
   "source": [
    "z_ex_df_90 = (ex_mean - 40.44)/(ex_se)\n",
    "print(\"Z-score\", z_ex_df_90)\n",
    "\n",
    "p_ex_df_90 = norm.cdf(z_ex_df_90)\n",
    "print(\"p-value: \", p_ex_df_90)\n",
    "\n",
    "if p_ex_df_90 < 0.01:\n",
    "  ex_hypothesis = \"reject the null hypothesis, since \"+ str(p_ex_df_90) + \" < 0.01\"\n",
    "else:\n",
    "  ex_hypothesis =  \"fail to reject the null hypothesis, since \"+ str(p_ex_df_90) + \" >= 0.01\"\n",
    "\n",
    "print(\"At the alpha = 0.01 significance level, Here, we decide to \"+ ex_hypothesis)\n",
    "\n"
   ]
  },
  {
   "cell_type": "markdown",
   "id": "168c31b5",
   "metadata": {},
   "source": [
    "#### Task 9\n",
    "##### We are going to conduct a two-tailed hypothesis test at the alpha = 0.05 level.\n",
    "##### Assume another research has claimed the average selected_column is 36.83, with a population standard deviation of 1.8762296787190247. \n",
    "##### Our `ex_df` dataframe will serve as a random sample of the population.\n",
    "##### Our belief is that the average `'Yield'` cannot be equal to 36.83, and we will conduct our test in hopes in proving so.\n",
    "##### Print our null and alternative hypothesis?\n",
    "#### Result:\n"
   ]
  },
  {
   "cell_type": "code",
   "execution_count": 8,
   "id": "febd1b47",
   "metadata": {},
   "outputs": [
    {
     "name": "stdout",
     "output_type": "stream",
     "text": [
      "Null hypothesis: the average 'Yield'  value is 36.83\n",
      "Alternative hypothesis: the average 'Yield'  value is not equal to 36.83\n"
     ]
    }
   ],
   "source": [
    "print(\"Null hypothesis: the average 'Yield'  value is 36.83\")\n",
    "print(\"Alternative hypothesis: the average 'Yield'  value is not equal to 36.83\")\n",
    "\n"
   ]
  },
  {
   "cell_type": "markdown",
   "id": "1e9a17ab",
   "metadata": {},
   "source": [
    "#### Task 10\n",
    "##### Calculate the z-score using formula as `z_twotail`.\n",
    "##### Next, calculate the p-value of this z-score.\n",
    "##### What is the conclusion of this hypothesis test?\n",
    "#### Result:\n"
   ]
  },
  {
   "cell_type": "code",
   "execution_count": 9,
   "id": "4621a914",
   "metadata": {},
   "outputs": [
    {
     "name": "stdout",
     "output_type": "stream",
     "text": [
      "21.671979062442304\n",
      "1.0\n",
      "At the alpha = 0.025 significance level, Here, we decide to fail to reject the null hypothesis, since 1.0 >= 0.025\n"
     ]
    }
   ],
   "source": [
    "z_twotail = (ex_mean - 36.83)/(ex_se)\n",
    "print(z_twotail)\n",
    "\n",
    "p_twotail = norm.cdf(z_twotail)\n",
    "print(p_twotail)\n",
    "\n",
    "if p_twotail < 0.025:\n",
    "  ex_hypothesis_two = \"reject the null hypothesis, since \"+ str(p_twotail) + \" < 0.025\"\n",
    "else:\n",
    "  ex_hypothesis_two =  \"fail to reject the null hypothesis, since \"+ str(p_twotail) + \" >= 0.025\"\n",
    "\n",
    "print(\"At the alpha = 0.025 significance level, Here, we decide to \"+ ex_hypothesis_two)\n",
    "\n"
   ]
  },
  {
   "cell_type": "markdown",
   "id": "9b48e9a1",
   "metadata": {},
   "source": [
    "#### Task 11\n",
    "##### Create a 95% confidence interval, and determine whether it confirms your results.\n",
    "#### Result:\n"
   ]
  },
  {
   "cell_type": "code",
   "execution_count": 10,
   "id": "9e6c9739",
   "metadata": {},
   "outputs": [
    {
     "name": "stdout",
     "output_type": "stream",
     "text": [
      "-1.9599639845400545\n",
      "39.82982023422699\n",
      "40.42636397629936\n",
      "The conclusion is to  fail to reject the null hypothesis\n",
      "If we look at the 95% confidence interval for the test (39.82982023422699, 40.42636397629936), we can see that 36.83 is not inside that interval.\n"
     ]
    }
   ],
   "source": [
    "# Create a z score for the confidence interval.\n",
    "z_twotail_95 = norm.ppf(0.025)\n",
    "print(z_twotail_95)\n",
    "\n",
    "CI_lower = ex_mean + z_twotail_95*ex_se\n",
    "print(CI_lower)\n",
    "\n",
    "CI_upper = ex_mean - z_twotail_95*ex_se\n",
    "print(CI_upper)\n",
    "\n",
    "\n",
    "if ex_mean > CI_lower and ex_mean <= CI_lower:\n",
    "  ex_conclusion = \" reject the null hypothesis\"\n",
    "  ex_cl = \"inside\"\n",
    "else:\n",
    "  ex_conclusion =  \" fail to reject the null hypothesis\"\n",
    "  ex_cl = \"not inside\"\n",
    "print(\"The conclusion is to \"+ex_conclusion)\n",
    "print(f\"If we look at the 95% confidence interval for the test ({CI_lower}, {CI_upper}), we can see that 36.83 is {ex_cl} that interval.\")\n",
    "\n",
    "\n",
    "\n"
   ]
  },
  {
   "cell_type": "code",
   "execution_count": null,
   "id": "9bbdf741",
   "metadata": {},
   "outputs": [],
   "source": []
  }
 ],
 "metadata": {
  "kernelspec": {
   "display_name": "Python 3 (ipykernel)",
   "language": "python",
   "name": "python3"
  },
  "language_info": {
   "codemirror_mode": {
    "name": "ipython",
    "version": 3
   },
   "file_extension": ".py",
   "mimetype": "text/x-python",
   "name": "python",
   "nbconvert_exporter": "python",
   "pygments_lexer": "ipython3",
   "version": "3.9.12"
  }
 },
 "nbformat": 4,
 "nbformat_minor": 5
}
