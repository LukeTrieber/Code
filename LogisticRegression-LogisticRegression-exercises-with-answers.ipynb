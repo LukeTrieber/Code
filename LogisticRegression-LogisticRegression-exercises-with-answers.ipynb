{
 "cells": [
  {
   "cell_type": "code",
   "execution_count": 1,
   "id": "25bf0f4c",
   "metadata": {},
   "outputs": [],
   "source": [
    "#######################################################\n",
    "#######################################################\n",
    "#######################################################\n",
    "\n",
    "## Logistic Regression: Logistic Regression - 3 EXERCISE ANSWERS ##\n",
    "\n",
    "\n",
    "\n"
   ]
  },
  {
   "cell_type": "markdown",
   "id": "c86a0c2c",
   "metadata": {},
   "source": [
    "#### Exercise ####\n"
   ]
  },
  {
   "cell_type": "markdown",
   "id": "c22f3082",
   "metadata": {},
   "source": [
    "#### Please refer to module 2 of LogisticRegression - LogisticRegression for Tasks 1-8\n",
    "#### Task 1\n",
    "##### Import the required packages. (Revisit this question as you complete the remaining exercises)\n",
    "##### Set the working directory to data directory.\n",
    "##### Print the working directory.\n",
    "##### Import the dataset as `ex_df`.\n",
    "##### Subset the DataFrame to include only numeric and categorical columns.\n",
    "#### Result:\n"
   ]
  },
  {
   "cell_type": "code",
   "execution_count": 2,
   "id": "73c7a8ba",
   "metadata": {},
   "outputs": [
    {
     "name": "stdout",
     "output_type": "stream",
     "text": [
      "C:\\\n",
      "C:\\/data\n"
     ]
    }
   ],
   "source": [
    "import os\n",
    "import numpy as np\n",
    "import pandas as pd\n",
    "import matplotlib.pyplot as plt\n",
    "import pickle\n",
    "# Scikit-learn package for logistic regression.\n",
    "from sklearn import linear_model\n",
    "# Model set up and tuning packages from scikit-learn.\n",
    "from sklearn.model_selection import train_test_split\n",
    "from sklearn.model_selection import GridSearchCV\n",
    "# Scikit-learn packages for evaluating model performance.\n",
    "from sklearn import metrics\n",
    "# Scikit-learn package for data preprocessing.\n",
    "from sklearn import preprocessing\n",
    "\n",
    "from pathlib import Path\n",
    "# Set 'main_dir' to location of the project folder.\n",
    "home_dir = Path(\".\").resolve()\n",
    "main_dir = home_dir.parent.parent\n",
    "print(main_dir)\n",
    "data_dir = str(main_dir) + \"/data\"\n",
    "print(data_dir)\n",
    "# Import the dataset\n",
    "ex_df = pd.read_csv('heart_failure_clinical_records_dataset.csv')\n",
    "# Subset data\n",
    "ex_df_subset = ex_df[['creatinine_phosphokinase', 'age', 'time', 'serum_creatinine', 'ejection_fraction', 'serum_sodium', 'platelets', 'smoking', 'anaemia', 'diabetes', 'high_blood_pressure', 'sex', 'death_event', 'id']]\n"
   ]
  },
  {
   "cell_type": "markdown",
   "id": "32444e2b",
   "metadata": {},
   "source": [
    "#### Task 2\n",
    "##### If target is not binary, convert it to binary (Hint: calculate the mean and assign the above mean to 1 and below to 0).\n",
    "#### Result:\n"
   ]
  },
  {
   "cell_type": "code",
   "execution_count": 3,
   "id": "e60740c3",
   "metadata": {},
   "outputs": [],
   "source": [
    "\n",
    "# Target not binary\n",
    "ex_threshold = np.mean(ex_df_subset['death_event'])\n",
    "ex_df_subset['death_event'] = np.where(ex_df_subset['death_event'] > ex_threshold, 0,1)\n"
   ]
  },
  {
   "cell_type": "markdown",
   "id": "6bbd1404",
   "metadata": {},
   "source": [
    "#### Task 3\n",
    "##### Identify the two unique classes.\n",
    "##### Convert ex_target to `bool` so that it is a binary class.\n",
    "##### Check and convert NAs.\n",
    "##### Delete columns containing either 50% or more than 50% NaN Values.\n",
    "#### Result:\n"
   ]
  },
  {
   "cell_type": "code",
   "execution_count": 4,
   "id": "4780a053",
   "metadata": {},
   "outputs": [
    {
     "name": "stdout",
     "output_type": "stream",
     "text": [
      "creatinine_phosphokinase    0\n",
      "age                         0\n",
      "time                        0\n",
      "serum_creatinine            0\n",
      "ejection_fraction           0\n",
      "serum_sodium                0\n",
      "platelets                   0\n",
      "smoking                     0\n",
      "anaemia                     0\n",
      "diabetes                    0\n",
      "high_blood_pressure         0\n",
      "sex                         0\n",
      "death_event                 0\n",
      "id                          0\n",
      "dtype: int64\n",
      "(299, 14)\n"
     ]
    }
   ],
   "source": [
    "# Identify the two unique classes.\n",
    "unique_values = sorted(ex_df_subset['death_event'].unique())\n",
    "ex_df_subset['death_event'] = np.where(ex_df_subset['death_event'] == unique_values[0],  False,True)\n",
    "\n",
    " # Check for NAs. \n",
    "print(ex_df_subset.isnull().sum())\n",
    "\n",
    "# Delete columns containing either 60% or more than 60% NaN Values.\n",
    "ex_perc = 60.0\n",
    "ex_min_count =  int(((100-ex_perc)/100)*ex_df_subset.shape[0] + 1)\n",
    "ex_df_subset = ex_df_subset.dropna(axis=1, \n",
    "               thresh=ex_min_count)\n",
    "print(ex_df_subset.shape)\n",
    "\n"
   ]
  },
  {
   "cell_type": "markdown",
   "id": "a040eba2",
   "metadata": {},
   "source": [
    "#### Task 4\n",
    "##### Write a function to impute NAs in both numeric and categorical columns.\n",
    "##### Split the data into X and y .\n",
    "##### Convert the categorical data to dummy variables.\n",
    "##### Set a seed and split data into train and test sets, use a 70 train - 30 test split.\n",
    "#### Result:\n"
   ]
  },
  {
   "cell_type": "code",
   "execution_count": 5,
   "id": "0700aed1",
   "metadata": {},
   "outputs": [
    {
     "name": "stdout",
     "output_type": "stream",
     "text": [
      "creatinine_phosphokinase      int64\n",
      "age                         float64\n",
      "time                          int64\n",
      "serum_creatinine            float64\n",
      "ejection_fraction             int64\n",
      "serum_sodium                  int64\n",
      "platelets                   float64\n",
      "smoking_1                   float64\n",
      "anaemia_1                   float64\n",
      "diabetes_1                  float64\n",
      "high_blood_pressure_1       float64\n",
      "sex_1                       float64\n",
      "dtype: object\n"
     ]
    }
   ],
   "source": [
    "# Function to impute NA in both numeric and categorical columns\n",
    "def fillna(ex_df):\n",
    "    # Fill numeric columns with mean value\n",
    "    ex_df = ex_df.fillna(ex_df.mean())    \n",
    "    # Fill categorical columns with mode value\n",
    "    ex_df = ex_df.fillna(ex_df.mode().iloc[0])\n",
    "    return ex_df\n",
    "  \n",
    "ex_df_subset = fillna(ex_df_subset)\n",
    "\n",
    "# Split the data into X and y \n",
    "ex_columns_to_drop_from_X = ['death_event'] + ['id']\n",
    "ex_X = ex_df_subset.drop(ex_columns_to_drop_from_X, axis=1)\n",
    "ex_y = np.array(ex_df_subset['death_event'])\n",
    "\n",
    "# Convert categorical variables to dummy variables\n",
    "ex_X = pd.get_dummies(ex_X, columns = ['smoking', 'anaemia', 'diabetes', 'high_blood_pressure', 'sex'], dtype=float, drop_first=True)\n",
    "print(ex_X.dtypes)\n",
    "\n",
    "# Set the seed.\n",
    "np.random.seed(1)\n",
    "\n",
    "# Split data into train and test sets, use a 70 train - 30 test split.\n",
    "ex_X_train, ex_X_test, ex_y_train, ex_y_test = train_test_split(ex_X, \n",
    "                                                    ex_y, \n",
    "                                                    test_size = .3)\n",
    "                                                  \n",
    "\n"
   ]
  },
  {
   "cell_type": "markdown",
   "id": "dcd4376e",
   "metadata": {},
   "source": [
    "#### Task 5\n",
    "##### Scale the features by fitting MinMaxScaler on the training data.\n",
    "##### Set up logistic regression model.\n",
    "##### Fit the model.\n",
    "##### Predict on test data.\n",
    "#### Result:\n"
   ]
  },
  {
   "cell_type": "code",
   "execution_count": 6,
   "id": "feee2997",
   "metadata": {},
   "outputs": [
    {
     "name": "stdout",
     "output_type": "stream",
     "text": [
      "LogisticRegression()\n",
      "[ True  True False  True  True  True  True  True False  True  True False\n",
      " False  True  True  True  True  True  True  True]\n"
     ]
    }
   ],
   "source": [
    "# Scale the features.\n",
    "ex_scaler = preprocessing.MinMaxScaler()\n",
    "ex_scaler.fit(ex_X_train)\n",
    "ex_X_train_scaled = ex_scaler.transform(ex_X_train)\n",
    "ex_X_test_scaled = ex_scaler.transform(ex_X_test)\n",
    "\n",
    "# Set up logistic regression model.\n",
    "ex_logistic_regression_model = linear_model.LogisticRegression()\n",
    "print(ex_logistic_regression_model)  \n",
    "# Fit the model.\n",
    "ex_logistic_regression_model.fit(ex_X_train_scaled, \n",
    "                              ex_y_train)\n",
    "# Predict on test data.\n",
    "ex_predicted_values = ex_logistic_regression_model.predict(ex_X_test_scaled)\n",
    "print(ex_predicted_values[:20])                              \n",
    "                              \n",
    "\n"
   ]
  },
  {
   "cell_type": "markdown",
   "id": "5a465423",
   "metadata": {},
   "source": [
    "#### Task 6\n",
    "##### Take a look at test data confusion matrix.\n",
    "##### Compute test model accuracy score.\n",
    "##### Create a list of ex_target names to interpret class assignments.\n",
    "#### Result:\n"
   ]
  },
  {
   "cell_type": "code",
   "execution_count": 7,
   "id": "b14d9b3f",
   "metadata": {},
   "outputs": [
    {
     "name": "stdout",
     "output_type": "stream",
     "text": [
      "[[15 11]\n",
      " [ 4 60]]\n",
      "Accuracy on test data:  0.8333333333333334\n"
     ]
    }
   ],
   "source": [
    "# Take a look at test data confusion matrix.\n",
    "ex_conf_matrix_test = metrics.confusion_matrix(ex_y_test, ex_predicted_values)\n",
    "print(ex_conf_matrix_test)\n",
    "\n",
    "# Compute test model accuracy score.\n",
    "ex_test_accuracy_score = metrics.accuracy_score(ex_y_test, ex_predicted_values)\n",
    "print(\"Accuracy on test data: \", ex_test_accuracy_score)\n",
    "\n",
    "# Create a list of ex_target names to interpret class assignments.\n",
    "ex_target_names = ex_df_subset['death_event'].unique()\n",
    "ex_target_names = ex_target_names.tolist()\n",
    "ex_target_names = [str(x) for x in ex_target_names]\n",
    "\n"
   ]
  },
  {
   "cell_type": "markdown",
   "id": "1910587e",
   "metadata": {},
   "source": [
    "#### Task 7\n",
    "##### Print an entire classification report.\n",
    "##### Get probabilities instead of predicted values.\n",
    "##### Get probabilities of test predictions only.\n",
    "#### Result:\n"
   ]
  },
  {
   "cell_type": "code",
   "execution_count": 8,
   "id": "4c23edea",
   "metadata": {},
   "outputs": [
    {
     "name": "stdout",
     "output_type": "stream",
     "text": [
      "              precision    recall  f1-score   support\n",
      "\n",
      "       False       0.79      0.58      0.67        26\n",
      "        True       0.85      0.94      0.89        64\n",
      "\n",
      "    accuracy                           0.83        90\n",
      "   macro avg       0.82      0.76      0.78        90\n",
      "weighted avg       0.83      0.83      0.82        90\n",
      "\n",
      "[[0.27219134 0.72780866]\n",
      " [0.03831386 0.96168614]\n",
      " [0.57891227 0.42108773]\n",
      " [0.28278144 0.71721856]\n",
      " [0.14900023 0.85099977]]\n",
      "[0.72780866 0.96168614 0.42108773 0.71721856 0.85099977]\n"
     ]
    }
   ],
   "source": [
    "\n",
    "# Print an entire classification report.\n",
    "ex_class_report = metrics.classification_report(ex_y_test, \n",
    "                                             ex_predicted_values, \n",
    "                                             target_names = ex_target_names)\n",
    "print(ex_class_report)\n",
    "# Get probabilities instead of predicted values.\n",
    "ex_test_probabilities = ex_logistic_regression_model.predict_proba(ex_X_test_scaled)\n",
    "print(ex_test_probabilities[0:5, :])\n",
    "\n",
    "# Get probabilities of test predictions only.\n",
    "ex_test_predictions = ex_test_probabilities[:, 1]\n",
    "print(ex_test_predictions[0:5])\n",
    "\n"
   ]
  },
  {
   "cell_type": "markdown",
   "id": "60c4780b",
   "metadata": {},
   "source": [
    "#### Task 8\n",
    "##### Get FPR, TPR, and threshold values.\n",
    "##### Get AUC by providing the FPR and TPR.\n",
    "##### Make an ROC curve plot.\n",
    "#### Result:\n"
   ]
  },
  {
   "cell_type": "code",
   "execution_count": 9,
   "id": "34c06877",
   "metadata": {},
   "outputs": [
    {
     "name": "stdout",
     "output_type": "stream",
     "text": [
      "False positive:  [0.         0.         0.         0.03846154 0.03846154]\n",
      "True positive:  [0.       0.015625 0.359375 0.359375 0.578125]\n",
      "Threshold:  [1.98213886 0.98213886 0.86423049 0.85704074 0.7697114 ]\n",
      "Area under the ROC curve:  0.873798076923077\n"
     ]
    },
    {
     "data": {
      "image/png": "[encoded data removed]",
      "text/plain": [
       "<Figure size 432x288 with 1 Axes>"
      ]
     },
     "metadata": {
      "needs_background": "light"
     },
     "output_type": "display_data"
    }
   ],
   "source": [
    "# Get FPR, TPR, and threshold values.\n",
    "ex_fpr, ex_tpr, ex_threshold = metrics.roc_curve(ex_y_test, ex_test_predictions) \n",
    "print(\"False positive: \", ex_fpr[:5])\n",
    "print(\"True positive: \", ex_tpr[:5])\n",
    "print(\"Threshold: \", ex_threshold[:5])\n",
    "\n",
    "# Get AUC by providing the FPR and TPR.\n",
    "ex_auc = metrics.auc(ex_fpr, ex_tpr)\n",
    "print(\"Area under the ROC curve: \", ex_auc)\n",
    "\n",
    "# Make an ROC curve plot.\n",
    "plt.title('Receiver Operator Characteristic')\n",
    "plt.plot(ex_fpr, ex_tpr, 'b', label = 'AUC = %0.2f' % ex_auc)\n",
    "plt.legend(loc = 'lower right')\n",
    "plt.plot([0, 1], [0, 1],'r--')\n",
    "plt.xlabel('False Positive Rate')\n",
    "plt.ylabel('True Positive Rate')\n",
    "plt.show()\n"
   ]
  },
  {
   "cell_type": "markdown",
   "id": "1a1fceb4",
   "metadata": {},
   "source": [
    "#### Please refer to module 3 of LogisticRegression - LogisticRegression for Tasks 9-13\n",
    "#### Task 9\n",
    "##### Compute trained model accuracy score. Complete the code by filling in the None:ex_trained_accuracy_score = logistic_regression_model.score(None, None)\n",
    "##### Create regularization penalty space with l1 and l2.\n",
    "##### Create regularization constant space.\n",
    "#### Result:\n"
   ]
  },
  {
   "cell_type": "code",
   "execution_count": 10,
   "id": "2a9d0e9b",
   "metadata": {},
   "outputs": [
    {
     "name": "stdout",
     "output_type": "stream",
     "text": [
      "Accuracy on train data:  0.8421052631578947\n",
      "Regularization constant:  [1.00000000e+00 1.29154967e+01 1.66810054e+02 2.15443469e+03\n",
      " 2.78255940e+04 3.59381366e+05 4.64158883e+06 5.99484250e+07\n",
      " 7.74263683e+08 1.00000000e+10]\n",
      "{'C': array([1.00000000e+00, 1.29154967e+01, 1.66810054e+02, 2.15443469e+03,\n",
      "       2.78255940e+04, 3.59381366e+05, 4.64158883e+06, 5.99484250e+07,\n",
      "       7.74263683e+08, 1.00000000e+10]), 'penalty': ['l1', 'l2']}\n"
     ]
    }
   ],
   "source": [
    "# Compute trained model accuracy score.\n",
    "ex_trained_accuracy_score = ex_logistic_regression_model.score(ex_X_train_scaled, ex_y_train)\n",
    "print(\"Accuracy on train data: \" , ex_trained_accuracy_score)\n",
    "\n",
    "# Create regularization penalty space.\n",
    "ex_penalty = ['l1', 'l2']\n",
    "# Create regularization constant space.\n",
    "ex_C = np.logspace(0, 10, 10)\n",
    "print(\"Regularization constant: \", ex_C)\n",
    "\n",
    "# Create hyperparameter options dictionary.\n",
    "ex_hyperparameters = dict(C = ex_C, penalty = ex_penalty)\n",
    "print(ex_hyperparameters)\n",
    "\n"
   ]
  },
  {
   "cell_type": "markdown",
   "id": "3fe7d3c1",
   "metadata": {},
   "source": [
    "#### Task 10\n",
    "##### Execute a grid search 15-fold cross-validation with above parameters.\n",
    "##### Fit CV grid search and print the best_model\n",
    "#### Result:\n"
   ]
  },
  {
   "cell_type": "code",
   "execution_count": 11,
   "id": "d1ae6ccf",
   "metadata": {},
   "outputs": [
    {
     "name": "stdout",
     "output_type": "stream",
     "text": [
      "GridSearchCV(cv=15, estimator=LogisticRegression(solver='liblinear'),\n",
      "             param_grid={'C': array([1.00000000e+00, 1.29154967e+01, 1.66810054e+02, 2.15443469e+03,\n",
      "       2.78255940e+04, 3.59381366e+05, 4.64158883e+06, 5.99484250e+07,\n",
      "       7.74263683e+08, 1.00000000e+10]),\n",
      "                         'penalty': ['l1', 'l2']})\n"
     ]
    }
   ],
   "source": [
    "# Grid search 15-fold cross-validation with above parameters.\n",
    "ex_clf = GridSearchCV(linear_model.LogisticRegression(solver='liblinear'),\n",
    "                   ex_hyperparameters,\n",
    "                   cv = 15,                         \n",
    "                   verbose = 0)                       \n",
    "# Fit CV grid search.\n",
    "ex_best_model = ex_clf.fit(ex_X_train_scaled, ex_y_train)\n",
    "print(ex_best_model)                   \n",
    "                  \n"
   ]
  },
  {
   "cell_type": "markdown",
   "id": "eec67c1c",
   "metadata": {},
   "source": [
    "#### Task 11\n",
    "##### Get best penalty and constant parameters.\n",
    "#### Result:\n"
   ]
  },
  {
   "cell_type": "code",
   "execution_count": 12,
   "id": "6e988ecb",
   "metadata": {},
   "outputs": [
    {
     "name": "stdout",
     "output_type": "stream",
     "text": [
      "Best penalty:  l1\n",
      "Best C:  1.0\n"
     ]
    }
   ],
   "source": [
    "# Get best penalty and constant parameters.\n",
    "ex_penalty = ex_best_model.best_estimator_.get_params()['penalty']\n",
    "ex_constant = ex_best_model.best_estimator_.get_params()['C']\n",
    "print('Best penalty: ', ex_penalty)\n",
    "print('Best C: ', ex_constant)\n",
    "\n"
   ]
  },
  {
   "cell_type": "markdown",
   "id": "38f010fd",
   "metadata": {},
   "source": [
    "#### Task 12\n",
    "##### Predict on test data using best model and print it.\n",
    "##### Compute best model accuracy score and print it.\n",
    "##### Compute confusion matrix for best model and print it.\n",
    "##### Create a list of target names to interpret class assignments.\n",
    "##### Compute classification report for best model.\n",
    "#### Result:\n"
   ]
  },
  {
   "cell_type": "code",
   "execution_count": 13,
   "id": "6c8b50fa",
   "metadata": {},
   "outputs": [
    {
     "name": "stdout",
     "output_type": "stream",
     "text": [
      "[ True  True False  True  True  True  True  True False  True False False\n",
      " False  True  True  True  True False  True  True  True False  True False\n",
      "  True  True  True  True  True  True  True  True  True  True False  True\n",
      "  True  True  True  True False  True  True  True False False  True  True\n",
      " False  True  True  True  True False  True  True  True  True  True  True\n",
      "  True  True  True  True False  True  True  True  True False  True  True\n",
      " False  True  True False False False  True False False  True False  True\n",
      "  True  True  True  True  True False]\n",
      "Accuracy on test data (best model):  0.8444444444444444\n",
      "Accuracy on train data:  0.8564593301435407\n",
      "[[18  8]\n",
      " [ 6 58]]\n",
      "              precision    recall  f1-score   support\n",
      "\n",
      "   Low value       0.75      0.69      0.72        26\n",
      "  High value       0.88      0.91      0.89        64\n",
      "\n",
      "    accuracy                           0.84        90\n",
      "   macro avg       0.81      0.80      0.81        90\n",
      "weighted avg       0.84      0.84      0.84        90\n",
      "\n"
     ]
    }
   ],
   "source": [
    "\n",
    "# Predict on test data using best model.\n",
    "ex_best_predicted_values = ex_best_model.predict(ex_X_test_scaled)\n",
    "print(ex_best_predicted_values)\n",
    "\n",
    "# Compute best model accuracy score.\n",
    "ex_best_accuracy_score = metrics.accuracy_score(ex_y_test, ex_best_predicted_values)\n",
    "print(\"Accuracy on test data (best model): \", ex_best_accuracy_score)\n",
    "\n",
    "# Compute trained model accuracy score.\n",
    "ex_trained_accuracy_score = ex_best_model.score(ex_X_train_scaled, ex_y_train)\n",
    "print(\"Accuracy on train data: \" , ex_trained_accuracy_score)\n",
    "\n",
    "# Compute confusion matrix for best model.\n",
    "ex_best_confusion_matrix = metrics.confusion_matrix(ex_y_test, ex_best_predicted_values)\n",
    "print(ex_best_confusion_matrix)\n",
    "\n",
    "# Create a list of target names to interpret class assignments.\n",
    "ex_target_names = ['Low value', 'High value']\n",
    "\n",
    "# Compute classification report for best model.\n",
    "ex_best_class_report = metrics.classification_report(ex_y_test, ex_best_predicted_values,target_names = ex_target_names)\n",
    "print(ex_best_class_report)\n",
    "\n"
   ]
  },
  {
   "cell_type": "markdown",
   "id": "1ac4db3f",
   "metadata": {},
   "source": [
    "#### Task 13\n",
    "##### Get probabilities instead of predicted values.\n",
    "##### Get probabilities of test predictions only.\n",
    "##### Get ROC curve metrics.\n",
    "##### Make an ROC curve plot.\n",
    "#### Result:\n"
   ]
  },
  {
   "cell_type": "code",
   "execution_count": 14,
   "id": "eb488da5",
   "metadata": {},
   "outputs": [
    {
     "name": "stdout",
     "output_type": "stream",
     "text": [
      "[[0.23490485 0.76509515]\n",
      " [0.0147544  0.9852456 ]\n",
      " [0.69628579 0.30371421]\n",
      " [0.26311942 0.73688058]\n",
      " [0.10305449 0.89694551]]\n",
      "[0.76509515 0.9852456  0.30371421 0.73688058 0.89694551]\n",
      "0.8792067307692306\n"
     ]
    },
    {
     "data": {
      "image/png": "[encoded data removed]",
      "text/plain": [
       "<Figure size 432x288 with 1 Axes>"
      ]
     },
     "metadata": {
      "needs_background": "light"
     },
     "output_type": "display_data"
    }
   ],
   "source": [
    "# Get probabilities instead of predicted values.\n",
    "ex_best_test_probabilities = ex_best_model.predict_proba(ex_X_test_scaled)\n",
    "print(ex_best_test_probabilities[0:5, ])\n",
    "# Get probabilities of test predictions only.\n",
    "ex_best_test_predictions = ex_best_test_probabilities[:, 1]\n",
    "print(ex_best_test_predictions[0:5])\n",
    "\n",
    "# Get ROC curve metrics.\n",
    "ex_best_fpr, ex_best_tpr, ex_best_threshold = metrics.roc_curve(ex_y_test, ex_best_test_predictions)\n",
    "ex_best_auc = metrics.auc(ex_best_fpr, ex_best_tpr)\n",
    "print(ex_best_auc)\n",
    "\n",
    "# Make an ROC curve plot.\n",
    "plt.title('Receiver Operator Characteristic')\n",
    "plt.plot(ex_fpr, ex_tpr, 'blue', \n",
    "         label = 'AUC = %0.2f'%ex_auc)\n",
    "plt.plot(ex_best_fpr, ex_best_tpr, 'black', \n",
    "         label = 'AUC (best) = %0.2f'%ex_best_auc)\n",
    "plt.legend(loc = 'lower right')\n",
    "plt.plot([0, 1], [0, 1],'r--')\n",
    "plt.xlabel('False Positive Rate')\n",
    "plt.ylabel('True Positive Rate')\n",
    "plt.show()\n",
    "\n",
    "\n",
    "\n"
   ]
  }
 ],
 "metadata": {
  "kernelspec": {
   "display_name": "Python 3 (ipykernel)",
   "language": "python",
   "name": "python3"
  },
  "language": "python",
  "language_info": {
   "codemirror_mode": {
    "name": "ipython",
    "version": 3
   },
   "file_extension": ".py",
   "mimetype": "text/x-python",
   "name": "python",
   "nbconvert_exporter": "python",
   "pygments_lexer": "ipython3",
   "version": "3.9.12"
  }
 },
 "nbformat": 4,
 "nbformat_minor": 5
}
