{
 "cells": [
  {
   "cell_type": "markdown",
   "id": "b7f84c71",
   "metadata": {},
   "source": [
    "## NONLINEARREGRESSION/NONLINEAR REGRESSION PART 1 EXERCISE ANSWERS ##\n",
    "#### Exercise 1 ####\n"
   ]
  },
  {
   "cell_type": "markdown",
   "id": "6929734c",
   "metadata": {},
   "source": [
    "## NONLINEARREGRESSION/NONLINEAR REGRESSION PART 2 EXERCISE ANSWERS ##\n",
    "#### Exercise 2 ####\n"
   ]
  },
  {
   "cell_type": "markdown",
   "id": "8a74b4d0",
   "metadata": {},
   "source": [
    "## NONLINEARREGRESSION/NONLINEAR REGRESSION PART 3 EXERCISE ANSWERS ##\n",
    "#### Exercise 3 ####\n"
   ]
  },
  {
   "cell_type": "markdown",
   "id": "14c62c2d",
   "metadata": {},
   "source": [
    "## NONLINEARREGRESSION/NONLINEAR REGRESSION PART 4 EXERCISE ANSWERS ##\n",
    "#### Exercise 4 ####\n",
    "#### Exercise 1\n",
    "#### Task 1\n",
    "##### Import the packages required to analyze data with log-log models, log-lin models, polynomial models, and interactions in the predictor variables.\n",
    "##### Set the working directory to data directory.\n",
    "##### Print the working directory.\n",
    "#### Result:\n"
   ]
  },
  {
   "cell_type": "code",
   "execution_count": 1,
   "id": "ae95143b",
   "metadata": {},
   "outputs": [],
   "source": [
    "import os\n",
    "import pandas as pd\n",
    "import numpy as np\n",
    "from pathlib import Path\n",
    "import matplotlib.pyplot as plt\n",
    "import statsmodels.api as sm\n",
    "import statsmodels.formula.api as smf\n",
    "# Set 'main_dir' to location of the project folder\n",
    "from pathlib import Path\n",
    "\n"
   ]
  },
  {
   "cell_type": "markdown",
   "id": "69405817",
   "metadata": {},
   "source": [
    "#### Task 2\n",
    "##### Load `beer-sold-by-price.csv` and save as `ex_data_loglog`.\n",
    "##### The data consists of 52 weeks of cases sold and the price per case of 18-packs of beer at a small chain of supermarkets. \n",
    "##### We want to build a regression model that can predict `quantity of cases sold` according to the changes in the `price`.\n",
    "##### Check the shape of the data, print the first few rows, and check for any missing values. \n",
    "##### For convenience, change the column names from `PRICE 18PK`, `CASES 18PK` to `Price`, `Quantity`.\n",
    "##### Lastly, sort the dataframe by `Price`.\n",
    "#### Result:\n"
   ]
  },
  {
   "cell_type": "code",
   "execution_count": 2,
   "id": "e41cabc5",
   "metadata": {},
   "outputs": [],
   "source": [
    "ex_data_loglog = pd.read_csv('beer-sold-by-price.csv')\n",
    "ex_data_loglog.shape\n",
    "ex_data_loglog.head()\n",
    "ex_data_loglog.isnull().values.any()\n",
    "ex_data_loglog=ex_data_loglog.rename(columns={'PRICE 18PK':'Price', 'CASES 18PK':'Quantity'})\n",
    "ex_data_loglog.head()\n",
    "ex_data_loglog.sort_values(by=['Price'], inplace = True)\n"
   ]
  },
  {
   "cell_type": "markdown",
   "id": "baf3010c",
   "metadata": {},
   "source": [
    "#### Task 3\n",
    "##### Transform the values of our predictor and target variable to the log of the actual values. \n",
    "##### Name the log values column as `price_log` and `quantity_log`.\n",
    "##### Print out the first few rows to check.\n",
    "#### Result:\n"
   ]
  },
  {
   "cell_type": "code",
   "execution_count": 3,
   "id": "1bd05a9c",
   "metadata": {},
   "outputs": [
    {
     "data": {
      "text/html": [
       "<div>\n",
       "<style scoped>\n",
       "    .dataframe tbody tr th:only-of-type {\n",
       "        vertical-align: middle;\n",
       "    }\n",
       "\n",
       "    .dataframe tbody tr th {\n",
       "        vertical-align: top;\n",
       "    }\n",
       "\n",
       "    .dataframe thead th {\n",
       "        text-align: right;\n",
       "    }\n",
       "</style>\n",
       "<table border=\"1\" class=\"dataframe\">\n",
       "  <thead>\n",
       "    <tr style=\"text-align: right;\">\n",
       "      <th></th>\n",
       "      <th>Price</th>\n",
       "      <th>Quantity</th>\n",
       "      <th>price_log</th>\n",
       "      <th>quantity_log</th>\n",
       "    </tr>\n",
       "  </thead>\n",
       "  <tbody>\n",
       "    <tr>\n",
       "      <th>50</th>\n",
       "      <td>13.26</td>\n",
       "      <td>493</td>\n",
       "      <td>2.584752</td>\n",
       "      <td>6.200509</td>\n",
       "    </tr>\n",
       "    <tr>\n",
       "      <th>47</th>\n",
       "      <td>13.45</td>\n",
       "      <td>741</td>\n",
       "      <td>2.598979</td>\n",
       "      <td>6.608001</td>\n",
       "    </tr>\n",
       "    <tr>\n",
       "      <th>28</th>\n",
       "      <td>13.49</td>\n",
       "      <td>890</td>\n",
       "      <td>2.601949</td>\n",
       "      <td>6.791221</td>\n",
       "    </tr>\n",
       "    <tr>\n",
       "      <th>31</th>\n",
       "      <td>13.67</td>\n",
       "      <td>775</td>\n",
       "      <td>2.615204</td>\n",
       "      <td>6.652863</td>\n",
       "    </tr>\n",
       "    <tr>\n",
       "      <th>46</th>\n",
       "      <td>13.76</td>\n",
       "      <td>523</td>\n",
       "      <td>2.621766</td>\n",
       "      <td>6.259581</td>\n",
       "    </tr>\n",
       "  </tbody>\n",
       "</table>\n",
       "</div>"
      ],
      "text/plain": [
       "    Price  Quantity  price_log  quantity_log\n",
       "50  13.26       493   2.584752      6.200509\n",
       "47  13.45       741   2.598979      6.608001\n",
       "28  13.49       890   2.601949      6.791221\n",
       "31  13.67       775   2.615204      6.652863\n",
       "46  13.76       523   2.621766      6.259581"
      ]
     },
     "execution_count": 3,
     "metadata": {},
     "output_type": "execute_result"
    }
   ],
   "source": [
    "ex_data_loglog['price_log'] = np.log(ex_data_loglog['Price'])\n",
    "ex_data_loglog['quantity_log'] = np.log(ex_data_loglog['Quantity'])\n",
    "ex_data_loglog.head()\n"
   ]
  },
  {
   "cell_type": "markdown",
   "id": "7ab260c1",
   "metadata": {},
   "source": [
    "#### Task 4\n",
    "##### Add a constant to the dataframe.\n",
    "#### Result:\n"
   ]
  },
  {
   "cell_type": "code",
   "execution_count": 4,
   "id": "6d8182f4",
   "metadata": {},
   "outputs": [
    {
     "data": {
      "text/html": [
       "<div>\n",
       "<style scoped>\n",
       "    .dataframe tbody tr th:only-of-type {\n",
       "        vertical-align: middle;\n",
       "    }\n",
       "\n",
       "    .dataframe tbody tr th {\n",
       "        vertical-align: top;\n",
       "    }\n",
       "\n",
       "    .dataframe thead th {\n",
       "        text-align: right;\n",
       "    }\n",
       "</style>\n",
       "<table border=\"1\" class=\"dataframe\">\n",
       "  <thead>\n",
       "    <tr style=\"text-align: right;\">\n",
       "      <th></th>\n",
       "      <th>const</th>\n",
       "      <th>Price</th>\n",
       "      <th>Quantity</th>\n",
       "      <th>price_log</th>\n",
       "      <th>quantity_log</th>\n",
       "    </tr>\n",
       "  </thead>\n",
       "  <tbody>\n",
       "    <tr>\n",
       "      <th>50</th>\n",
       "      <td>1.0</td>\n",
       "      <td>13.26</td>\n",
       "      <td>493</td>\n",
       "      <td>2.584752</td>\n",
       "      <td>6.200509</td>\n",
       "    </tr>\n",
       "    <tr>\n",
       "      <th>47</th>\n",
       "      <td>1.0</td>\n",
       "      <td>13.45</td>\n",
       "      <td>741</td>\n",
       "      <td>2.598979</td>\n",
       "      <td>6.608001</td>\n",
       "    </tr>\n",
       "    <tr>\n",
       "      <th>28</th>\n",
       "      <td>1.0</td>\n",
       "      <td>13.49</td>\n",
       "      <td>890</td>\n",
       "      <td>2.601949</td>\n",
       "      <td>6.791221</td>\n",
       "    </tr>\n",
       "    <tr>\n",
       "      <th>31</th>\n",
       "      <td>1.0</td>\n",
       "      <td>13.67</td>\n",
       "      <td>775</td>\n",
       "      <td>2.615204</td>\n",
       "      <td>6.652863</td>\n",
       "    </tr>\n",
       "    <tr>\n",
       "      <th>46</th>\n",
       "      <td>1.0</td>\n",
       "      <td>13.76</td>\n",
       "      <td>523</td>\n",
       "      <td>2.621766</td>\n",
       "      <td>6.259581</td>\n",
       "    </tr>\n",
       "  </tbody>\n",
       "</table>\n",
       "</div>"
      ],
      "text/plain": [
       "    const  Price  Quantity  price_log  quantity_log\n",
       "50    1.0  13.26       493   2.584752      6.200509\n",
       "47    1.0  13.45       741   2.598979      6.608001\n",
       "28    1.0  13.49       890   2.601949      6.791221\n",
       "31    1.0  13.67       775   2.615204      6.652863\n",
       "46    1.0  13.76       523   2.621766      6.259581"
      ]
     },
     "execution_count": 4,
     "metadata": {},
     "output_type": "execute_result"
    }
   ],
   "source": [
    "ex_data_loglog = sm.add_constant(ex_data_loglog)\n",
    "ex_data_loglog.head()\n"
   ]
  },
  {
   "cell_type": "markdown",
   "id": "d9de5860",
   "metadata": {},
   "source": [
    "#### Task 5\n",
    "##### Fit the model using `sm.OLS` and pass the columns we transformed to log in the previous tasks.\n",
    "##### Name the model `ex_loglog`.\n",
    "#### Result:\n"
   ]
  },
  {
   "cell_type": "code",
   "execution_count": 5,
   "id": "65b5a2d4",
   "metadata": {},
   "outputs": [],
   "source": [
    "ex_loglog = sm.OLS(ex_data_loglog['quantity_log'], ex_data_loglog.loc[:,['const','price_log']]).fit()\n"
   ]
  },
  {
   "cell_type": "markdown",
   "id": "7f1bb172",
   "metadata": {},
   "source": [
    "#### Task 6\n",
    "##### Use the fitted log-log model to predict. \n",
    "##### Save the predictions as `ex_prediction_loglog`.\n",
    "##### Take a look at the first 10 rows of the predictions.\n",
    "#### Result:\n"
   ]
  },
  {
   "cell_type": "code",
   "execution_count": 6,
   "id": "d5db57f4",
   "metadata": {},
   "outputs": [
    {
     "data": {
      "text/plain": [
       "50    6.499954\n",
       "47    6.404558\n",
       "28    6.384646\n",
       "31    6.295769\n",
       "46    6.251768\n",
       "39    6.237165\n",
       "27    6.237165\n",
       "42    6.208054\n",
       "16    6.198378\n",
       "12    6.198378\n",
       "dtype: float64"
      ]
     },
     "execution_count": 6,
     "metadata": {},
     "output_type": "execute_result"
    }
   ],
   "source": [
    "ex_prediction_loglog = ex_loglog.predict(ex_data_loglog.loc[:,['const','price_log']])\n",
    "ex_prediction_loglog[0:10]\n"
   ]
  },
  {
   "cell_type": "markdown",
   "id": "237b34d9",
   "metadata": {},
   "source": [
    "#### Task 7\n",
    "##### Exponentiate the predictions and save as `ex_prediction`.\n",
    "##### Print the first 10 rows of `ex_prediction`.\n",
    "#### Result:\n"
   ]
  },
  {
   "cell_type": "code",
   "execution_count": 7,
   "id": "eb192ef2",
   "metadata": {},
   "outputs": [
    {
     "data": {
      "text/plain": [
       "50    665.110708\n",
       "47    604.594284\n",
       "28    592.674929\n",
       "31    542.272478\n",
       "46    518.929366\n",
       "39    511.406497\n",
       "27    511.406497\n",
       "42    496.733573\n",
       "16    491.950537\n",
       "12    491.950537\n",
       "dtype: float64"
      ]
     },
     "execution_count": 7,
     "metadata": {},
     "output_type": "execute_result"
    }
   ],
   "source": [
    "ex_prediction = np.exp(ex_prediction_loglog)\n",
    "ex_prediction[0:10]\n"
   ]
  },
  {
   "cell_type": "markdown",
   "id": "88c87a91",
   "metadata": {},
   "source": [
    "#### Task 8\n",
    "##### Create a scatterplot of the actual values of `quantity` and the predicted values of `quantity`. \n",
    "##### Plot the actual quantity as the scatter points and the predicted quantity as a red line to compare.\n",
    "#### Result:\n"
   ]
  },
  {
   "cell_type": "code",
   "execution_count": 8,
   "id": "18794b0f",
   "metadata": {},
   "outputs": [
    {
     "data": {
      "image/png": "[encoded data removed]",
      "text/plain": [
       "<Figure size 432x288 with 1 Axes>"
      ]
     },
     "metadata": {
      "needs_background": "light"
     },
     "output_type": "display_data"
    }
   ],
   "source": [
    "plt.scatter(ex_data_loglog['Price'], ex_data_loglog['Quantity'])\n",
    "plt.plot(ex_data_loglog['Price'], ex_prediction, 'red')\n",
    "plt.title(\"Price vs Quantity\")\n",
    "plt.xlabel(\"Price\")\n",
    "plt.ylabel(\"Quantity\")\n",
    "plt.show()\n"
   ]
  },
  {
   "cell_type": "markdown",
   "id": "bb3e7d79",
   "metadata": {},
   "source": [
    "#### Task 9\n",
    "##### Get the residuals and put them into a dataframe called `ex_loglog_results`, along with the actual values of `quantity` and the exponentiated predictions of `quantity`.\n",
    "##### Using the RMSE function, get the RMSE of our log-log model.\n"
   ]
  },
  {
   "cell_type": "code",
   "execution_count": 9,
   "id": "645caef1",
   "metadata": {},
   "outputs": [],
   "source": [
    "def rmse(predictions,actual):\n",
    "    return np.sqrt(((prediction-actual) ** 2).mean())\n"
   ]
  },
  {
   "cell_type": "markdown",
   "id": "1aa51aa3",
   "metadata": {},
   "source": [
    "#### Result:\n"
   ]
  },
  {
   "cell_type": "code",
   "execution_count": 10,
   "id": "3ff1e1cc",
   "metadata": {},
   "outputs": [
    {
     "data": {
      "text/plain": [
       "118.24594924491831"
      ]
     },
     "execution_count": 10,
     "metadata": {},
     "output_type": "execute_result"
    }
   ],
   "source": [
    "actual = ex_data_loglog['Quantity']\n",
    "prediction = ex_prediction\n",
    "residuals = actual - prediction\n",
    "ex_loglog_results =  pd.concat([actual.rename('actual'),\n",
    "                              prediction.rename('predicted'),\n",
    "                              residuals.rename('residuals')], axis = 1)\n",
    "rmse(ex_loglog_results['predicted'],ex_loglog_results['actual'])\n"
   ]
  },
  {
   "cell_type": "markdown",
   "id": "f236e5c2",
   "metadata": {},
   "source": [
    "#### Task 10\n",
    "##### Build a standard linear model with the dataset, and get a plot of `actual vs.predicted`.\n",
    "##### Compare the plot with our previous log-log model plot.\n",
    "#### Result:\n"
   ]
  },
  {
   "cell_type": "code",
   "execution_count": 11,
   "id": "4b03e209",
   "metadata": {},
   "outputs": [
    {
     "data": {
      "image/png": "[encoded data removed]",
      "text/plain": [
       "<Figure size 432x288 with 1 Axes>"
      ]
     },
     "metadata": {
      "needs_background": "light"
     },
     "output_type": "display_data"
    }
   ],
   "source": [
    "# Fit the model.\n",
    "model_lin = sm.OLS(ex_data_loglog['Quantity'], ex_data_loglog.loc[:,['const','Price']]).fit()\n",
    "prediction = model_lin.predict(ex_data_loglog.loc[:,['const','Price']])\n",
    "plt.scatter(ex_data_loglog['Price'],ex_data_loglog['Quantity'])\n",
    "plt.plot(ex_data_loglog['Price'], prediction, 'red')\n",
    "plt.title(\"Price vs Quantity for standard linear model\")\n",
    "plt.xlabel(\"Price\")\n",
    "plt.ylabel(\"Quantity\")\n",
    "plt.show()\n"
   ]
  },
  {
   "cell_type": "markdown",
   "id": "b640db5b",
   "metadata": {},
   "source": [
    "#### Exercise 2\n",
    "#### Task 1\n",
    "##### Load `loglin.csv` and save as `ex_data_loglin`.\n",
    "##### The data consists of 200 weeks of stock data. \n",
    "##### We want to build a regression model that can predict `stock price` according to the changes in the `day`.\n",
    "##### Check the shape of the data, print the first few rows, and check for any missing values. \n",
    "#### Result:\n"
   ]
  },
  {
   "cell_type": "code",
   "execution_count": 15,
   "id": "93f94c16",
   "metadata": {},
   "outputs": [
    {
     "data": {
      "text/plain": [
       "False"
      ]
     },
     "execution_count": 15,
     "metadata": {},
     "output_type": "execute_result"
    }
   ],
   "source": [
    "ex_data_loglin = pd.read_csv('loglin.csv')\n",
    "ex_data_loglin.head()\n",
    "ex_data_loglin.shape\n",
    "ex_data_loglin.isnull().values.any()\n"
   ]
  },
  {
   "cell_type": "markdown",
   "id": "8db9c4a9",
   "metadata": {},
   "source": [
    "#### Task 2\n",
    "##### We need to transform the values of our target variable to the log of the actual values. \n",
    "##### Name the log values column as `price_log`.\n",
    "##### Print out the first few rows to check.\n",
    "#### Result:\n"
   ]
  },
  {
   "cell_type": "code",
   "execution_count": 16,
   "id": "128c1d32",
   "metadata": {},
   "outputs": [
    {
     "data": {
      "text/html": [
       "<div>\n",
       "<style scoped>\n",
       "    .dataframe tbody tr th:only-of-type {\n",
       "        vertical-align: middle;\n",
       "    }\n",
       "\n",
       "    .dataframe tbody tr th {\n",
       "        vertical-align: top;\n",
       "    }\n",
       "\n",
       "    .dataframe thead th {\n",
       "        text-align: right;\n",
       "    }\n",
       "</style>\n",
       "<table border=\"1\" class=\"dataframe\">\n",
       "  <thead>\n",
       "    <tr style=\"text-align: right;\">\n",
       "      <th></th>\n",
       "      <th>Day</th>\n",
       "      <th>Stock Price</th>\n",
       "      <th>price_log</th>\n",
       "    </tr>\n",
       "  </thead>\n",
       "  <tbody>\n",
       "    <tr>\n",
       "      <th>0</th>\n",
       "      <td>1</td>\n",
       "      <td>105.26</td>\n",
       "      <td>4.656433</td>\n",
       "    </tr>\n",
       "    <tr>\n",
       "      <th>1</th>\n",
       "      <td>2</td>\n",
       "      <td>105.35</td>\n",
       "      <td>4.657288</td>\n",
       "    </tr>\n",
       "    <tr>\n",
       "      <th>2</th>\n",
       "      <td>3</td>\n",
       "      <td>102.71</td>\n",
       "      <td>4.631909</td>\n",
       "    </tr>\n",
       "    <tr>\n",
       "      <th>3</th>\n",
       "      <td>4</td>\n",
       "      <td>100.70</td>\n",
       "      <td>4.612146</td>\n",
       "    </tr>\n",
       "    <tr>\n",
       "      <th>4</th>\n",
       "      <td>5</td>\n",
       "      <td>96.45</td>\n",
       "      <td>4.569025</td>\n",
       "    </tr>\n",
       "  </tbody>\n",
       "</table>\n",
       "</div>"
      ],
      "text/plain": [
       "   Day  Stock Price  price_log\n",
       "0    1       105.26   4.656433\n",
       "1    2       105.35   4.657288\n",
       "2    3       102.71   4.631909\n",
       "3    4       100.70   4.612146\n",
       "4    5        96.45   4.569025"
      ]
     },
     "execution_count": 16,
     "metadata": {},
     "output_type": "execute_result"
    }
   ],
   "source": [
    "ex_data_loglin['price_log'] = np.log(ex_data_loglin['Stock Price'])\n",
    "ex_data_loglin.head()\n"
   ]
  },
  {
   "cell_type": "markdown",
   "id": "36a58c90",
   "metadata": {},
   "source": [
    "#### Task 3\n",
    "##### Add a constant to the dataframe.\n",
    "#### Result:\n"
   ]
  },
  {
   "cell_type": "code",
   "execution_count": 17,
   "id": "56fc699e",
   "metadata": {},
   "outputs": [],
   "source": [
    "ex_data_loglin=sm.add_constant(ex_data_loglin)\n"
   ]
  },
  {
   "cell_type": "markdown",
   "id": "6f54160b",
   "metadata": {},
   "source": [
    "#### Task 4\n",
    "##### Fit the model using `sm.OLS` and pass the target column (which we transformed to log in the previous task), the predictor column (which is `Day`), and the constant.\n",
    "##### Name the model `ex_loglin`.\n",
    "#### Result:\n"
   ]
  },
  {
   "cell_type": "code",
   "execution_count": 18,
   "id": "9dd3c03d",
   "metadata": {},
   "outputs": [],
   "source": [
    "ex_loglin = sm.OLS(ex_data_loglin['price_log'], ex_data_loglin.loc[:,['const','Day']]).fit()\n"
   ]
  },
  {
   "cell_type": "markdown",
   "id": "43daa295",
   "metadata": {},
   "source": [
    "#### Task 5\n",
    "##### Use the fitted log-lin model to predict. \n",
    "##### Save the predictions as `ex_prediction_loglin`.\n",
    "##### Take a look at the first 10 rows of the predictions.\n",
    "#### Result:\n"
   ]
  },
  {
   "cell_type": "code",
   "execution_count": 19,
   "id": "cdf23f6e",
   "metadata": {},
   "outputs": [
    {
     "data": {
      "text/plain": [
       "0    4.495741\n",
       "1    4.497061\n",
       "2    4.498381\n",
       "3    4.499702\n",
       "4    4.501022\n",
       "5    4.502342\n",
       "6    4.503662\n",
       "7    4.504983\n",
       "8    4.506303\n",
       "9    4.507623\n",
       "dtype: float64"
      ]
     },
     "execution_count": 19,
     "metadata": {},
     "output_type": "execute_result"
    }
   ],
   "source": [
    "ex_prediction_loglin = ex_loglin.predict(ex_data_loglin.loc[:,['const','Day']])\n",
    "ex_prediction_loglin[0:10]\n"
   ]
  },
  {
   "cell_type": "markdown",
   "id": "d71f4fc4",
   "metadata": {},
   "source": [
    "#### Task 6\n",
    "##### Exponentiate the predictions and save as `ex_prediction`.\n",
    "##### Print the first 10 rows of `ex_prediction`.\n",
    "#### Result:\n"
   ]
  },
  {
   "cell_type": "code",
   "execution_count": 20,
   "id": "635113b9",
   "metadata": {},
   "outputs": [
    {
     "data": {
      "text/plain": [
       "0    89.634565\n",
       "1    89.752981\n",
       "2    89.871553\n",
       "3    89.990282\n",
       "4    90.109168\n",
       "5    90.228211\n",
       "6    90.347411\n",
       "7    90.466769\n",
       "8    90.586284\n",
       "9    90.705958\n",
       "dtype: float64"
      ]
     },
     "execution_count": 20,
     "metadata": {},
     "output_type": "execute_result"
    }
   ],
   "source": [
    "ex_prediction = np.exp(ex_prediction_loglin)\n",
    "ex_prediction[0:10]\n"
   ]
  },
  {
   "cell_type": "markdown",
   "id": "2674e778",
   "metadata": {},
   "source": [
    "#### Task 7\n",
    "##### Create a scatterplot of the actual values of `Stock Price` and the predicted values of `Stock Price`. \n",
    "##### Plot the actual stock price as the scatter points and the predicted stock price as a red line to compare.\n",
    "#### Result:\n"
   ]
  },
  {
   "cell_type": "code",
   "execution_count": 21,
   "id": "6ac144af",
   "metadata": {},
   "outputs": [
    {
     "data": {
      "image/png": "[encoded data removed]",
      "text/plain": [
       "<Figure size 432x288 with 1 Axes>"
      ]
     },
     "metadata": {
      "needs_background": "light"
     },
     "output_type": "display_data"
    }
   ],
   "source": [
    "plt.scatter(ex_data_loglin['Day'],ex_data_loglin['Stock Price'])\n",
    "plt.plot(ex_data_loglin['Day'], ex_prediction, 'red')\n",
    "plt.title(\"Stock Price over time\")\n",
    "plt.xlabel(\"Days\")\n",
    "plt.ylabel(\"Stock Price\")\n",
    "plt.show()\n"
   ]
  },
  {
   "cell_type": "markdown",
   "id": "94bdad3d",
   "metadata": {},
   "source": [
    "#### Task 8\n",
    "##### Get the residuals and put them into a dataframe called `ex_loglin_results`, along with the actual values of `Stock Price` and the exponentiated predictions of `Stock Price`.\n",
    "##### Using the RMSE function, get the RMSE of our log-lin model.\n"
   ]
  },
  {
   "cell_type": "code",
   "execution_count": 22,
   "id": "b83d2d16",
   "metadata": {},
   "outputs": [],
   "source": [
    "def rmse(predictions,actual):\n",
    "    return np.sqrt(((prediction-actual) ** 2).mean())\n"
   ]
  },
  {
   "cell_type": "markdown",
   "id": "07222a42",
   "metadata": {},
   "source": [
    "#### Result:\n"
   ]
  },
  {
   "cell_type": "code",
   "execution_count": 23,
   "id": "7b6f59b4",
   "metadata": {},
   "outputs": [
    {
     "name": "stdout",
     "output_type": "stream",
     "text": [
      "6.834043044445937\n"
     ]
    }
   ],
   "source": [
    "actual = ex_data_loglin['Stock Price']\n",
    "prediction = ex_prediction\n",
    "residuals = actual - prediction\n",
    "ex_loglin_results =  pd.concat([actual.rename('actual'),\n",
    "                              prediction.rename('predicted'),\n",
    "                              residuals.rename('residuals')], axis = 1)\n",
    "print(rmse(ex_loglin_results['predicted'],ex_loglin_results['actual']))\n"
   ]
  },
  {
   "cell_type": "markdown",
   "id": "ea9a3fb5",
   "metadata": {},
   "source": [
    "#### Task 9\n",
    "##### Build a standard linear model with the dataset, and get a plot of `actual vs.predicted`.\n",
    "##### Compare the plot with our previous plot of the log-lin model.\n",
    "##### Try calculating the RMSE for a more accurate comparison.\n",
    "#### Result:\n"
   ]
  },
  {
   "cell_type": "code",
   "execution_count": 24,
   "id": "c6860756",
   "metadata": {},
   "outputs": [
    {
     "data": {
      "image/png": "[encoded data removed]",
      "text/plain": [
       "<Figure size 432x288 with 1 Axes>"
      ]
     },
     "metadata": {
      "needs_background": "light"
     },
     "output_type": "display_data"
    },
    {
     "name": "stdout",
     "output_type": "stream",
     "text": [
      "7.645477710537619\n"
     ]
    }
   ],
   "source": [
    "# Fit the model\n",
    "model_lin = sm.OLS(ex_data_loglin['Stock Price'], ex_data_loglin.loc[:,['const','Day']]).fit()\n",
    "prediction = model_lin.predict(ex_data_loglin.loc[:,['const','Day']])\n",
    "plt.scatter(ex_data_loglin['Day'],ex_data_loglin['Stock Price'])\n",
    "plt.plot(ex_data_loglin['Day'], prediction, 'red')\n",
    "plt.title(\"Stock Price over time with standard linear model\")\n",
    "plt.xlabel(\"Days\")\n",
    "plt.ylabel(\"Stock price\")\n",
    "plt.show()\n",
    "# We can't really see a big difference with the log-lin model. Let's calculate RMSE for a more accurate comparison.\n",
    "actual = ex_data_loglin['Stock Price']\n",
    "prediction = prediction\n",
    "residuals = actual - prediction\n",
    "ex_loglin_linear_results =  pd.concat([actual.rename('actual'),\n",
    "                              prediction.rename('predicted'),\n",
    "                              residuals.rename('residuals')], axis = 1)\n",
    "print(rmse(ex_loglin_linear_results['predicted'], ex_loglin_linear_results['actual']))\n",
    "# Now we can see that the log-lin model is better than the linear model given that the linear model RMSE is bigger, even if it's a slight difference.\n"
   ]
  },
  {
   "cell_type": "markdown",
   "id": "81618458",
   "metadata": {},
   "source": [
    "#### Exercise 3\n",
    "#### Task 1\n",
    "##### Load `poly-data.csv` and save as `ex_data_poly`.\n",
    "##### This is a dataset generated to show 150 data points exhibiting a polynomial relationship.\n",
    "##### Check the shape of the data, print the first few rows, and check for any missing values. \n",
    "##### Sort the dataframe according to `x`.\n",
    "#### Result:\n"
   ]
  },
  {
   "cell_type": "code",
   "execution_count": 29,
   "id": "de70ddd0",
   "metadata": {},
   "outputs": [],
   "source": [
    "ex_data_poly = pd.read_csv('poly-data.csv')\n",
    "ex_data_poly.shape\n",
    "ex_data_poly.head()\n",
    "ex_data_poly.isnull().values.any()\n",
    "ex_data_poly.sort_values(by = ['x'], inplace = True)\n"
   ]
  },
  {
   "cell_type": "markdown",
   "id": "9695648b",
   "metadata": {},
   "source": [
    "#### Task 2\n",
    "##### Using `np.power()`, add two new predictors called `x2` and `x3`.\n",
    "##### Print out the first few rows with the new predictors.\n",
    "#### Result:\n"
   ]
  },
  {
   "cell_type": "code",
   "execution_count": 30,
   "id": "ab54f52b",
   "metadata": {},
   "outputs": [
    {
     "data": {
      "text/html": [
       "<div>\n",
       "<style scoped>\n",
       "    .dataframe tbody tr th:only-of-type {\n",
       "        vertical-align: middle;\n",
       "    }\n",
       "\n",
       "    .dataframe tbody tr th {\n",
       "        vertical-align: top;\n",
       "    }\n",
       "\n",
       "    .dataframe thead th {\n",
       "        text-align: right;\n",
       "    }\n",
       "</style>\n",
       "<table border=\"1\" class=\"dataframe\">\n",
       "  <thead>\n",
       "    <tr style=\"text-align: right;\">\n",
       "      <th></th>\n",
       "      <th>x</th>\n",
       "      <th>y</th>\n",
       "      <th>x2</th>\n",
       "      <th>x3</th>\n",
       "    </tr>\n",
       "  </thead>\n",
       "  <tbody>\n",
       "    <tr>\n",
       "      <th>129</th>\n",
       "      <td>0.005676</td>\n",
       "      <td>-0.098644</td>\n",
       "      <td>0.000032</td>\n",
       "      <td>1.829024e-07</td>\n",
       "    </tr>\n",
       "    <tr>\n",
       "      <th>42</th>\n",
       "      <td>0.005998</td>\n",
       "      <td>1.091955</td>\n",
       "      <td>0.000036</td>\n",
       "      <td>2.157555e-07</td>\n",
       "    </tr>\n",
       "    <tr>\n",
       "      <th>108</th>\n",
       "      <td>0.012313</td>\n",
       "      <td>-0.202702</td>\n",
       "      <td>0.000152</td>\n",
       "      <td>1.866939e-06</td>\n",
       "    </tr>\n",
       "    <tr>\n",
       "      <th>141</th>\n",
       "      <td>0.016256</td>\n",
       "      <td>-0.389729</td>\n",
       "      <td>0.000264</td>\n",
       "      <td>4.295415e-06</td>\n",
       "    </tr>\n",
       "    <tr>\n",
       "      <th>140</th>\n",
       "      <td>0.018529</td>\n",
       "      <td>0.212417</td>\n",
       "      <td>0.000343</td>\n",
       "      <td>6.361774e-06</td>\n",
       "    </tr>\n",
       "  </tbody>\n",
       "</table>\n",
       "</div>"
      ],
      "text/plain": [
       "            x         y        x2            x3\n",
       "129  0.005676 -0.098644  0.000032  1.829024e-07\n",
       "42   0.005998  1.091955  0.000036  2.157555e-07\n",
       "108  0.012313 -0.202702  0.000152  1.866939e-06\n",
       "141  0.016256 -0.389729  0.000264  4.295415e-06\n",
       "140  0.018529  0.212417  0.000343  6.361774e-06"
      ]
     },
     "execution_count": 30,
     "metadata": {},
     "output_type": "execute_result"
    }
   ],
   "source": [
    "ex_data_poly['x2'] = np.power(ex_data_poly['x'], 2)\n",
    "ex_data_poly['x3'] = np.power(ex_data_poly['x'], 3)\n",
    "ex_data_poly.head()\n"
   ]
  },
  {
   "cell_type": "markdown",
   "id": "0356573c",
   "metadata": {},
   "source": [
    "#### Task 3\n",
    "##### Add a constant to our data and fit the model using `sm.OLS`. \n",
    "##### Name the fitted model as `ex_model_poly`.\n",
    "#### Result:\n"
   ]
  },
  {
   "cell_type": "code",
   "execution_count": 31,
   "id": "a5e4583a",
   "metadata": {},
   "outputs": [],
   "source": [
    "ex_data_poly = sm.add_constant(ex_data_poly)\n",
    "ex_data_poly.head()\n",
    "ex_model_poly = sm.OLS(ex_data_poly['y'], ex_data_poly.loc[:,['const','x','x2','x3']]).fit()\n"
   ]
  },
  {
   "cell_type": "markdown",
   "id": "d90f9b2d",
   "metadata": {},
   "source": [
    "#### Task 4\n",
    "##### Using `ex_model_poly` model, predict the target using `x`, `x2`, and `x3` as predictors.\n",
    "##### Save the predictions as `ex_prediction_poly`.\n",
    "##### Print the first ten rows of the predictions.\n",
    "#### Result:\n"
   ]
  },
  {
   "cell_type": "code",
   "execution_count": 32,
   "id": "64ebcbe4",
   "metadata": {},
   "outputs": [
    {
     "data": {
      "text/plain": [
       "129   -0.097369\n",
       "42    -0.093715\n",
       "108   -0.023304\n",
       "141    0.019291\n",
       "140    0.043389\n",
       "96     0.302458\n",
       "24     0.388395\n",
       "91     0.444356\n",
       "10     0.623348\n",
       "29     0.640664\n",
       "dtype: float64"
      ]
     },
     "execution_count": 32,
     "metadata": {},
     "output_type": "execute_result"
    }
   ],
   "source": [
    "ex_prediction_poly = ex_model_poly.predict(ex_data_poly.loc[:,['const','x','x2','x3']])\n",
    "ex_prediction_poly[0:10]\n"
   ]
  },
  {
   "cell_type": "markdown",
   "id": "05c20ca8",
   "metadata": {},
   "source": [
    "#### Task 5\n",
    "##### Create a plot that shows the actual values of `y` and the predicted values of `y`. \n",
    "##### Plot the actual points of `y` as scatter points and the predicted values of `y` as a red line. \n",
    "#### Result:\n"
   ]
  },
  {
   "cell_type": "code",
   "execution_count": 33,
   "id": "b7f8979f",
   "metadata": {},
   "outputs": [
    {
     "data": {
      "image/png": "[encoded data removed]",
      "text/plain": [
       "<Figure size 432x288 with 1 Axes>"
      ]
     },
     "metadata": {
      "needs_background": "light"
     },
     "output_type": "display_data"
    }
   ],
   "source": [
    "plt.scatter(ex_data_poly['x'],ex_data_poly['y'])\n",
    "plt.plot(ex_data_poly['x'], ex_prediction_poly, 'red')\n",
    "plt.title(\"X vs. Y\")\n",
    "plt.xlabel(\"X\")\n",
    "plt.ylabel(\"Y\")\n",
    "plt.show()\n"
   ]
  },
  {
   "cell_type": "markdown",
   "id": "02b4a70a",
   "metadata": {},
   "source": [
    "#### Task 6\n",
    "##### Get the residuals and put them into a dataframe called `ex_poly_results`, along with the actual values of `y` and the predictions of `y`.\n",
    "##### Using the RMSE function, get the RMSE of our polynomial model.\n"
   ]
  },
  {
   "cell_type": "code",
   "execution_count": 34,
   "id": "0e4c9d23",
   "metadata": {},
   "outputs": [],
   "source": [
    "def rmse(predictions,actual):\n",
    "    return np.sqrt(((prediction - actual) ** 2).mean())\n",
    "  \n"
   ]
  },
  {
   "cell_type": "markdown",
   "id": "1226245b",
   "metadata": {},
   "source": [
    "#### Result:  \n"
   ]
  },
  {
   "cell_type": "code",
   "execution_count": 35,
   "id": "7c117a59",
   "metadata": {},
   "outputs": [
    {
     "data": {
      "text/plain": [
       "0.37673434352080615"
      ]
     },
     "execution_count": 35,
     "metadata": {},
     "output_type": "execute_result"
    }
   ],
   "source": [
    "actual = ex_data_poly['y']\n",
    "prediction = ex_prediction_poly\n",
    "residuals = actual - prediction\n",
    "ex_poly_results =  pd.concat([actual.rename('actual'),\n",
    "                              prediction.rename('predicted'),\n",
    "                              residuals.rename('residuals')], axis = 1)\n",
    "                              \n",
    "rmse(ex_poly_results['predicted'], ex_poly_results['actual'])\n"
   ]
  },
  {
   "cell_type": "markdown",
   "id": "979f05d7",
   "metadata": {},
   "source": [
    "#### Task 7\n",
    "##### Build a standard linear model and plot `actual vs predicted` to see how the model would have performed.\n",
    "##### Compare this plot with the previous plot we made with polynomial terms added in.\n",
    "#### Result:\n"
   ]
  },
  {
   "cell_type": "code",
   "execution_count": 36,
   "id": "3db8575f",
   "metadata": {},
   "outputs": [
    {
     "data": {
      "image/png": "[encoded data removed]",
      "text/plain": [
       "<Figure size 432x288 with 1 Axes>"
      ]
     },
     "metadata": {
      "needs_background": "light"
     },
     "output_type": "display_data"
    }
   ],
   "source": [
    "# Fit the model\n",
    "model_lin = sm.OLS(ex_data_poly['y'], ex_data_poly.loc[:,['const','x']]).fit()\n",
    "prediction = model_lin.predict(ex_data_poly.loc[:,['const','x']])\n",
    "plt.scatter(ex_data_poly['x'],ex_data_poly['y'])\n",
    "plt.plot(ex_data_poly['x'], prediction, 'red')\n",
    "plt.title(\"X vs. Y\")\n",
    "plt.xlabel(\"X\")\n",
    "plt.ylabel(\"Y\")\n",
    "plt.show()\n"
   ]
  },
  {
   "cell_type": "markdown",
   "id": "c29b8c1f",
   "metadata": {},
   "source": [
    "#### Exercise 4\n",
    "#### Task 1\n",
    "##### Load the `interaction-data.csv` as `ex_interaction`. \n",
    "##### This is a dataset that predicts `Income` with `Illiteracy` and `High School Graduate Percentage` as predictors.\n",
    "##### Check the shape of `ex_interaction` and print the first few rows to see what the dataset looks like. \n",
    "##### Check if there are any missing values in the dataset. \n",
    "#### Result:\n"
   ]
  },
  {
   "cell_type": "code",
   "execution_count": 38,
   "id": "abe2bf3a",
   "metadata": {},
   "outputs": [
    {
     "data": {
      "text/plain": [
       "False"
      ]
     },
     "execution_count": 38,
     "metadata": {},
     "output_type": "execute_result"
    }
   ],
   "source": [
    "ex_interaction = pd.read_csv('interaction-data.csv')\n",
    "ex_interaction.shape\n",
    "ex_interaction.head()\n",
    "ex_interaction.isnull().values.any()\n"
   ]
  },
  {
   "cell_type": "markdown",
   "id": "559b11cc",
   "metadata": {},
   "source": [
    "#### Task 2\n",
    "##### Add the interaction term between `Illiteracy` and `HS Grad` as `illiteracy:hsgrad`.\n",
    "##### Take a look at the first few rows again.\n",
    "#### Result:\n"
   ]
  },
  {
   "cell_type": "code",
   "execution_count": 39,
   "id": "3606fdab",
   "metadata": {},
   "outputs": [
    {
     "data": {
      "text/html": [
       "<div>\n",
       "<style scoped>\n",
       "    .dataframe tbody tr th:only-of-type {\n",
       "        vertical-align: middle;\n",
       "    }\n",
       "\n",
       "    .dataframe tbody tr th {\n",
       "        vertical-align: top;\n",
       "    }\n",
       "\n",
       "    .dataframe thead th {\n",
       "        text-align: right;\n",
       "    }\n",
       "</style>\n",
       "<table border=\"1\" class=\"dataframe\">\n",
       "  <thead>\n",
       "    <tr style=\"text-align: right;\">\n",
       "      <th></th>\n",
       "      <th>Income</th>\n",
       "      <th>Illiteracy</th>\n",
       "      <th>HS Grad</th>\n",
       "      <th>illiteracy:hsgrad</th>\n",
       "    </tr>\n",
       "  </thead>\n",
       "  <tbody>\n",
       "    <tr>\n",
       "      <th>0</th>\n",
       "      <td>3624</td>\n",
       "      <td>2.1</td>\n",
       "      <td>41.3</td>\n",
       "      <td>86.73</td>\n",
       "    </tr>\n",
       "    <tr>\n",
       "      <th>1</th>\n",
       "      <td>6315</td>\n",
       "      <td>1.5</td>\n",
       "      <td>66.7</td>\n",
       "      <td>100.05</td>\n",
       "    </tr>\n",
       "    <tr>\n",
       "      <th>2</th>\n",
       "      <td>4530</td>\n",
       "      <td>1.8</td>\n",
       "      <td>58.1</td>\n",
       "      <td>104.58</td>\n",
       "    </tr>\n",
       "    <tr>\n",
       "      <th>3</th>\n",
       "      <td>3378</td>\n",
       "      <td>1.9</td>\n",
       "      <td>39.9</td>\n",
       "      <td>75.81</td>\n",
       "    </tr>\n",
       "    <tr>\n",
       "      <th>4</th>\n",
       "      <td>5114</td>\n",
       "      <td>1.1</td>\n",
       "      <td>62.6</td>\n",
       "      <td>68.86</td>\n",
       "    </tr>\n",
       "  </tbody>\n",
       "</table>\n",
       "</div>"
      ],
      "text/plain": [
       "   Income  Illiteracy  HS Grad  illiteracy:hsgrad\n",
       "0    3624         2.1     41.3              86.73\n",
       "1    6315         1.5     66.7             100.05\n",
       "2    4530         1.8     58.1             104.58\n",
       "3    3378         1.9     39.9              75.81\n",
       "4    5114         1.1     62.6              68.86"
      ]
     },
     "execution_count": 39,
     "metadata": {},
     "output_type": "execute_result"
    }
   ],
   "source": [
    "ex_interaction['illiteracy:hsgrad'] = ex_interaction['Illiteracy'] * ex_interaction['HS Grad']\n",
    "ex_interaction.head()\n"
   ]
  },
  {
   "cell_type": "markdown",
   "id": "041a5642",
   "metadata": {},
   "source": [
    "#### Task 3\n",
    "##### Add a constant to the dataframe and fit the model with `Income` as the target variable and the rest of the variables as predictors.\n",
    "##### Name the model as `ex_model_interact`.\n",
    "#### Result:\n"
   ]
  },
  {
   "cell_type": "code",
   "execution_count": 40,
   "id": "11334d55",
   "metadata": {},
   "outputs": [],
   "source": [
    "ex_interaction = sm.add_constant(ex_interaction)\n",
    "ex_model_interact = sm.OLS(ex_interaction['Income'], ex_interaction.loc[:, ['const', 'Illiteracy', 'HS Grad', 'illiteracy:hsgrad']]).fit()\n"
   ]
  },
  {
   "cell_type": "markdown",
   "id": "5053c40c",
   "metadata": {},
   "source": [
    "#### Task 4\n",
    "##### Using the fitted model, predict using the same variables as predictors.\n",
    "##### Name the predictions as `ex_prediction_interact` and take a look at the first 10 rows of the prediction.\n",
    "#### Result:\n"
   ]
  },
  {
   "cell_type": "code",
   "execution_count": 41,
   "id": "1b14f93c",
   "metadata": {},
   "outputs": [
    {
     "data": {
      "text/plain": [
       "0    3685.379693\n",
       "1    5279.695256\n",
       "2    4928.555613\n",
       "3    3694.678020\n",
       "4    4880.432683\n",
       "5    4702.781546\n",
       "6    4674.796122\n",
       "7    4610.719855\n",
       "8    4570.260191\n",
       "9    3686.693648\n",
       "dtype: float64"
      ]
     },
     "execution_count": 41,
     "metadata": {},
     "output_type": "execute_result"
    }
   ],
   "source": [
    "ex_prediction_interact = ex_model_interact.predict(ex_interaction.loc[:,['const','Illiteracy','HS Grad','illiteracy:hsgrad']])\n",
    "ex_prediction_interact[0:10]\n"
   ]
  },
  {
   "cell_type": "markdown",
   "id": "1fa3b3c2",
   "metadata": {},
   "source": [
    "#### Task 5\n",
    "##### Evaluate the model using the defined RMSE function.\n"
   ]
  },
  {
   "cell_type": "code",
   "execution_count": 42,
   "id": "f84f4430",
   "metadata": {},
   "outputs": [],
   "source": [
    "def rmse(predictions,actual):\n",
    "    return np.sqrt(((prediction-actual) ** 2).mean())\n"
   ]
  },
  {
   "cell_type": "markdown",
   "id": "6f4c5d28",
   "metadata": {},
   "source": [
    "#### Result:\n"
   ]
  },
  {
   "cell_type": "code",
   "execution_count": 43,
   "id": "dd28bb3e",
   "metadata": {},
   "outputs": [
    {
     "name": "stdout",
     "output_type": "stream",
     "text": [
      "429.2036945597498\n"
     ]
    }
   ],
   "source": [
    "actual = ex_interaction['Income']\n",
    "prediction = ex_prediction_interact\n",
    "residuals = actual - prediction\n",
    "ex_interact_results =  pd.concat([actual.rename('actual'),\n",
    "                              prediction.rename('predicted'),\n",
    "                              residuals.rename('residuals')], axis = 1)\n",
    "print(rmse(ex_interact_results['predicted'],ex_interact_results['actual']))\n"
   ]
  },
  {
   "cell_type": "markdown",
   "id": "71e2a382",
   "metadata": {},
   "source": [
    "#### Task 6\n",
    "##### How would the model have performed if we did not add the interaction term?\n",
    "##### Build a new model without the interaction term and calculate the RMSE. \n",
    "#### Result:\n"
   ]
  },
  {
   "cell_type": "code",
   "execution_count": 44,
   "id": "2415dbfb",
   "metadata": {},
   "outputs": [
    {
     "name": "stdout",
     "output_type": "stream",
     "text": [
      "477\n"
     ]
    }
   ],
   "source": [
    "model_interaction = sm.OLS(ex_interaction['Income'], ex_interaction.loc[:,['const','Illiteracy','HS Grad']]).fit()\n",
    "prediction_interaction = model_interaction.predict(ex_interaction.loc[:,['const','Illiteracy','HS Grad']])\n",
    "actual = ex_interaction['Income']\n",
    "prediction = prediction_interaction\n",
    "residuals = actual - prediction\n",
    "interaction_results =  pd.concat([actual.rename('actual'),\n",
    "                              prediction.rename('predicted'),\n",
    "                              residuals.rename('residuals')], axis = 1)\n",
    "print(round(rmse(interaction_results['predicted'],interaction_results['actual'])))\n"
   ]
  },
  {
   "cell_type": "code",
   "execution_count": null,
   "id": "139408cb",
   "metadata": {},
   "outputs": [],
   "source": []
  },
  {
   "cell_type": "code",
   "execution_count": null,
   "id": "95a6a130",
   "metadata": {},
   "outputs": [],
   "source": []
  }
 ],
 "metadata": {
  "kernelspec": {
   "display_name": "Python 3 (ipykernel)",
   "language": "python",
   "name": "python3"
  },
  "language_info": {
   "codemirror_mode": {
    "name": "ipython",
    "version": 3
   },
   "file_extension": ".py",
   "mimetype": "text/x-python",
   "name": "python",
   "nbconvert_exporter": "python",
   "pygments_lexer": "ipython3",
   "version": "3.9.12"
  }
 },
 "nbformat": 4,
 "nbformat_minor": 5
}
