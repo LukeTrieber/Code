{
 "cells": [
  {
   "cell_type": "markdown",
   "metadata": {
    "application/vnd.databricks.v1+cell": {
     "inputWidgets": {},
     "nuid": "2b051446-d358-4084-ad29-c6cb063c4407",
     "showTitle": false,
     "title": ""
    }
   },
   "source": [
    "# Building Scalable Models in PySpark - Exercises with answers"
   ]
  },
  {
   "cell_type": "markdown",
   "metadata": {
    "application/vnd.databricks.v1+cell": {
     "inputWidgets": {},
     "nuid": "3d782745-1e52-4d1f-b237-61340b30e2b6",
     "showTitle": false,
     "title": ""
    }
   },
   "source": [
    "## Exercise 1"
   ]
  },
  {
   "cell_type": "markdown",
   "metadata": {
    "application/vnd.databricks.v1+cell": {
     "inputWidgets": {},
     "nuid": "dd462637-e3e2-400d-91df-8ef23d537486",
     "showTitle": false,
     "title": ""
    }
   },
   "source": [
    "#### Task 1\n",
    "##### Initialize SparkContext\n",
    "##### Create a RDD called ``RDD_numbers`` from a list with elements 10,20,30,40\n",
    "##### Retrieve all the elements from ``RDD_numbers`` \n",
    "\n",
    "#### Result:"
   ]
  },
  {
   "cell_type": "code",
   "execution_count": 0,
   "metadata": {
    "application/vnd.databricks.v1+cell": {
     "inputWidgets": {},
     "nuid": "3c340138-e670-4490-b196-039eb0b60e30",
     "showTitle": false,
     "title": ""
    }
   },
   "outputs": [
    {
     "data": {
      "text/html": [
       "<style scoped>\n",
       "  .ansiout {\n",
       "    display: block;\n",
       "    unicode-bidi: embed;\n",
       "    white-space: pre-wrap;\n",
       "    word-wrap: break-word;\n",
       "    word-break: break-all;\n",
       "    font-family: \"Source Code Pro\", \"Menlo\", monospace;;\n",
       "    font-size: 13px;\n",
       "    color: #555;\n",
       "    margin-left: 4px;\n",
       "    line-height: 19px;\n",
       "  }\n",
       "</style>\n",
       "<div class=\"ansiout\">Out[1]: </div>"
      ]
     },
     "metadata": {
      "application/vnd.databricks.v1+output": {
       "addedWidgets": {},
       "arguments": {},
       "data": "<div class=\"ansiout\">Out[1]: </div>",
       "datasetInfos": [],
       "removedWidgets": [],
       "type": "html"
      }
     },
     "output_type": "display_data"
    },
    {
     "data": {
      "text/html": [
       "\n",
       "        <div>\n",
       "            <p><b>SparkContext</b></p>\n",
       "\n",
       "            <p><a href=\"http://10.172.224.79:47530\">Spark UI</a></p>\n",
       "\n",
       "            <dl>\n",
       "              <dt>Version</dt>\n",
       "                <dd><code>v3.0.1</code></dd>\n",
       "              <dt>Master</dt>\n",
       "                <dd><code>local[8]</code></dd>\n",
       "              <dt>AppName</dt>\n",
       "                <dd><code>Databricks Shell</code></dd>\n",
       "            </dl>\n",
       "        </div>\n",
       "        "
      ]
     },
     "metadata": {
      "application/vnd.databricks.v1+output": {
       "addedWidgets": {},
       "arguments": {},
       "data": "\n        <div>\n            <p><b>SparkContext</b></p>\n\n            <p><a href=\"http://10.172.224.79:47530\">Spark UI</a></p>\n\n            <dl>\n              <dt>Version</dt>\n                <dd><code>v3.0.1</code></dd>\n              <dt>Master</dt>\n                <dd><code>local[8]</code></dd>\n              <dt>AppName</dt>\n                <dd><code>Databricks Shell</code></dd>\n            </dl>\n        </div>\n        ",
       "datasetInfos": [],
       "removedWidgets": [],
       "textData": null,
       "type": "htmlSandbox"
      }
     },
     "output_type": "display_data"
    }
   ],
   "source": [
    "sc"
   ]
  },
  {
   "cell_type": "code",
   "execution_count": 0,
   "metadata": {
    "application/vnd.databricks.v1+cell": {
     "inputWidgets": {},
     "nuid": "44d6a52d-53e7-4975-8904-f3a597d152aa",
     "showTitle": false,
     "title": ""
    }
   },
   "outputs": [
    {
     "data": {
      "text/html": [
       "<style scoped>\n",
       "  .ansiout {\n",
       "    display: block;\n",
       "    unicode-bidi: embed;\n",
       "    white-space: pre-wrap;\n",
       "    word-wrap: break-word;\n",
       "    word-break: break-all;\n",
       "    font-family: \"Source Code Pro\", \"Menlo\", monospace;;\n",
       "    font-size: 13px;\n",
       "    color: #555;\n",
       "    margin-left: 4px;\n",
       "    line-height: 19px;\n",
       "  }\n",
       "</style>\n",
       "<div class=\"ansiout\">Out[2]: [10, 20, 30, 40]</div>"
      ]
     },
     "metadata": {
      "application/vnd.databricks.v1+output": {
       "addedWidgets": {},
       "arguments": {},
       "data": "<div class=\"ansiout\">Out[2]: [10, 20, 30, 40]</div>",
       "datasetInfos": [],
       "removedWidgets": [],
       "type": "html"
      }
     },
     "output_type": "display_data"
    }
   ],
   "source": [
    "numbers = [10, 20, 30, 40]\n",
    "RDD_numbers = sc.parallelize(numbers)\n",
    "RDD_numbers.collect()"
   ]
  },
  {
   "cell_type": "markdown",
   "metadata": {
    "application/vnd.databricks.v1+cell": {
     "inputWidgets": {},
     "nuid": "1c073be9-4c27-4126-8c8d-2c27d064ad54",
     "showTitle": false,
     "title": ""
    }
   },
   "source": [
    "#### Task 2\n",
    "##### Create a RDD called ``RDD_words`` using the words \"big data\", \"python\", \"dataframe\", \"spark\", \"rdd\", \"spark module\", \"data science\"\n",
    "##### Retrieve all the elements from ``RDD_words``\n",
    "\n",
    "#### Result:"
   ]
  },
  {
   "cell_type": "code",
   "execution_count": 0,
   "metadata": {
    "application/vnd.databricks.v1+cell": {
     "inputWidgets": {},
     "nuid": "ed331df5-687b-4642-8028-8ce0efffa9ff",
     "showTitle": false,
     "title": ""
    }
   },
   "outputs": [
    {
     "data": {
      "text/html": [
       "<style scoped>\n",
       "  .ansiout {\n",
       "    display: block;\n",
       "    unicode-bidi: embed;\n",
       "    white-space: pre-wrap;\n",
       "    word-wrap: break-word;\n",
       "    word-break: break-all;\n",
       "    font-family: \"Source Code Pro\", \"Menlo\", monospace;;\n",
       "    font-size: 13px;\n",
       "    color: #555;\n",
       "    margin-left: 4px;\n",
       "    line-height: 19px;\n",
       "  }\n",
       "</style>\n",
       "<div class=\"ansiout\">Out[3]: [&#39;big data&#39;,\n",
       " &#39;python&#39;,\n",
       " &#39;dataframe&#39;,\n",
       " &#39;spark&#39;,\n",
       " &#39;rdd&#39;,\n",
       " &#39;spark module&#39;,\n",
       " &#39;data science&#39;]</div>"
      ]
     },
     "metadata": {
      "application/vnd.databricks.v1+output": {
       "addedWidgets": {},
       "arguments": {},
       "data": "<div class=\"ansiout\">Out[3]: [&#39;big data&#39;,\n &#39;python&#39;,\n &#39;dataframe&#39;,\n &#39;spark&#39;,\n &#39;rdd&#39;,\n &#39;spark module&#39;,\n &#39;data science&#39;]</div>",
       "datasetInfos": [],
       "removedWidgets": [],
       "type": "html"
      }
     },
     "output_type": "display_data"
    }
   ],
   "source": [
    "RDD_words = sc.parallelize ([\"big data\", \"python\", \"dataframe\", \"spark\", \"rdd\", \"spark module\", \"data science\"])\n",
    "RDD_words.collect()"
   ]
  },
  {
   "cell_type": "markdown",
   "metadata": {
    "application/vnd.databricks.v1+cell": {
     "inputWidgets": {},
     "nuid": "5d4f1db0-e679-47f1-85c1-7a7c3dc8d51f",
     "showTitle": false,
     "title": ""
    }
   },
   "source": [
    "#### Task 3\n",
    "##### Create a new RDD called ``data_filter`` from the RDD created in Question 2 that contains the word ``data``\n",
    "##### Retrieve all the elements from ``data_filter``\n",
    "\n",
    "#### Result:"
   ]
  },
  {
   "cell_type": "code",
   "execution_count": 0,
   "metadata": {
    "application/vnd.databricks.v1+cell": {
     "inputWidgets": {},
     "nuid": "4a462a5d-fe67-4687-a280-010bda8131b9",
     "showTitle": false,
     "title": ""
    }
   },
   "outputs": [
    {
     "data": {
      "text/html": [
       "<style scoped>\n",
       "  .ansiout {\n",
       "    display: block;\n",
       "    unicode-bidi: embed;\n",
       "    white-space: pre-wrap;\n",
       "    word-wrap: break-word;\n",
       "    word-break: break-all;\n",
       "    font-family: \"Source Code Pro\", \"Menlo\", monospace;;\n",
       "    font-size: 13px;\n",
       "    color: #555;\n",
       "    margin-left: 4px;\n",
       "    line-height: 19px;\n",
       "  }\n",
       "</style>\n",
       "<div class=\"ansiout\">Out[4]: [&#39;big data&#39;, &#39;dataframe&#39;, &#39;data science&#39;]</div>"
      ]
     },
     "metadata": {
      "application/vnd.databricks.v1+output": {
       "addedWidgets": {},
       "arguments": {},
       "data": "<div class=\"ansiout\">Out[4]: [&#39;big data&#39;, &#39;dataframe&#39;, &#39;data science&#39;]</div>",
       "datasetInfos": [],
       "removedWidgets": [],
       "type": "html"
      }
     },
     "output_type": "display_data"
    }
   ],
   "source": [
    "data_filter = RDD_words.filter(lambda x: 'data' in x)\n",
    "data_filter.collect()"
   ]
  },
  {
   "cell_type": "markdown",
   "metadata": {
    "application/vnd.databricks.v1+cell": {
     "inputWidgets": {},
     "nuid": "1a8c71dd-e8b5-4f84-9a95-5e5a22961fd0",
     "showTitle": false,
     "title": ""
    }
   },
   "source": [
    "#### Task 4\n",
    "##### Create a new RDD called ``spark_filter`` from the RDD created in Question 2 that contains the word ``spark``\n",
    "##### Retrieve all the elements from ``spark_filter``\n",
    "\n",
    "#### Result:"
   ]
  },
  {
   "cell_type": "code",
   "execution_count": 0,
   "metadata": {
    "application/vnd.databricks.v1+cell": {
     "inputWidgets": {},
     "nuid": "95a194ab-a149-4b40-b066-9351d21ec984",
     "showTitle": false,
     "title": ""
    }
   },
   "outputs": [
    {
     "data": {
      "text/html": [
       "<style scoped>\n",
       "  .ansiout {\n",
       "    display: block;\n",
       "    unicode-bidi: embed;\n",
       "    white-space: pre-wrap;\n",
       "    word-wrap: break-word;\n",
       "    word-break: break-all;\n",
       "    font-family: \"Source Code Pro\", \"Menlo\", monospace;;\n",
       "    font-size: 13px;\n",
       "    color: #555;\n",
       "    margin-left: 4px;\n",
       "    line-height: 19px;\n",
       "  }\n",
       "</style>\n",
       "<div class=\"ansiout\">Out[5]: [&#39;spark&#39;, &#39;spark module&#39;]</div>"
      ]
     },
     "metadata": {
      "application/vnd.databricks.v1+output": {
       "addedWidgets": {},
       "arguments": {},
       "data": "<div class=\"ansiout\">Out[5]: [&#39;spark&#39;, &#39;spark module&#39;]</div>",
       "datasetInfos": [],
       "removedWidgets": [],
       "type": "html"
      }
     },
     "output_type": "display_data"
    }
   ],
   "source": [
    "spark_filter = RDD_words.filter(lambda x: 'spark' in x)\n",
    "spark_filter.collect()"
   ]
  },
  {
   "cell_type": "markdown",
   "metadata": {
    "application/vnd.databricks.v1+cell": {
     "inputWidgets": {},
     "nuid": "d7944b0c-c4ca-4410-a009-54e71408ab98",
     "showTitle": false,
     "title": ""
    }
   },
   "source": [
    "#### Task 5\n",
    "##### Combine `data_filter` and `spark_filter` in an RDD called `filteredwords_ex` by taking the union\n",
    "##### Retrieve all the elements from **filteredwords_ex**\n",
    "\n",
    "#### Result:"
   ]
  },
  {
   "cell_type": "code",
   "execution_count": 0,
   "metadata": {
    "application/vnd.databricks.v1+cell": {
     "inputWidgets": {},
     "nuid": "c5bd47ae-b2a8-44f5-86cd-7e4a9029f81d",
     "showTitle": false,
     "title": ""
    }
   },
   "outputs": [
    {
     "data": {
      "text/html": [
       "<style scoped>\n",
       "  .ansiout {\n",
       "    display: block;\n",
       "    unicode-bidi: embed;\n",
       "    white-space: pre-wrap;\n",
       "    word-wrap: break-word;\n",
       "    word-break: break-all;\n",
       "    font-family: \"Source Code Pro\", \"Menlo\", monospace;;\n",
       "    font-size: 13px;\n",
       "    color: #555;\n",
       "    margin-left: 4px;\n",
       "    line-height: 19px;\n",
       "  }\n",
       "</style>\n",
       "<div class=\"ansiout\">Out[6]: [&#39;big data&#39;, &#39;dataframe&#39;, &#39;data science&#39;, &#39;spark&#39;, &#39;spark module&#39;]</div>"
      ]
     },
     "metadata": {
      "application/vnd.databricks.v1+output": {
       "addedWidgets": {},
       "arguments": {},
       "data": "<div class=\"ansiout\">Out[6]: [&#39;big data&#39;, &#39;dataframe&#39;, &#39;data science&#39;, &#39;spark&#39;, &#39;spark module&#39;]</div>",
       "datasetInfos": [],
       "removedWidgets": [],
       "type": "html"
      }
     },
     "output_type": "display_data"
    }
   ],
   "source": [
    "filteredwords_ex = data_filter.union(spark_filter)\n",
    "filteredwords_ex.collect()"
   ]
  },
  {
   "cell_type": "markdown",
   "metadata": {
    "application/vnd.databricks.v1+cell": {
     "inputWidgets": {},
     "nuid": "b715b9a1-f197-4b62-ae78-597e427be2a1",
     "showTitle": false,
     "title": ""
    }
   },
   "source": [
    "#### Task 6\n",
    "##### Let's perform some RDD actions\n",
    "##### Count the number of elements present in ``RDD_words``\n",
    "##### Retrieve the ``first`` element from ``RDD_words``\n",
    "\n",
    "##### Retrieve the ``first two`` elements from ``RDD_numbers``\n",
    "\n",
    "#### Result:"
   ]
  },
  {
   "cell_type": "code",
   "execution_count": 0,
   "metadata": {
    "application/vnd.databricks.v1+cell": {
     "inputWidgets": {},
     "nuid": "752cf97d-cb3c-4220-a01e-d1ce3bd71770",
     "showTitle": false,
     "title": ""
    }
   },
   "outputs": [
    {
     "data": {
      "text/html": [
       "<style scoped>\n",
       "  .ansiout {\n",
       "    display: block;\n",
       "    unicode-bidi: embed;\n",
       "    white-space: pre-wrap;\n",
       "    word-wrap: break-word;\n",
       "    word-break: break-all;\n",
       "    font-family: \"Source Code Pro\", \"Menlo\", monospace;;\n",
       "    font-size: 13px;\n",
       "    color: #555;\n",
       "    margin-left: 4px;\n",
       "    line-height: 19px;\n",
       "  }\n",
       "</style>\n",
       "<div class=\"ansiout\">Out[7]: 7</div>"
      ]
     },
     "metadata": {
      "application/vnd.databricks.v1+output": {
       "addedWidgets": {},
       "arguments": {},
       "data": "<div class=\"ansiout\">Out[7]: 7</div>",
       "datasetInfos": [],
       "removedWidgets": [],
       "type": "html"
      }
     },
     "output_type": "display_data"
    }
   ],
   "source": [
    "RDD_words.count()"
   ]
  },
  {
   "cell_type": "code",
   "execution_count": 0,
   "metadata": {
    "application/vnd.databricks.v1+cell": {
     "inputWidgets": {},
     "nuid": "54e92a04-4ef5-4879-904d-93d8f5a99da8",
     "showTitle": false,
     "title": ""
    }
   },
   "outputs": [
    {
     "data": {
      "text/html": [
       "<style scoped>\n",
       "  .ansiout {\n",
       "    display: block;\n",
       "    unicode-bidi: embed;\n",
       "    white-space: pre-wrap;\n",
       "    word-wrap: break-word;\n",
       "    word-break: break-all;\n",
       "    font-family: \"Source Code Pro\", \"Menlo\", monospace;;\n",
       "    font-size: 13px;\n",
       "    color: #555;\n",
       "    margin-left: 4px;\n",
       "    line-height: 19px;\n",
       "  }\n",
       "</style>\n",
       "<div class=\"ansiout\">Out[8]: &#39;big data&#39;</div>"
      ]
     },
     "metadata": {
      "application/vnd.databricks.v1+output": {
       "addedWidgets": {},
       "arguments": {},
       "data": "<div class=\"ansiout\">Out[8]: &#39;big data&#39;</div>",
       "datasetInfos": [],
       "removedWidgets": [],
       "type": "html"
      }
     },
     "output_type": "display_data"
    }
   ],
   "source": [
    "RDD_words.first()"
   ]
  },
  {
   "cell_type": "code",
   "execution_count": 0,
   "metadata": {
    "application/vnd.databricks.v1+cell": {
     "inputWidgets": {},
     "nuid": "af84315d-49a3-492d-8567-704f62475aa9",
     "showTitle": false,
     "title": ""
    }
   },
   "outputs": [
    {
     "data": {
      "text/html": [
       "<style scoped>\n",
       "  .ansiout {\n",
       "    display: block;\n",
       "    unicode-bidi: embed;\n",
       "    white-space: pre-wrap;\n",
       "    word-wrap: break-word;\n",
       "    word-break: break-all;\n",
       "    font-family: \"Source Code Pro\", \"Menlo\", monospace;;\n",
       "    font-size: 13px;\n",
       "    color: #555;\n",
       "    margin-left: 4px;\n",
       "    line-height: 19px;\n",
       "  }\n",
       "</style>\n",
       "<div class=\"ansiout\">Out[9]: [10, 20]</div>"
      ]
     },
     "metadata": {
      "application/vnd.databricks.v1+output": {
       "addedWidgets": {},
       "arguments": {},
       "data": "<div class=\"ansiout\">Out[9]: [10, 20]</div>",
       "datasetInfos": [],
       "removedWidgets": [],
       "type": "html"
      }
     },
     "output_type": "display_data"
    }
   ],
   "source": [
    "RDD_numbers.take(2)"
   ]
  },
  {
   "cell_type": "markdown",
   "metadata": {
    "application/vnd.databricks.v1+cell": {
     "inputWidgets": {},
     "nuid": "8e69c6fb-b3f7-4f51-9a72-61950b198e11",
     "showTitle": false,
     "title": ""
    }
   },
   "source": [
    "## Exercise 2"
   ]
  },
  {
   "cell_type": "markdown",
   "metadata": {
    "application/vnd.databricks.v1+cell": {
     "inputWidgets": {},
     "nuid": "645c14d9-274a-4bb4-9a4a-c27d39c445fc",
     "showTitle": false,
     "title": ""
    }
   },
   "source": [
    "#### Task 1\n",
    "##### Check if the Spark session has been initialized in Databricks\n",
    "##### Import all the packages required for this module\n",
    "##### Create a DataFrame called `bank_data` from the file `bank_marketing.csv`. Choose `option(\"inferSchema\", \"true\")` and `option(\"header\", \"true\")`\n",
    "##### Print the DataFrame``bank_data`` and its schema\n",
    "\n",
    "#### Result:"
   ]
  },
  {
   "cell_type": "code",
   "execution_count": 0,
   "metadata": {
    "application/vnd.databricks.v1+cell": {
     "inputWidgets": {},
     "nuid": "7665507c-29bc-416e-9ad8-37f2c82fadc1",
     "showTitle": false,
     "title": ""
    }
   },
   "outputs": [
    {
     "data": {
      "text/html": [
       "<style scoped>\n",
       "  .ansiout {\n",
       "    display: block;\n",
       "    unicode-bidi: embed;\n",
       "    white-space: pre-wrap;\n",
       "    word-wrap: break-word;\n",
       "    word-break: break-all;\n",
       "    font-family: \"Source Code Pro\", \"Menlo\", monospace;;\n",
       "    font-size: 13px;\n",
       "    color: #555;\n",
       "    margin-left: 4px;\n",
       "    line-height: 19px;\n",
       "  }\n",
       "</style>\n",
       "<div class=\"ansiout\"></div>"
      ]
     },
     "metadata": {
      "application/vnd.databricks.v1+output": {
       "addedWidgets": {},
       "arguments": {},
       "data": "<div class=\"ansiout\"></div>",
       "datasetInfos": [],
       "removedWidgets": [],
       "type": "html"
      }
     },
     "output_type": "display_data"
    }
   ],
   "source": [
    "from pyspark.ml.feature import StringIndexer, OneHotEncoder, VectorAssembler\n",
    "from pyspark.ml import Pipeline\n",
    "from pyspark.ml.classification import LogisticRegression\n",
    "from pyspark.sql.functions import *\n",
    "from pyspark.ml.evaluation import BinaryClassificationEvaluator"
   ]
  },
  {
   "cell_type": "code",
   "execution_count": 0,
   "metadata": {
    "application/vnd.databricks.v1+cell": {
     "inputWidgets": {},
     "nuid": "e06275ee-3456-42e4-984c-c40d1dfeb5a8",
     "showTitle": false,
     "title": ""
    }
   },
   "outputs": [
    {
     "data": {
      "text/html": [
       "<style scoped>\n",
       "  .ansiout {\n",
       "    display: block;\n",
       "    unicode-bidi: embed;\n",
       "    white-space: pre-wrap;\n",
       "    word-wrap: break-word;\n",
       "    word-break: break-all;\n",
       "    font-family: \"Source Code Pro\", \"Menlo\", monospace;;\n",
       "    font-size: 13px;\n",
       "    color: #555;\n",
       "    margin-left: 4px;\n",
       "    line-height: 19px;\n",
       "  }\n",
       "</style>\n",
       "<div class=\"ansiout\">Out[11]: </div>"
      ]
     },
     "metadata": {
      "application/vnd.databricks.v1+output": {
       "addedWidgets": {},
       "arguments": {},
       "data": "<div class=\"ansiout\">Out[11]: </div>",
       "datasetInfos": [],
       "removedWidgets": [],
       "type": "html"
      }
     },
     "output_type": "display_data"
    },
    {
     "data": {
      "text/html": [
       "\n",
       "            <div>\n",
       "                <p><b>SparkSession - hive</b></p>\n",
       "                \n",
       "        <div>\n",
       "            <p><b>SparkContext</b></p>\n",
       "\n",
       "            <p><a href=\"http://10.172.224.79:47530\">Spark UI</a></p>\n",
       "\n",
       "            <dl>\n",
       "              <dt>Version</dt>\n",
       "                <dd><code>v3.0.1</code></dd>\n",
       "              <dt>Master</dt>\n",
       "                <dd><code>local[8]</code></dd>\n",
       "              <dt>AppName</dt>\n",
       "                <dd><code>Databricks Shell</code></dd>\n",
       "            </dl>\n",
       "        </div>\n",
       "        \n",
       "            </div>\n",
       "        "
      ]
     },
     "metadata": {
      "application/vnd.databricks.v1+output": {
       "addedWidgets": {},
       "arguments": {},
       "data": "\n            <div>\n                <p><b>SparkSession - hive</b></p>\n                \n        <div>\n            <p><b>SparkContext</b></p>\n\n            <p><a href=\"http://10.172.224.79:47530\">Spark UI</a></p>\n\n            <dl>\n              <dt>Version</dt>\n                <dd><code>v3.0.1</code></dd>\n              <dt>Master</dt>\n                <dd><code>local[8]</code></dd>\n              <dt>AppName</dt>\n                <dd><code>Databricks Shell</code></dd>\n            </dl>\n        </div>\n        \n            </div>\n        ",
       "datasetInfos": [],
       "removedWidgets": [],
       "textData": null,
       "type": "htmlSandbox"
      }
     },
     "output_type": "display_data"
    }
   ],
   "source": [
    "spark"
   ]
  },
  {
   "cell_type": "code",
   "execution_count": 0,
   "metadata": {
    "application/vnd.databricks.v1+cell": {
     "inputWidgets": {},
     "nuid": "93f686cc-a7b4-42c0-9db9-6773f3d6402b",
     "showTitle": false,
     "title": ""
    }
   },
   "outputs": [
    {
     "data": {
      "text/html": [
       "<style scoped>\n",
       "  .ansiout {\n",
       "    display: block;\n",
       "    unicode-bidi: embed;\n",
       "    white-space: pre-wrap;\n",
       "    word-wrap: break-word;\n",
       "    word-break: break-all;\n",
       "    font-family: \"Source Code Pro\", \"Menlo\", monospace;;\n",
       "    font-size: 13px;\n",
       "    color: #555;\n",
       "    margin-left: 4px;\n",
       "    line-height: 19px;\n",
       "  }\n",
       "</style>\n",
       "<div class=\"ansiout\"></div>"
      ]
     },
     "metadata": {
      "application/vnd.databricks.v1+output": {
       "addedWidgets": {},
       "arguments": {},
       "data": "<div class=\"ansiout\"></div>",
       "datasetInfos": [],
       "removedWidgets": [],
       "type": "html"
      }
     },
     "output_type": "display_data"
    }
   ],
   "source": [
    "bank_data = spark.read.format(\"csv\").option(\"inferSchema\", \"true\").option(\"header\", \"true\").load(\"/FileStore/tables/bank_marketing.csv\")"
   ]
  },
  {
   "cell_type": "code",
   "execution_count": 0,
   "metadata": {
    "application/vnd.databricks.v1+cell": {
     "inputWidgets": {},
     "nuid": "4b41d774-1f2b-4bc1-a3c0-3feeadf0d95a",
     "showTitle": false,
     "title": ""
    }
   },
   "outputs": [
    {
     "data": {
      "text/html": [
       "<style scoped>\n",
       "  .ansiout {\n",
       "    display: block;\n",
       "    unicode-bidi: embed;\n",
       "    white-space: pre-wrap;\n",
       "    word-wrap: break-word;\n",
       "    word-break: break-all;\n",
       "    font-family: \"Source Code Pro\", \"Menlo\", monospace;;\n",
       "    font-size: 13px;\n",
       "    color: #555;\n",
       "    margin-left: 4px;\n",
       "    line-height: 19px;\n",
       "  }\n",
       "</style>\n",
       "<div class=\"ansiout\">Out[52]: DataFrame[age: int, job: string, marital: string, education: string, default: string, housing: string, loan: string, contact: string, month: string, day_of_week: string, duration: int, campaign: int, pdays: int, previous: int, poutcome: string, emp_var_rate: double, cons_price_idx: double, cons_conf_idx: double, euribor3m: double, nr_employed: int, y: string]</div>"
      ]
     },
     "metadata": {
      "application/vnd.databricks.v1+output": {
       "addedWidgets": {},
       "arguments": {},
       "data": "<div class=\"ansiout\">Out[52]: DataFrame[age: int, job: string, marital: string, education: string, default: string, housing: string, loan: string, contact: string, month: string, day_of_week: string, duration: int, campaign: int, pdays: int, previous: int, poutcome: string, emp_var_rate: double, cons_price_idx: double, cons_conf_idx: double, euribor3m: double, nr_employed: int, y: string]</div>",
       "datasetInfos": [],
       "removedWidgets": [],
       "type": "html"
      }
     },
     "output_type": "display_data"
    }
   ],
   "source": [
    "bank_data"
   ]
  },
  {
   "cell_type": "code",
   "execution_count": 0,
   "metadata": {
    "application/vnd.databricks.v1+cell": {
     "inputWidgets": {},
     "nuid": "f78937b7-2af6-41e3-85fc-962ce467fb8d",
     "showTitle": false,
     "title": ""
    }
   },
   "outputs": [
    {
     "data": {
      "text/html": [
       "<style scoped>\n",
       "  .ansiout {\n",
       "    display: block;\n",
       "    unicode-bidi: embed;\n",
       "    white-space: pre-wrap;\n",
       "    word-wrap: break-word;\n",
       "    word-break: break-all;\n",
       "    font-family: \"Source Code Pro\", \"Menlo\", monospace;;\n",
       "    font-size: 13px;\n",
       "    color: #555;\n",
       "    margin-left: 4px;\n",
       "    line-height: 19px;\n",
       "  }\n",
       "</style>\n",
       "<div class=\"ansiout\">root\n",
       "-- age: integer (nullable = true)\n",
       "-- job: string (nullable = true)\n",
       "-- marital: string (nullable = true)\n",
       "-- education: string (nullable = true)\n",
       "-- default: string (nullable = true)\n",
       "-- housing: string (nullable = true)\n",
       "-- loan: string (nullable = true)\n",
       "-- contact: string (nullable = true)\n",
       "-- month: string (nullable = true)\n",
       "-- day_of_week: string (nullable = true)\n",
       "-- duration: integer (nullable = true)\n",
       "-- campaign: integer (nullable = true)\n",
       "-- pdays: integer (nullable = true)\n",
       "-- previous: integer (nullable = true)\n",
       "-- poutcome: string (nullable = true)\n",
       "-- emp_var_rate: double (nullable = true)\n",
       "-- cons_price_idx: double (nullable = true)\n",
       "-- cons_conf_idx: double (nullable = true)\n",
       "-- euribor3m: double (nullable = true)\n",
       "-- nr_employed: integer (nullable = true)\n",
       "-- y: string (nullable = true)\n",
       "\n",
       "</div>"
      ]
     },
     "metadata": {
      "application/vnd.databricks.v1+output": {
       "addedWidgets": {},
       "arguments": {},
       "data": "<div class=\"ansiout\">root\n |-- age: integer (nullable = true)\n |-- job: string (nullable = true)\n |-- marital: string (nullable = true)\n |-- education: string (nullable = true)\n |-- default: string (nullable = true)\n |-- housing: string (nullable = true)\n |-- loan: string (nullable = true)\n |-- contact: string (nullable = true)\n |-- month: string (nullable = true)\n |-- day_of_week: string (nullable = true)\n |-- duration: integer (nullable = true)\n |-- campaign: integer (nullable = true)\n |-- pdays: integer (nullable = true)\n |-- previous: integer (nullable = true)\n |-- poutcome: string (nullable = true)\n |-- emp_var_rate: double (nullable = true)\n |-- cons_price_idx: double (nullable = true)\n |-- cons_conf_idx: double (nullable = true)\n |-- euribor3m: double (nullable = true)\n |-- nr_employed: integer (nullable = true)\n |-- y: string (nullable = true)\n\n</div>",
       "datasetInfos": [],
       "removedWidgets": [],
       "type": "html"
      }
     },
     "output_type": "display_data"
    }
   ],
   "source": [
    "bank_data.printSchema()"
   ]
  },
  {
   "cell_type": "markdown",
   "metadata": {
    "application/vnd.databricks.v1+cell": {
     "inputWidgets": {},
     "nuid": "b64db5c4-8eeb-43b0-a800-c2c6777cc750",
     "showTitle": false,
     "title": ""
    }
   },
   "source": [
    "#### Task 2\n",
    "##### Count the number of observations in the dataframe `bank_data`\n",
    "##### Select columns `age, job` from the dataframe `bank_data` and display the first 10 rows\n",
    "##### Select columns ``age, duration, campaign, education`` from the dataframe ``bank_data`` and print the descriptive statistics\n",
    "\n",
    "#### Result:"
   ]
  },
  {
   "cell_type": "code",
   "execution_count": 0,
   "metadata": {
    "application/vnd.databricks.v1+cell": {
     "inputWidgets": {},
     "nuid": "66edca13-06ac-47eb-b924-2e02735887c4",
     "showTitle": false,
     "title": ""
    }
   },
   "outputs": [
    {
     "data": {
      "text/html": [
       "<style scoped>\n",
       "  .ansiout {\n",
       "    display: block;\n",
       "    unicode-bidi: embed;\n",
       "    white-space: pre-wrap;\n",
       "    word-wrap: break-word;\n",
       "    word-break: break-all;\n",
       "    font-family: \"Source Code Pro\", \"Menlo\", monospace;;\n",
       "    font-size: 13px;\n",
       "    color: #555;\n",
       "    margin-left: 4px;\n",
       "    line-height: 19px;\n",
       "  }\n",
       "</style>\n",
       "<div class=\"ansiout\">Out[54]: 41188</div>"
      ]
     },
     "metadata": {
      "application/vnd.databricks.v1+output": {
       "addedWidgets": {},
       "arguments": {},
       "data": "<div class=\"ansiout\">Out[54]: 41188</div>",
       "datasetInfos": [],
       "removedWidgets": [],
       "type": "html"
      }
     },
     "output_type": "display_data"
    }
   ],
   "source": [
    "bank_data.count()"
   ]
  },
  {
   "cell_type": "code",
   "execution_count": 0,
   "metadata": {
    "application/vnd.databricks.v1+cell": {
     "inputWidgets": {},
     "nuid": "286a54fe-cb48-4c8b-83ce-0f7ddd520b56",
     "showTitle": false,
     "title": ""
    }
   },
   "outputs": [
    {
     "data": {
      "text/html": [
       "<style scoped>\n",
       "  .ansiout {\n",
       "    display: block;\n",
       "    unicode-bidi: embed;\n",
       "    white-space: pre-wrap;\n",
       "    word-wrap: break-word;\n",
       "    word-break: break-all;\n",
       "    font-family: \"Source Code Pro\", \"Menlo\", monospace;;\n",
       "    font-size: 13px;\n",
       "    color: #555;\n",
       "    margin-left: 4px;\n",
       "    line-height: 19px;\n",
       "  }\n",
       "</style>\n",
       "<div class=\"ansiout\">+---+-----------+\n",
       "age|        job|\n",
       "+---+-----------+\n",
       " 56|  housemaid|\n",
       " 57|   services|\n",
       " 37|   services|\n",
       " 40|     admin.|\n",
       " 56|   services|\n",
       " 45|   services|\n",
       " 59|     admin.|\n",
       " 41|blue-collar|\n",
       " 24| technician|\n",
       " 25|   services|\n",
       "+---+-----------+\n",
       "only showing top 10 rows\n",
       "\n",
       "</div>"
      ]
     },
     "metadata": {
      "application/vnd.databricks.v1+output": {
       "addedWidgets": {},
       "arguments": {},
       "data": "<div class=\"ansiout\">+---+-----------+\n|age|        job|\n+---+-----------+\n| 56|  housemaid|\n| 57|   services|\n| 37|   services|\n| 40|     admin.|\n| 56|   services|\n| 45|   services|\n| 59|     admin.|\n| 41|blue-collar|\n| 24| technician|\n| 25|   services|\n+---+-----------+\nonly showing top 10 rows\n\n</div>",
       "datasetInfos": [],
       "removedWidgets": [],
       "type": "html"
      }
     },
     "output_type": "display_data"
    }
   ],
   "source": [
    "bank_data.select(\"age\",\"job\").show(10)"
   ]
  },
  {
   "cell_type": "code",
   "execution_count": 0,
   "metadata": {
    "application/vnd.databricks.v1+cell": {
     "inputWidgets": {},
     "nuid": "bfcc47fd-61c4-4ab7-992b-e371cb360f90",
     "showTitle": false,
     "title": ""
    }
   },
   "outputs": [
    {
     "data": {
      "text/html": [
       "<style scoped>\n",
       "  .ansiout {\n",
       "    display: block;\n",
       "    unicode-bidi: embed;\n",
       "    white-space: pre-wrap;\n",
       "    word-wrap: break-word;\n",
       "    word-break: break-all;\n",
       "    font-family: \"Source Code Pro\", \"Menlo\", monospace;;\n",
       "    font-size: 13px;\n",
       "    color: #555;\n",
       "    margin-left: 4px;\n",
       "    line-height: 19px;\n",
       "  }\n",
       "</style>\n",
       "<div class=\"ansiout\">+-------+------------------+------------------+------------------+---------+\n",
       "summary|               age|          duration|          campaign|education|\n",
       "+-------+------------------+------------------+------------------+---------+\n",
       "  count|             41188|             41188|             41188|    41188|\n",
       "   mean| 40.02406040594348| 258.2850101971448| 2.567592502670681|     null|\n",
       " stddev|10.421249980934045|259.27924883646506|2.7700135429023245|     null|\n",
       "    min|                17|                 0|                 1| basic.4y|\n",
       "    max|                98|              4918|                56|  unknown|\n",
       "+-------+------------------+------------------+------------------+---------+\n",
       "\n",
       "</div>"
      ]
     },
     "metadata": {
      "application/vnd.databricks.v1+output": {
       "addedWidgets": {},
       "arguments": {},
       "data": "<div class=\"ansiout\">+-------+------------------+------------------+------------------+---------+\n|summary|               age|          duration|          campaign|education|\n+-------+------------------+------------------+------------------+---------+\n|  count|             41188|             41188|             41188|    41188|\n|   mean| 40.02406040594348| 258.2850101971448| 2.567592502670681|     null|\n| stddev|10.421249980934045|259.27924883646506|2.7700135429023245|     null|\n|    min|                17|                 0|                 1| basic.4y|\n|    max|                98|              4918|                56|  unknown|\n+-------+------------------+------------------+------------------+---------+\n\n</div>",
       "datasetInfos": [],
       "removedWidgets": [],
       "type": "html"
      }
     },
     "output_type": "display_data"
    }
   ],
   "source": [
    "bank_data.select(\"age\", \"duration\",\"campaign\", \"education\").describe().show()"
   ]
  },
  {
   "cell_type": "markdown",
   "metadata": {
    "application/vnd.databricks.v1+cell": {
     "inputWidgets": {},
     "nuid": "ed260e8d-fcc5-44ff-bdd2-ab52be1c4c56",
     "showTitle": false,
     "title": ""
    }
   },
   "source": [
    "#### Task 3\n",
    "##### Use the aggregate function to find the total sum of `age` \n",
    "##### Find the sum of `age` for each `education` group\n",
    "##### Find the number of distinct values from the column `education`\n",
    "##### Calculate the pairwise frequency of categorical columns `job and marital`\n",
    "\n",
    "#### Result:"
   ]
  },
  {
   "cell_type": "code",
   "execution_count": 0,
   "metadata": {
    "application/vnd.databricks.v1+cell": {
     "inputWidgets": {},
     "nuid": "f6965d05-87fa-4126-a2d9-6b2d4a61e970",
     "showTitle": false,
     "title": ""
    }
   },
   "outputs": [
    {
     "data": {
      "text/html": [
       "<style scoped>\n",
       "  .ansiout {\n",
       "    display: block;\n",
       "    unicode-bidi: embed;\n",
       "    white-space: pre-wrap;\n",
       "    word-wrap: break-word;\n",
       "    word-break: break-all;\n",
       "    font-family: \"Source Code Pro\", \"Menlo\", monospace;;\n",
       "    font-size: 13px;\n",
       "    color: #555;\n",
       "    margin-left: 4px;\n",
       "    line-height: 19px;\n",
       "  }\n",
       "</style>\n",
       "<div class=\"ansiout\">+--------+\n",
       "sum(age)|\n",
       "+--------+\n",
       " 1648511|\n",
       "+--------+\n",
       "\n",
       "</div>"
      ]
     },
     "metadata": {
      "application/vnd.databricks.v1+output": {
       "addedWidgets": {},
       "arguments": {},
       "data": "<div class=\"ansiout\">+--------+\n|sum(age)|\n+--------+\n| 1648511|\n+--------+\n\n</div>",
       "datasetInfos": [],
       "removedWidgets": [],
       "type": "html"
      }
     },
     "output_type": "display_data"
    }
   ],
   "source": [
    "bank_data.agg({'age':'sum'}).show()"
   ]
  },
  {
   "cell_type": "code",
   "execution_count": 0,
   "metadata": {
    "application/vnd.databricks.v1+cell": {
     "inputWidgets": {},
     "nuid": "0c6babfc-87e9-48cd-ba5a-5ed7d3dd2f09",
     "showTitle": false,
     "title": ""
    }
   },
   "outputs": [
    {
     "data": {
      "text/html": [
       "<style scoped>\n",
       "  .ansiout {\n",
       "    display: block;\n",
       "    unicode-bidi: embed;\n",
       "    white-space: pre-wrap;\n",
       "    word-wrap: break-word;\n",
       "    word-break: break-all;\n",
       "    font-family: \"Source Code Pro\", \"Menlo\", monospace;;\n",
       "    font-size: 13px;\n",
       "    color: #555;\n",
       "    margin-left: 4px;\n",
       "    line-height: 19px;\n",
       "  }\n",
       "</style>\n",
       "<div class=\"ansiout\">+-------------------+--------+\n",
       "          education|sum(age)|\n",
       "+-------------------+--------+\n",
       "        high.school|  361553|\n",
       "            unknown|   75266|\n",
       "           basic.6y|   92709|\n",
       "professional.course|  210140|\n",
       "  university.degree|  473082|\n",
       "         illiterate|     873|\n",
       "           basic.4y|  198763|\n",
       "           basic.9y|  236125|\n",
       "+-------------------+--------+\n",
       "\n",
       "</div>"
      ]
     },
     "metadata": {
      "application/vnd.databricks.v1+output": {
       "addedWidgets": {},
       "arguments": {},
       "data": "<div class=\"ansiout\">+-------------------+--------+\n|          education|sum(age)|\n+-------------------+--------+\n|        high.school|  361553|\n|            unknown|   75266|\n|           basic.6y|   92709|\n|professional.course|  210140|\n|  university.degree|  473082|\n|         illiterate|     873|\n|           basic.4y|  198763|\n|           basic.9y|  236125|\n+-------------------+--------+\n\n</div>",
       "datasetInfos": [],
       "removedWidgets": [],
       "type": "html"
      }
     },
     "output_type": "display_data"
    }
   ],
   "source": [
    "bank_data.groupby(\"education\").sum(\"age\").show()"
   ]
  },
  {
   "cell_type": "code",
   "execution_count": 0,
   "metadata": {
    "application/vnd.databricks.v1+cell": {
     "inputWidgets": {},
     "nuid": "1541bcf0-9728-48dc-9ac2-c857a5ded204",
     "showTitle": false,
     "title": ""
    }
   },
   "outputs": [
    {
     "data": {
      "text/html": [
       "<style scoped>\n",
       "  .ansiout {\n",
       "    display: block;\n",
       "    unicode-bidi: embed;\n",
       "    white-space: pre-wrap;\n",
       "    word-wrap: break-word;\n",
       "    word-break: break-all;\n",
       "    font-family: \"Source Code Pro\", \"Menlo\", monospace;;\n",
       "    font-size: 13px;\n",
       "    color: #555;\n",
       "    margin-left: 4px;\n",
       "    line-height: 19px;\n",
       "  }\n",
       "</style>\n",
       "<div class=\"ansiout\">Out[60]: 8</div>"
      ]
     },
     "metadata": {
      "application/vnd.databricks.v1+output": {
       "addedWidgets": {},
       "arguments": {},
       "data": "<div class=\"ansiout\">Out[60]: 8</div>",
       "datasetInfos": [],
       "removedWidgets": [],
       "type": "html"
      }
     },
     "output_type": "display_data"
    }
   ],
   "source": [
    "bank_data.select('education').distinct().count()"
   ]
  },
  {
   "cell_type": "code",
   "execution_count": 0,
   "metadata": {
    "application/vnd.databricks.v1+cell": {
     "inputWidgets": {},
     "nuid": "12d805d4-8ff6-4459-a0b8-3d725c0be51e",
     "showTitle": false,
     "title": ""
    }
   },
   "outputs": [
    {
     "data": {
      "text/html": [
       "<style scoped>\n",
       "  .ansiout {\n",
       "    display: block;\n",
       "    unicode-bidi: embed;\n",
       "    white-space: pre-wrap;\n",
       "    word-wrap: break-word;\n",
       "    word-break: break-all;\n",
       "    font-family: \"Source Code Pro\", \"Menlo\", monospace;;\n",
       "    font-size: 13px;\n",
       "    color: #555;\n",
       "    margin-left: 4px;\n",
       "    line-height: 19px;\n",
       "  }\n",
       "</style>\n",
       "<div class=\"ansiout\">+-------------+--------+-------+------+-------+\n",
       "  job_marital|divorced|married|single|unknown|\n",
       "+-------------+--------+-------+------+-------+\n",
       "    housemaid|     161|    777|   119|      3|\n",
       "     services|     532|   2294|  1137|      6|\n",
       "self-employed|     133|    904|   379|      5|\n",
       "      student|       9|     41|   824|      1|\n",
       "      retired|     348|   1274|    93|      5|\n",
       "      unknown|      13|    234|    74|      9|\n",
       "       admin.|    1280|   5253|  3875|     14|\n",
       "  blue-collar|     728|   6687|  1825|     14|\n",
       "   technician|     774|   3670|  2287|     12|\n",
       " entrepreneur|     179|   1071|   203|      3|\n",
       "   management|     331|   2089|   501|      3|\n",
       "   unemployed|     124|    634|   251|      5|\n",
       "+-------------+--------+-------+------+-------+\n",
       "\n",
       "</div>"
      ]
     },
     "metadata": {
      "application/vnd.databricks.v1+output": {
       "addedWidgets": {},
       "arguments": {},
       "data": "<div class=\"ansiout\">+-------------+--------+-------+------+-------+\n|  job_marital|divorced|married|single|unknown|\n+-------------+--------+-------+------+-------+\n|    housemaid|     161|    777|   119|      3|\n|     services|     532|   2294|  1137|      6|\n|self-employed|     133|    904|   379|      5|\n|      student|       9|     41|   824|      1|\n|      retired|     348|   1274|    93|      5|\n|      unknown|      13|    234|    74|      9|\n|       admin.|    1280|   5253|  3875|     14|\n|  blue-collar|     728|   6687|  1825|     14|\n|   technician|     774|   3670|  2287|     12|\n| entrepreneur|     179|   1071|   203|      3|\n|   management|     331|   2089|   501|      3|\n|   unemployed|     124|    634|   251|      5|\n+-------------+--------+-------+------+-------+\n\n</div>",
       "datasetInfos": [],
       "removedWidgets": [],
       "type": "html"
      }
     },
     "output_type": "display_data"
    }
   ],
   "source": [
    "bank_data.crosstab('job', 'marital').show()"
   ]
  },
  {
   "cell_type": "markdown",
   "metadata": {
    "application/vnd.databricks.v1+cell": {
     "inputWidgets": {},
     "nuid": "f81af203-ba0d-49a3-a8bf-efd6351f059a",
     "showTitle": false,
     "title": ""
    }
   },
   "source": [
    "#### Task 4\n",
    "##### Filter the column `age` for values less than 30 and select columns  `age, job, marital, education`\n",
    "##### Sort the resulting subset by ``age`` in descending order and display the first 10 rows\n",
    "\n",
    "#### Result:"
   ]
  },
  {
   "cell_type": "code",
   "execution_count": 0,
   "metadata": {
    "application/vnd.databricks.v1+cell": {
     "inputWidgets": {},
     "nuid": "fd320f54-9c20-4dca-8364-3ae0f4d36841",
     "showTitle": false,
     "title": ""
    }
   },
   "outputs": [
    {
     "data": {
      "text/html": [
       "<style scoped>\n",
       "  .ansiout {\n",
       "    display: block;\n",
       "    unicode-bidi: embed;\n",
       "    white-space: pre-wrap;\n",
       "    word-wrap: break-word;\n",
       "    word-break: break-all;\n",
       "    font-family: \"Source Code Pro\", \"Menlo\", monospace;;\n",
       "    font-size: 13px;\n",
       "    color: #555;\n",
       "    margin-left: 4px;\n",
       "    line-height: 19px;\n",
       "  }\n",
       "</style>\n",
       "<div class=\"ansiout\">+---+-------------+-------+-----------------+\n",
       "age|          job|marital|        education|\n",
       "+---+-------------+-------+-----------------+\n",
       " 29|   technician| single|university.degree|\n",
       " 29|self-employed|married|university.degree|\n",
       " 29|self-employed|married|university.degree|\n",
       " 29|       admin.| single|university.degree|\n",
       " 29|   technician| single|university.degree|\n",
       " 29|self-employed|married|university.degree|\n",
       " 29|       admin.|married|university.degree|\n",
       " 29|       admin.| single|university.degree|\n",
       " 29|       admin.|unknown|university.degree|\n",
       " 29|self-employed|married|university.degree|\n",
       "+---+-------------+-------+-----------------+\n",
       "only showing top 10 rows\n",
       "\n",
       "</div>"
      ]
     },
     "metadata": {
      "application/vnd.databricks.v1+output": {
       "addedWidgets": {},
       "arguments": {},
       "data": "<div class=\"ansiout\">+---+-------------+-------+-----------------+\n|age|          job|marital|        education|\n+---+-------------+-------+-----------------+\n| 29|   technician| single|university.degree|\n| 29|self-employed|married|university.degree|\n| 29|self-employed|married|university.degree|\n| 29|       admin.| single|university.degree|\n| 29|   technician| single|university.degree|\n| 29|self-employed|married|university.degree|\n| 29|       admin.|married|university.degree|\n| 29|       admin.| single|university.degree|\n| 29|       admin.|unknown|university.degree|\n| 29|self-employed|married|university.degree|\n+---+-------------+-------+-----------------+\nonly showing top 10 rows\n\n</div>",
       "datasetInfos": [],
       "removedWidgets": [],
       "type": "html"
      }
     },
     "output_type": "display_data"
    }
   ],
   "source": [
    "bank_data.filter(\"age < 30\").select(\"age\",\"job\",\"marital\",\"education\").sort('age', ascending=False).show(10)"
   ]
  },
  {
   "cell_type": "markdown",
   "metadata": {
    "application/vnd.databricks.v1+cell": {
     "inputWidgets": {},
     "nuid": "4837ba79-f763-4c40-afef-0fb4f2824472",
     "showTitle": false,
     "title": ""
    }
   },
   "source": [
    "## Exercise 3"
   ]
  },
  {
   "cell_type": "markdown",
   "metadata": {
    "application/vnd.databricks.v1+cell": {
     "inputWidgets": {},
     "nuid": "08493246-1322-4bb2-a0be-df0a72b96b5a",
     "showTitle": false,
     "title": ""
    }
   },
   "source": [
    "#### Task 1\n",
    "##### Create a SQL table ``bank_data_sql_table`` from the dataframe ``bank_data`` . This table will be used to perform SQL operations\n",
    "##### Use a SQL statement to subset the columns `age, job, marital, education` from the table ``bank_data_sql_table`` and save it as `bank_subset`. Display the top 5 rows from ``bank_subset``\n",
    "##### Count the number of records from the ``bank_data_sql_table``. Name the columns as `Number_of_Records`\n",
    "\n",
    "##### Filter data with `education` starting with 'basic'. Find the average `duration` grouped by `education` and `marital` \n",
    "\n",
    "#### Result:"
   ]
  },
  {
   "cell_type": "code",
   "execution_count": 0,
   "metadata": {
    "application/vnd.databricks.v1+cell": {
     "inputWidgets": {},
     "nuid": "93a6cf62-60e6-4b32-a40c-5492da04b106",
     "showTitle": false,
     "title": ""
    }
   },
   "outputs": [
    {
     "data": {
      "text/html": [
       "<style scoped>\n",
       "  .ansiout {\n",
       "    display: block;\n",
       "    unicode-bidi: embed;\n",
       "    white-space: pre-wrap;\n",
       "    word-wrap: break-word;\n",
       "    word-break: break-all;\n",
       "    font-family: \"Source Code Pro\", \"Menlo\", monospace;;\n",
       "    font-size: 13px;\n",
       "    color: #555;\n",
       "    margin-left: 4px;\n",
       "    line-height: 19px;\n",
       "  }\n",
       "</style>\n",
       "<div class=\"ansiout\"></div>"
      ]
     },
     "metadata": {
      "application/vnd.databricks.v1+output": {
       "addedWidgets": {},
       "arguments": {},
       "data": "<div class=\"ansiout\"></div>",
       "datasetInfos": [],
       "removedWidgets": [],
       "type": "html"
      }
     },
     "output_type": "display_data"
    }
   ],
   "source": [
    "bank_data.createOrReplaceTempView(\"bank_data_sql_table\")"
   ]
  },
  {
   "cell_type": "code",
   "execution_count": 0,
   "metadata": {
    "application/vnd.databricks.v1+cell": {
     "inputWidgets": {},
     "nuid": "d1250cf0-e0f2-4899-b107-ff0144832d82",
     "showTitle": false,
     "title": ""
    }
   },
   "outputs": [
    {
     "data": {
      "text/html": [
       "<style scoped>\n",
       "  .ansiout {\n",
       "    display: block;\n",
       "    unicode-bidi: embed;\n",
       "    white-space: pre-wrap;\n",
       "    word-wrap: break-word;\n",
       "    word-break: break-all;\n",
       "    font-family: \"Source Code Pro\", \"Menlo\", monospace;;\n",
       "    font-size: 13px;\n",
       "    color: #555;\n",
       "    margin-left: 4px;\n",
       "    line-height: 19px;\n",
       "  }\n",
       "</style>\n",
       "<div class=\"ansiout\">+---+---------+-------+-----------+\n",
       "age|      job|marital|  education|\n",
       "+---+---------+-------+-----------+\n",
       " 56|housemaid|married|   basic.4y|\n",
       " 57| services|married|high.school|\n",
       " 37| services|married|high.school|\n",
       " 40|   admin.|married|   basic.6y|\n",
       " 56| services|married|high.school|\n",
       "+---+---------+-------+-----------+\n",
       "only showing top 5 rows\n",
       "\n",
       "</div>"
      ]
     },
     "metadata": {
      "application/vnd.databricks.v1+output": {
       "addedWidgets": {},
       "arguments": {},
       "data": "<div class=\"ansiout\">+---+---------+-------+-----------+\n|age|      job|marital|  education|\n+---+---------+-------+-----------+\n| 56|housemaid|married|   basic.4y|\n| 57| services|married|high.school|\n| 37| services|married|high.school|\n| 40|   admin.|married|   basic.6y|\n| 56| services|married|high.school|\n+---+---------+-------+-----------+\nonly showing top 5 rows\n\n</div>",
       "datasetInfos": [],
       "removedWidgets": [],
       "type": "html"
      }
     },
     "output_type": "display_data"
    }
   ],
   "source": [
    "bank_subset = spark.sql(\"SELECT age,job,marital,education FROM bank_data_sql_table\")\n",
    "bank_subset.show(5)"
   ]
  },
  {
   "cell_type": "code",
   "execution_count": 0,
   "metadata": {
    "application/vnd.databricks.v1+cell": {
     "inputWidgets": {},
     "nuid": "fcc1bbc0-5654-4b21-8697-c21c9522d77b",
     "showTitle": false,
     "title": ""
    }
   },
   "outputs": [
    {
     "data": {
      "text/html": [
       "<style scoped>\n",
       "  .ansiout {\n",
       "    display: block;\n",
       "    unicode-bidi: embed;\n",
       "    white-space: pre-wrap;\n",
       "    word-wrap: break-word;\n",
       "    word-break: break-all;\n",
       "    font-family: \"Source Code Pro\", \"Menlo\", monospace;;\n",
       "    font-size: 13px;\n",
       "    color: #555;\n",
       "    margin-left: 4px;\n",
       "    line-height: 19px;\n",
       "  }\n",
       "</style>\n",
       "<div class=\"ansiout\">+-----------------+\n",
       "Number_of_Records|\n",
       "+-----------------+\n",
       "            41188|\n",
       "+-----------------+\n",
       "\n",
       "</div>"
      ]
     },
     "metadata": {
      "application/vnd.databricks.v1+output": {
       "addedWidgets": {},
       "arguments": {},
       "data": "<div class=\"ansiout\">+-----------------+\n|Number_of_Records|\n+-----------------+\n|            41188|\n+-----------------+\n\n</div>",
       "datasetInfos": [],
       "removedWidgets": [],
       "type": "html"
      }
     },
     "output_type": "display_data"
    }
   ],
   "source": [
    "spark.sql(\"SELECT count(*) as Number_of_Records FROM bank_data_sql_table\").show()"
   ]
  },
  {
   "cell_type": "code",
   "execution_count": 0,
   "metadata": {
    "application/vnd.databricks.v1+cell": {
     "inputWidgets": {},
     "nuid": "9de9a07a-61ea-4100-a79a-4e3638545298",
     "showTitle": false,
     "title": ""
    }
   },
   "outputs": [
    {
     "data": {
      "text/html": [
       "<style scoped>\n",
       "  .ansiout {\n",
       "    display: block;\n",
       "    unicode-bidi: embed;\n",
       "    white-space: pre-wrap;\n",
       "    word-wrap: break-word;\n",
       "    word-break: break-all;\n",
       "    font-family: \"Source Code Pro\", \"Menlo\", monospace;;\n",
       "    font-size: 13px;\n",
       "    color: #555;\n",
       "    margin-left: 4px;\n",
       "    line-height: 19px;\n",
       "  }\n",
       "</style>\n",
       "<div class=\"ansiout\">+--------+---------+------------------+\n",
       " marital|education|     avg(duration)|\n",
       "+--------+---------+------------------+\n",
       "  single| basic.9y| 260.5387537993921|\n",
       " married| basic.4y|265.40055762081784|\n",
       " unknown| basic.9y|           287.125|\n",
       "divorced| basic.4y| 258.7321063394683|\n",
       "divorced| basic.9y| 256.7008849557522|\n",
       " married| basic.9y| 262.1046679499519|\n",
       "divorced| basic.6y| 278.1098901098901|\n",
       "  single| basic.6y| 285.8783382789318|\n",
       " married| basic.6y|  258.320882852292|\n",
       " unknown| basic.6y|             438.0|\n",
       " unknown| basic.4y| 542.3333333333334|\n",
       "  single| basic.4y| 263.6512141280353|\n",
       "+--------+---------+------------------+\n",
       "\n",
       "</div>"
      ]
     },
     "metadata": {
      "application/vnd.databricks.v1+output": {
       "addedWidgets": {},
       "arguments": {},
       "data": "<div class=\"ansiout\">+--------+---------+------------------+\n| marital|education|     avg(duration)|\n+--------+---------+------------------+\n|  single| basic.9y| 260.5387537993921|\n| married| basic.4y|265.40055762081784|\n| unknown| basic.9y|           287.125|\n|divorced| basic.4y| 258.7321063394683|\n|divorced| basic.9y| 256.7008849557522|\n| married| basic.9y| 262.1046679499519|\n|divorced| basic.6y| 278.1098901098901|\n|  single| basic.6y| 285.8783382789318|\n| married| basic.6y|  258.320882852292|\n| unknown| basic.6y|             438.0|\n| unknown| basic.4y| 542.3333333333334|\n|  single| basic.4y| 263.6512141280353|\n+--------+---------+------------------+\n\n</div>",
       "datasetInfos": [],
       "removedWidgets": [],
       "type": "html"
      }
     },
     "output_type": "display_data"
    }
   ],
   "source": [
    "spark.sql(\"SELECT marital,education,avg(duration) FROM bank_data_sql_table where education like 'basic%' group by marital,education\").show()"
   ]
  },
  {
   "cell_type": "markdown",
   "metadata": {
    "application/vnd.databricks.v1+cell": {
     "inputWidgets": {},
     "nuid": "b12a7947-6718-4189-9fcd-566410fba51c",
     "showTitle": false,
     "title": ""
    }
   },
   "source": [
    "#### Task 2\n",
    "\n",
    "##### Check for NAs for all the columns in the DataFrame `bank_data` and display the count of NAs in each column\n",
    "##### Identify the columns with NAs\n",
    "##### Drop the NAs from the data and save it in the same DataFrame `bank_data`\n",
    "##### Verify whether all the NAs have been dropped from the DataFrame `bank_data`\n",
    "\n",
    "#### Result:"
   ]
  },
  {
   "cell_type": "code",
   "execution_count": 0,
   "metadata": {
    "application/vnd.databricks.v1+cell": {
     "inputWidgets": {},
     "nuid": "d129963a-e491-4833-9dbf-054cb343d218",
     "showTitle": false,
     "title": ""
    }
   },
   "outputs": [
    {
     "data": {
      "text/html": [
       "<style scoped>\n",
       "  .ansiout {\n",
       "    display: block;\n",
       "    unicode-bidi: embed;\n",
       "    white-space: pre-wrap;\n",
       "    word-wrap: break-word;\n",
       "    word-break: break-all;\n",
       "    font-family: \"Source Code Pro\", \"Menlo\", monospace;;\n",
       "    font-size: 13px;\n",
       "    color: #555;\n",
       "    margin-left: 4px;\n",
       "    line-height: 19px;\n",
       "  }\n",
       "</style>\n",
       "<div class=\"ansiout\">+---+---+-------+---------+-------+-------+----+-------+-----+-----------+--------+--------+-----+--------+--------+------------+--------------+-------------+---------+-----------+---+\n",
       "age|job|marital|education|default|housing|loan|contact|month|day_of_week|duration|campaign|pdays|previous|poutcome|emp_var_rate|cons_price_idx|cons_conf_idx|euribor3m|nr_employed|  y|\n",
       "+---+---+-------+---------+-------+-------+----+-------+-----+-----------+--------+--------+-----+--------+--------+------------+--------------+-------------+---------+-----------+---+\n",
       "  0|  0|      0|        0|      0|      0|   0|      0|    0|          0|       0|       0|    1|       0|       0|           0|             0|            0|        0|          0|  0|\n",
       "+---+---+-------+---------+-------+-------+----+-------+-----+-----------+--------+--------+-----+--------+--------+------------+--------------+-------------+---------+-----------+---+\n",
       "\n",
       "</div>"
      ]
     },
     "metadata": {
      "application/vnd.databricks.v1+output": {
       "addedWidgets": {},
       "arguments": {},
       "data": "<div class=\"ansiout\">+---+---+-------+---------+-------+-------+----+-------+-----+-----------+--------+--------+-----+--------+--------+------------+--------------+-------------+---------+-----------+---+\n|age|job|marital|education|default|housing|loan|contact|month|day_of_week|duration|campaign|pdays|previous|poutcome|emp_var_rate|cons_price_idx|cons_conf_idx|euribor3m|nr_employed|  y|\n+---+---+-------+---------+-------+-------+----+-------+-----+-----------+--------+--------+-----+--------+--------+------------+--------------+-------------+---------+-----------+---+\n|  0|  0|      0|        0|      0|      0|   0|      0|    0|          0|       0|       0|    1|       0|       0|           0|             0|            0|        0|          0|  0|\n+---+---+-------+---------+-------+-------+----+-------+-----+-----------+--------+--------+-----+--------+--------+------------+--------------+-------------+---------+-----------+---+\n\n</div>",
       "datasetInfos": [],
       "removedWidgets": [],
       "type": "html"
      }
     },
     "output_type": "display_data"
    }
   ],
   "source": [
    "bank_data.select([count(when(isnull(c), c)).alias(c) for c in bank_data.columns]).show()"
   ]
  },
  {
   "cell_type": "markdown",
   "metadata": {
    "application/vnd.databricks.v1+cell": {
     "inputWidgets": {},
     "nuid": "e981c364-b6f6-4721-b4a1-3aac9f2f20c1",
     "showTitle": false,
     "title": ""
    }
   },
   "source": [
    "Column 'pdays' has one NULL value"
   ]
  },
  {
   "cell_type": "code",
   "execution_count": 0,
   "metadata": {
    "application/vnd.databricks.v1+cell": {
     "inputWidgets": {},
     "nuid": "b57d9afc-f5e0-4a1a-b5d2-807417cf0925",
     "showTitle": false,
     "title": ""
    }
   },
   "outputs": [
    {
     "data": {
      "text/html": [
       "<style scoped>\n",
       "  .ansiout {\n",
       "    display: block;\n",
       "    unicode-bidi: embed;\n",
       "    white-space: pre-wrap;\n",
       "    word-wrap: break-word;\n",
       "    word-break: break-all;\n",
       "    font-family: \"Source Code Pro\", \"Menlo\", monospace;;\n",
       "    font-size: 13px;\n",
       "    color: #555;\n",
       "    margin-left: 4px;\n",
       "    line-height: 19px;\n",
       "  }\n",
       "</style>\n",
       "<div class=\"ansiout\">+---+---+-------+---------+-------+-------+----+-------+-----+-----------+--------+--------+-----+--------+--------+------------+--------------+-------------+---------+-----------+---+\n",
       "age|job|marital|education|default|housing|loan|contact|month|day_of_week|duration|campaign|pdays|previous|poutcome|emp_var_rate|cons_price_idx|cons_conf_idx|euribor3m|nr_employed|  y|\n",
       "+---+---+-------+---------+-------+-------+----+-------+-----+-----------+--------+--------+-----+--------+--------+------------+--------------+-------------+---------+-----------+---+\n",
       "  0|  0|      0|        0|      0|      0|   0|      0|    0|          0|       0|       0|    0|       0|       0|           0|             0|            0|        0|          0|  0|\n",
       "+---+---+-------+---------+-------+-------+----+-------+-----+-----------+--------+--------+-----+--------+--------+------------+--------------+-------------+---------+-----------+---+\n",
       "\n",
       "</div>"
      ]
     },
     "metadata": {
      "application/vnd.databricks.v1+output": {
       "addedWidgets": {},
       "arguments": {},
       "data": "<div class=\"ansiout\">+---+---+-------+---------+-------+-------+----+-------+-----+-----------+--------+--------+-----+--------+--------+------------+--------------+-------------+---------+-----------+---+\n|age|job|marital|education|default|housing|loan|contact|month|day_of_week|duration|campaign|pdays|previous|poutcome|emp_var_rate|cons_price_idx|cons_conf_idx|euribor3m|nr_employed|  y|\n+---+---+-------+---------+-------+-------+----+-------+-----+-----------+--------+--------+-----+--------+--------+------------+--------------+-------------+---------+-----------+---+\n|  0|  0|      0|        0|      0|      0|   0|      0|    0|          0|       0|       0|    0|       0|       0|           0|             0|            0|        0|          0|  0|\n+---+---+-------+---------+-------+-------+----+-------+-----+-----------+--------+--------+-----+--------+--------+------------+--------------+-------------+---------+-----------+---+\n\n</div>",
       "datasetInfos": [],
       "removedWidgets": [],
       "type": "html"
      }
     },
     "output_type": "display_data"
    }
   ],
   "source": [
    "bank_data = bank_data.dropna()\n",
    "bank_data.select([count(when(isnull(c), c)).alias(c) for c in bank_data.columns]).show()"
   ]
  },
  {
   "cell_type": "markdown",
   "metadata": {
    "application/vnd.databricks.v1+cell": {
     "inputWidgets": {},
     "nuid": "fbe88416-c5d6-484e-a113-d8bbfc564e47",
     "showTitle": false,
     "title": ""
    }
   },
   "source": [
    "#### Task 3\n",
    "##### Perform the String Indexing opertion on the column `job`. Name the output column as `jobindex` and save the DataFrame as `bank_indexed`\n",
    "##### Display the first 10 rows of columns `job` and `jobindex` from `bank_indexed`\n",
    "##### Perform One-hot encoding on the column `jobindex` of the DataFrame `bank_indexed`. Name the output column as `jobVec1` and save the DataFrame as `bank_encoded`\n",
    "##### Display the first 10 rows of columns `job`, `jobindex` and `jobVec1` from `bank_encoded`\n",
    "\n",
    "#### Result:"
   ]
  },
  {
   "cell_type": "code",
   "execution_count": 0,
   "metadata": {
    "application/vnd.databricks.v1+cell": {
     "inputWidgets": {},
     "nuid": "d52720fe-c722-4315-a2a6-68813a1dd191",
     "showTitle": false,
     "title": ""
    }
   },
   "outputs": [
    {
     "data": {
      "text/html": [
       "<style scoped>\n",
       "  .ansiout {\n",
       "    display: block;\n",
       "    unicode-bidi: embed;\n",
       "    white-space: pre-wrap;\n",
       "    word-wrap: break-word;\n",
       "    word-break: break-all;\n",
       "    font-family: \"Source Code Pro\", \"Menlo\", monospace;;\n",
       "    font-size: 13px;\n",
       "    color: #555;\n",
       "    margin-left: 4px;\n",
       "    line-height: 19px;\n",
       "  }\n",
       "</style>\n",
       "<div class=\"ansiout\">+-----------+--------+\n",
       "        job|jobindex|\n",
       "+-----------+--------+\n",
       "   services|     3.0|\n",
       "   services|     3.0|\n",
       "     admin.|     0.0|\n",
       "   services|     3.0|\n",
       "   services|     3.0|\n",
       "     admin.|     0.0|\n",
       "blue-collar|     1.0|\n",
       " technician|     2.0|\n",
       "   services|     3.0|\n",
       "blue-collar|     1.0|\n",
       "+-----------+--------+\n",
       "only showing top 10 rows\n",
       "\n",
       "</div>"
      ]
     },
     "metadata": {
      "application/vnd.databricks.v1+output": {
       "addedWidgets": {},
       "arguments": {},
       "data": "<div class=\"ansiout\">+-----------+--------+\n|        job|jobindex|\n+-----------+--------+\n|   services|     3.0|\n|   services|     3.0|\n|     admin.|     0.0|\n|   services|     3.0|\n|   services|     3.0|\n|     admin.|     0.0|\n|blue-collar|     1.0|\n| technician|     2.0|\n|   services|     3.0|\n|blue-collar|     1.0|\n+-----------+--------+\nonly showing top 10 rows\n\n</div>",
       "datasetInfos": [],
       "removedWidgets": [],
       "type": "html"
      }
     },
     "output_type": "display_data"
    }
   ],
   "source": [
    "indexer = StringIndexer(inputCol=\"job\", outputCol=\"job\" + \"index\")\n",
    "bank_indexed = indexer.fit(bank_data).transform(bank_data)\n",
    "bank_indexed.select(\"job\",\"jobindex\").show(10)"
   ]
  },
  {
   "cell_type": "code",
   "execution_count": 0,
   "metadata": {
    "application/vnd.databricks.v1+cell": {
     "inputWidgets": {},
     "nuid": "a44cd3ba-df94-4545-a5b6-64c6abb68c45",
     "showTitle": false,
     "title": ""
    }
   },
   "outputs": [
    {
     "data": {
      "text/html": [
       "<style scoped>\n",
       "  .ansiout {\n",
       "    display: block;\n",
       "    unicode-bidi: embed;\n",
       "    white-space: pre-wrap;\n",
       "    word-wrap: break-word;\n",
       "    word-break: break-all;\n",
       "    font-family: \"Source Code Pro\", \"Menlo\", monospace;;\n",
       "    font-size: 13px;\n",
       "    color: #555;\n",
       "    margin-left: 4px;\n",
       "    line-height: 19px;\n",
       "  }\n",
       "</style>\n",
       "<div class=\"ansiout\">+-----------+--------+--------------+\n",
       "        job|jobindex|       jobVec1|\n",
       "+-----------+--------+--------------+\n",
       "   services|     3.0|(11,[3],[1.0])|\n",
       "   services|     3.0|(11,[3],[1.0])|\n",
       "     admin.|     0.0|(11,[0],[1.0])|\n",
       "   services|     3.0|(11,[3],[1.0])|\n",
       "   services|     3.0|(11,[3],[1.0])|\n",
       "     admin.|     0.0|(11,[0],[1.0])|\n",
       "blue-collar|     1.0|(11,[1],[1.0])|\n",
       " technician|     2.0|(11,[2],[1.0])|\n",
       "   services|     3.0|(11,[3],[1.0])|\n",
       "blue-collar|     1.0|(11,[1],[1.0])|\n",
       "+-----------+--------+--------------+\n",
       "only showing top 10 rows\n",
       "\n",
       "</div>"
      ]
     },
     "metadata": {
      "application/vnd.databricks.v1+output": {
       "addedWidgets": {},
       "arguments": {},
       "data": "<div class=\"ansiout\">+-----------+--------+--------------+\n|        job|jobindex|       jobVec1|\n+-----------+--------+--------------+\n|   services|     3.0|(11,[3],[1.0])|\n|   services|     3.0|(11,[3],[1.0])|\n|     admin.|     0.0|(11,[0],[1.0])|\n|   services|     3.0|(11,[3],[1.0])|\n|   services|     3.0|(11,[3],[1.0])|\n|     admin.|     0.0|(11,[0],[1.0])|\n|blue-collar|     1.0|(11,[1],[1.0])|\n| technician|     2.0|(11,[2],[1.0])|\n|   services|     3.0|(11,[3],[1.0])|\n|blue-collar|     1.0|(11,[1],[1.0])|\n+-----------+--------+--------------+\nonly showing top 10 rows\n\n</div>",
       "datasetInfos": [],
       "removedWidgets": [],
       "type": "html"
      }
     },
     "output_type": "display_data"
    }
   ],
   "source": [
    "encoder = OneHotEncoder(inputCols=[\"jobindex\"],\n",
    "                        outputCols=[\"jobVec1\"])\n",
    "bank_encoded = encoder.fit(bank_indexed).transform(bank_indexed)\n",
    "bank_encoded.select(\"job\",\"jobindex\",\"jobVec1\").show(10)"
   ]
  },
  {
   "cell_type": "markdown",
   "metadata": {
    "application/vnd.databricks.v1+cell": {
     "inputWidgets": {},
     "nuid": "80c8b5f8-5a92-4d4a-a6d4-e5b662bc82e0",
     "showTitle": false,
     "title": ""
    }
   },
   "source": [
    "#### Task 4\n",
    "##### Use VectorAssembler to combine the columns `previous` and `emp_var_rate` into column `vector`. Peform this operation on the\n",
    "##### `bank_encoded` DataFrame and save the new DataFrame as `bank_assembler_model`\n",
    "##### Display the first 10 rows of columns `previous`, `emp_var_rate` and `vector` from the `bank_assembler_model` DataFrame\n",
    "\n",
    "#### Result:"
   ]
  },
  {
   "cell_type": "code",
   "execution_count": 0,
   "metadata": {
    "application/vnd.databricks.v1+cell": {
     "inputWidgets": {},
     "nuid": "f434d61e-e0a4-4f9e-9a06-56606306dfb6",
     "showTitle": false,
     "title": ""
    }
   },
   "outputs": [
    {
     "data": {
      "text/html": [
       "<style scoped>\n",
       "  .ansiout {\n",
       "    display: block;\n",
       "    unicode-bidi: embed;\n",
       "    white-space: pre-wrap;\n",
       "    word-wrap: break-word;\n",
       "    word-break: break-all;\n",
       "    font-family: \"Source Code Pro\", \"Menlo\", monospace;;\n",
       "    font-size: 13px;\n",
       "    color: #555;\n",
       "    margin-left: 4px;\n",
       "    line-height: 19px;\n",
       "  }\n",
       "</style>\n",
       "<div class=\"ansiout\">+--------+------------+---------+\n",
       "previous|emp_var_rate|   vector|\n",
       "+--------+------------+---------+\n",
       "       0|         1.1|[0.0,1.1]|\n",
       "       0|         1.1|[0.0,1.1]|\n",
       "       0|         1.1|[0.0,1.1]|\n",
       "       0|         1.1|[0.0,1.1]|\n",
       "       0|         1.1|[0.0,1.1]|\n",
       "       0|         1.1|[0.0,1.1]|\n",
       "       0|         1.1|[0.0,1.1]|\n",
       "       0|         1.1|[0.0,1.1]|\n",
       "       0|         1.1|[0.0,1.1]|\n",
       "       0|         1.1|[0.0,1.1]|\n",
       "+--------+------------+---------+\n",
       "only showing top 10 rows\n",
       "\n",
       "</div>"
      ]
     },
     "metadata": {
      "application/vnd.databricks.v1+output": {
       "addedWidgets": {},
       "arguments": {},
       "data": "<div class=\"ansiout\">+--------+------------+---------+\n|previous|emp_var_rate|   vector|\n+--------+------------+---------+\n|       0|         1.1|[0.0,1.1]|\n|       0|         1.1|[0.0,1.1]|\n|       0|         1.1|[0.0,1.1]|\n|       0|         1.1|[0.0,1.1]|\n|       0|         1.1|[0.0,1.1]|\n|       0|         1.1|[0.0,1.1]|\n|       0|         1.1|[0.0,1.1]|\n|       0|         1.1|[0.0,1.1]|\n|       0|         1.1|[0.0,1.1]|\n|       0|         1.1|[0.0,1.1]|\n+--------+------------+---------+\nonly showing top 10 rows\n\n</div>",
       "datasetInfos": [],
       "removedWidgets": [],
       "type": "html"
      }
     },
     "output_type": "display_data"
    }
   ],
   "source": [
    "## VectorAssembler to combine all the feature columns into a single vector column\n",
    "assembler = VectorAssembler(inputCols=[\"previous\",\"emp_var_rate\"], outputCol=\"vector\")\n",
    "bank_assembler_model = assembler.transform(bank_encoded)\n",
    "bank_assembler_model.select(\"previous\",\"emp_var_rate\",\"vector\").show(10)"
   ]
  },
  {
   "cell_type": "markdown",
   "metadata": {
    "application/vnd.databricks.v1+cell": {
     "inputWidgets": {},
     "nuid": "b0e31577-e97f-4fbb-8d2a-862b6a2283dc",
     "showTitle": false,
     "title": ""
    }
   },
   "source": [
    "#### Task 5 - Data Preparation for Logistic Regression\n",
    "\n",
    "##### List all the categorical variables in `categorical_columns_ex` and create a new list `pipeline_stages_ex` for pipelining all the stages.\n",
    "##### Perform string indexing on all the `categorical columns`. Add suffix `Index` for all the output columns of StringIndexer \n",
    "##### Perform One-hot encoding on all the `String Indexer output columns`. Add suffix `One_hot_vec` for all the output columns of One-hot encoder\n",
    "##### Append all the operations to `pipeline_stages_ex`\n",
    "##### Perform string indexing on the target variable `y`. Name the output column as `y_index` and append this operation to `pipeline_stages_ex`\n",
    "\n",
    "#### Result:"
   ]
  },
  {
   "cell_type": "code",
   "execution_count": 0,
   "metadata": {
    "application/vnd.databricks.v1+cell": {
     "inputWidgets": {},
     "nuid": "4bf6e104-8ebe-4e90-8060-e41789b5493f",
     "showTitle": false,
     "title": ""
    }
   },
   "outputs": [
    {
     "data": {
      "text/html": [
       "<style scoped>\n",
       "  .ansiout {\n",
       "    display: block;\n",
       "    unicode-bidi: embed;\n",
       "    white-space: pre-wrap;\n",
       "    word-wrap: break-word;\n",
       "    word-break: break-all;\n",
       "    font-family: \"Source Code Pro\", \"Menlo\", monospace;;\n",
       "    font-size: 13px;\n",
       "    color: #555;\n",
       "    margin-left: 4px;\n",
       "    line-height: 19px;\n",
       "  }\n",
       "</style>\n",
       "<div class=\"ansiout\"></div>"
      ]
     },
     "metadata": {
      "application/vnd.databricks.v1+output": {
       "addedWidgets": {},
       "arguments": {},
       "data": "<div class=\"ansiout\"></div>",
       "datasetInfos": [],
       "removedWidgets": [],
       "type": "html"
      }
     },
     "output_type": "display_data"
    }
   ],
   "source": [
    "categorical_columns_ex = [\"job\",\"marital\",\"education\",\"default\",\"housing\",\"loan\",\"contact\",\"month\",\"day_of_week\",\"poutcome\"]\n",
    "pipeline_stages_ex = []\n",
    "\n",
    "for column in categorical_columns_ex:\n",
    "    stringIndexer = StringIndexer(inputCol = column, outputCol = column + 'Index')\n",
    "    one_hot_encoder = OneHotEncoder(inputCols=[stringIndexer.getOutputCol()], outputCols=[column + \"One_hot_vec\"])\n",
    "    pipeline_stages_ex += [stringIndexer, one_hot_encoder]"
   ]
  },
  {
   "cell_type": "code",
   "execution_count": 0,
   "metadata": {
    "application/vnd.databricks.v1+cell": {
     "inputWidgets": {},
     "nuid": "d74408f4-4cd2-4f1d-a6ff-ab52c0751474",
     "showTitle": false,
     "title": ""
    }
   },
   "outputs": [
    {
     "data": {
      "text/html": [
       "<style scoped>\n",
       "  .ansiout {\n",
       "    display: block;\n",
       "    unicode-bidi: embed;\n",
       "    white-space: pre-wrap;\n",
       "    word-wrap: break-word;\n",
       "    word-break: break-all;\n",
       "    font-family: \"Source Code Pro\", \"Menlo\", monospace;;\n",
       "    font-size: 13px;\n",
       "    color: #555;\n",
       "    margin-left: 4px;\n",
       "    line-height: 19px;\n",
       "  }\n",
       "</style>\n",
       "<div class=\"ansiout\"></div>"
      ]
     },
     "metadata": {
      "application/vnd.databricks.v1+output": {
       "addedWidgets": {},
       "arguments": {},
       "data": "<div class=\"ansiout\"></div>",
       "datasetInfos": [],
       "removedWidgets": [],
       "type": "html"
      }
     },
     "output_type": "display_data"
    }
   ],
   "source": [
    "label_index = StringIndexer(inputCol = 'y', outputCol = 'y_index')\n",
    "pipeline_stages_ex += [label_index]"
   ]
  },
  {
   "cell_type": "markdown",
   "metadata": {
    "application/vnd.databricks.v1+cell": {
     "inputWidgets": {},
     "nuid": "6b8410b5-3045-42cb-b9e7-55212378b9ea",
     "showTitle": false,
     "title": ""
    }
   },
   "source": [
    "#### Task 6 - Data Preparation for Logistic Regression\n",
    "\n",
    "##### List all the numeric variables in `numeric_columns_ex`. \n",
    "##### Append `numeric_columns_ex` with the One-hot encoder output columns. Name the appended list as `inputs_ex`\n",
    "##### Apply VectorAssembler on `inputs_ex` and name the output column as `features`.\n",
    "##### Append the assembler operations to `pipeline_stages_ex`\n",
    "##### Perform stringindexing on the target variable `y`. Name the output column as `y_index` and append this operation to `pipeline_stages_ex`\n",
    "\n",
    "#### Result:"
   ]
  },
  {
   "cell_type": "code",
   "execution_count": 0,
   "metadata": {
    "application/vnd.databricks.v1+cell": {
     "inputWidgets": {},
     "nuid": "a3422e31-5822-4621-a4d9-895fb4b7db73",
     "showTitle": false,
     "title": ""
    }
   },
   "outputs": [
    {
     "data": {
      "text/html": [
       "<style scoped>\n",
       "  .ansiout {\n",
       "    display: block;\n",
       "    unicode-bidi: embed;\n",
       "    white-space: pre-wrap;\n",
       "    word-wrap: break-word;\n",
       "    word-break: break-all;\n",
       "    font-family: \"Source Code Pro\", \"Menlo\", monospace;;\n",
       "    font-size: 13px;\n",
       "    color: #555;\n",
       "    margin-left: 4px;\n",
       "    line-height: 19px;\n",
       "  }\n",
       "</style>\n",
       "<div class=\"ansiout\"></div>"
      ]
     },
     "metadata": {
      "application/vnd.databricks.v1+output": {
       "addedWidgets": {},
       "arguments": {},
       "data": "<div class=\"ansiout\"></div>",
       "datasetInfos": [],
       "removedWidgets": [],
       "type": "html"
      }
     },
     "output_type": "display_data"
    }
   ],
   "source": [
    "numeric_columns_ex = [\"age\",\"duration\",\"campaign\",\"pdays\",\"previous\",\"emp_var_rate\",\"cons_price_idx\",\"cons_conf_idx\",\"euribor3m\",\"nr_employed\"]\n",
    "inputs_ex = [c + \"One_hot_vec\" for c in categorical_columns_ex] + numeric_columns_ex\n",
    "assembler = VectorAssembler(inputCols=inputs_ex, outputCol=\"features\")\n",
    "pipeline_stages_ex += [assembler]"
   ]
  },
  {
   "cell_type": "markdown",
   "metadata": {
    "application/vnd.databricks.v1+cell": {
     "inputWidgets": {},
     "nuid": "b2aa408f-d75d-45d9-9726-37bf98fe1734",
     "showTitle": false,
     "title": ""
    }
   },
   "source": [
    "#### Task 7 - Data Preparation for Logistic Regression\n",
    "\n",
    "##### Create a pipeline `pipeline_ex` for the stages created\n",
    "##### Fit the pipeline `pipeline_ex` on the DataFrame `bank_data` and name the model `pipelineModel_ex`\n",
    "##### Transform the `bank_data` DataFrame using `pipelineModel_ex` and save it as `bank_data_logistic`\n",
    "\n",
    "#### Result:"
   ]
  },
  {
   "cell_type": "code",
   "execution_count": 0,
   "metadata": {
    "application/vnd.databricks.v1+cell": {
     "inputWidgets": {},
     "nuid": "52992cc7-f1be-4cbb-9951-52576d40449f",
     "showTitle": false,
     "title": ""
    }
   },
   "outputs": [
    {
     "data": {
      "text/html": [
       "<style scoped>\n",
       "  .ansiout {\n",
       "    display: block;\n",
       "    unicode-bidi: embed;\n",
       "    white-space: pre-wrap;\n",
       "    word-wrap: break-word;\n",
       "    word-break: break-all;\n",
       "    font-family: \"Source Code Pro\", \"Menlo\", monospace;;\n",
       "    font-size: 13px;\n",
       "    color: #555;\n",
       "    margin-left: 4px;\n",
       "    line-height: 19px;\n",
       "  }\n",
       "</style>\n",
       "<div class=\"ansiout\"></div>"
      ]
     },
     "metadata": {
      "application/vnd.databricks.v1+output": {
       "addedWidgets": {},
       "arguments": {},
       "data": "<div class=\"ansiout\"></div>",
       "datasetInfos": [],
       "removedWidgets": [],
       "type": "html"
      }
     },
     "output_type": "display_data"
    }
   ],
   "source": [
    "pipeline_ex = Pipeline(stages = pipeline_stages_ex)\n",
    "pipelineModel_ex = pipeline_ex.fit(bank_data)\n",
    "bank_data_logistic = pipelineModel_ex.transform(bank_data)"
   ]
  },
  {
   "cell_type": "markdown",
   "metadata": {
    "application/vnd.databricks.v1+cell": {
     "inputWidgets": {},
     "nuid": "5ae66d7e-0f0f-4ac4-8b31-bc339822343a",
     "showTitle": false,
     "title": ""
    }
   },
   "source": [
    "#### Task 8 - Data Preparation for Logistic Regression\n",
    "\n",
    "##### Split `bank_data_logistic` to train and test in the ratio of 70:30. Save the DataFrames as `train` and `test`. Set the seed value to 2\n",
    "##### Count the number of observations in train and test dataframes\n",
    "\n",
    "#### Result:"
   ]
  },
  {
   "cell_type": "code",
   "execution_count": 0,
   "metadata": {
    "application/vnd.databricks.v1+cell": {
     "inputWidgets": {},
     "nuid": "cc336590-402c-4e92-95e6-fa0717929ec3",
     "showTitle": false,
     "title": ""
    }
   },
   "outputs": [
    {
     "data": {
      "text/html": [
       "<style scoped>\n",
       "  .ansiout {\n",
       "    display: block;\n",
       "    unicode-bidi: embed;\n",
       "    white-space: pre-wrap;\n",
       "    word-wrap: break-word;\n",
       "    word-break: break-all;\n",
       "    font-family: \"Source Code Pro\", \"Menlo\", monospace;;\n",
       "    font-size: 13px;\n",
       "    color: #555;\n",
       "    margin-left: 4px;\n",
       "    line-height: 19px;\n",
       "  }\n",
       "</style>\n",
       "<div class=\"ansiout\"></div>"
      ]
     },
     "metadata": {
      "application/vnd.databricks.v1+output": {
       "addedWidgets": {},
       "arguments": {},
       "data": "<div class=\"ansiout\"></div>",
       "datasetInfos": [],
       "removedWidgets": [],
       "type": "html"
      }
     },
     "output_type": "display_data"
    }
   ],
   "source": [
    "train, test = bank_data_logistic.randomSplit([0.7, 0.3], seed = 2)"
   ]
  },
  {
   "cell_type": "code",
   "execution_count": 0,
   "metadata": {
    "application/vnd.databricks.v1+cell": {
     "inputWidgets": {},
     "nuid": "997524d9-f687-4f57-b072-5024e52ab8ee",
     "showTitle": false,
     "title": ""
    }
   },
   "outputs": [
    {
     "data": {
      "text/html": [
       "<style scoped>\n",
       "  .ansiout {\n",
       "    display: block;\n",
       "    unicode-bidi: embed;\n",
       "    white-space: pre-wrap;\n",
       "    word-wrap: break-word;\n",
       "    word-break: break-all;\n",
       "    font-family: \"Source Code Pro\", \"Menlo\", monospace;;\n",
       "    font-size: 13px;\n",
       "    color: #555;\n",
       "    margin-left: 4px;\n",
       "    line-height: 19px;\n",
       "  }\n",
       "</style>\n",
       "<div class=\"ansiout\">Out[78]: 28883</div>"
      ]
     },
     "metadata": {
      "application/vnd.databricks.v1+output": {
       "addedWidgets": {},
       "arguments": {},
       "data": "<div class=\"ansiout\">Out[78]: 28883</div>",
       "datasetInfos": [],
       "removedWidgets": [],
       "type": "html"
      }
     },
     "output_type": "display_data"
    }
   ],
   "source": [
    "train.count()"
   ]
  },
  {
   "cell_type": "code",
   "execution_count": 0,
   "metadata": {
    "application/vnd.databricks.v1+cell": {
     "inputWidgets": {},
     "nuid": "5449c43f-1915-4fe7-8860-d9953e02dcce",
     "showTitle": false,
     "title": ""
    }
   },
   "outputs": [
    {
     "data": {
      "text/html": [
       "<style scoped>\n",
       "  .ansiout {\n",
       "    display: block;\n",
       "    unicode-bidi: embed;\n",
       "    white-space: pre-wrap;\n",
       "    word-wrap: break-word;\n",
       "    word-break: break-all;\n",
       "    font-family: \"Source Code Pro\", \"Menlo\", monospace;;\n",
       "    font-size: 13px;\n",
       "    color: #555;\n",
       "    margin-left: 4px;\n",
       "    line-height: 19px;\n",
       "  }\n",
       "</style>\n",
       "<div class=\"ansiout\">Out[79]: 12304</div>"
      ]
     },
     "metadata": {
      "application/vnd.databricks.v1+output": {
       "addedWidgets": {},
       "arguments": {},
       "data": "<div class=\"ansiout\">Out[79]: 12304</div>",
       "datasetInfos": [],
       "removedWidgets": [],
       "type": "html"
      }
     },
     "output_type": "display_data"
    }
   ],
   "source": [
    "test.count()"
   ]
  },
  {
   "cell_type": "markdown",
   "metadata": {
    "application/vnd.databricks.v1+cell": {
     "inputWidgets": {},
     "nuid": "73591a5c-5614-4c50-9472-e272f523b929",
     "showTitle": false,
     "title": ""
    }
   },
   "source": [
    "## Exercise 4"
   ]
  },
  {
   "cell_type": "markdown",
   "metadata": {
    "application/vnd.databricks.v1+cell": {
     "inputWidgets": {},
     "nuid": "0016421d-5879-4929-ba5c-f60c0ca19287",
     "showTitle": false,
     "title": ""
    }
   },
   "source": [
    "#### Task 1\n",
    "\n",
    "##### Apply `Logistic Regression` with input columns as `features` and target variable as `y_index` and save the model as `lr_ex`\n",
    "##### Apply the model `lr_ex` on train\n",
    "##### Print the model `lr_ex`\n",
    "\n",
    "#### Result:"
   ]
  },
  {
   "cell_type": "code",
   "execution_count": 0,
   "metadata": {
    "application/vnd.databricks.v1+cell": {
     "inputWidgets": {},
     "nuid": "c33ed159-60db-4c19-bfec-085b616cddd1",
     "showTitle": false,
     "title": ""
    }
   },
   "outputs": [
    {
     "data": {
      "text/html": [
       "<style scoped>\n",
       "  .ansiout {\n",
       "    display: block;\n",
       "    unicode-bidi: embed;\n",
       "    white-space: pre-wrap;\n",
       "    word-wrap: break-word;\n",
       "    word-break: break-all;\n",
       "    font-family: \"Source Code Pro\", \"Menlo\", monospace;;\n",
       "    font-size: 13px;\n",
       "    color: #555;\n",
       "    margin-left: 4px;\n",
       "    line-height: 19px;\n",
       "  }\n",
       "</style>\n",
       "<div class=\"ansiout\"></div>"
      ]
     },
     "metadata": {
      "application/vnd.databricks.v1+output": {
       "addedWidgets": {},
       "arguments": {},
       "data": "<div class=\"ansiout\"></div>",
       "datasetInfos": [],
       "removedWidgets": [],
       "type": "html"
      }
     },
     "output_type": "display_data"
    }
   ],
   "source": [
    "lr_ex = LogisticRegression(featuresCol = 'features', labelCol = 'y_index', maxIter=10)\n",
    "lrModel = lr_ex.fit(train)"
   ]
  },
  {
   "cell_type": "code",
   "execution_count": 0,
   "metadata": {
    "application/vnd.databricks.v1+cell": {
     "inputWidgets": {},
     "nuid": "762b4d77-5ac6-45e0-b0c4-994ced138470",
     "showTitle": false,
     "title": ""
    }
   },
   "outputs": [
    {
     "data": {
      "text/html": [
       "<style scoped>\n",
       "  .ansiout {\n",
       "    display: block;\n",
       "    unicode-bidi: embed;\n",
       "    white-space: pre-wrap;\n",
       "    word-wrap: break-word;\n",
       "    word-break: break-all;\n",
       "    font-family: \"Source Code Pro\", \"Menlo\", monospace;;\n",
       "    font-size: 13px;\n",
       "    color: #555;\n",
       "    margin-left: 4px;\n",
       "    line-height: 19px;\n",
       "  }\n",
       "</style>\n",
       "<div class=\"ansiout\">Out[81]: LogisticRegressionModel: uid=LogisticRegression_e98a63dbfae3, numClasses=2, numFeatures=53</div>"
      ]
     },
     "metadata": {
      "application/vnd.databricks.v1+output": {
       "addedWidgets": {},
       "arguments": {},
       "data": "<div class=\"ansiout\">Out[81]: LogisticRegressionModel: uid=LogisticRegression_e98a63dbfae3, numClasses=2, numFeatures=53</div>",
       "datasetInfos": [],
       "removedWidgets": [],
       "type": "html"
      }
     },
     "output_type": "display_data"
    }
   ],
   "source": [
    "lrModel"
   ]
  },
  {
   "cell_type": "markdown",
   "metadata": {
    "application/vnd.databricks.v1+cell": {
     "inputWidgets": {},
     "nuid": "a3a491e8-4a21-4497-813e-c600e8fb5b04",
     "showTitle": false,
     "title": ""
    }
   },
   "source": [
    "#### Task 2\n",
    "\n",
    "##### Predict the target variable on the test data using the model `lrModel`. Save the predictions as `predictions_ex`\n",
    "##### Select `y_index, rawPrediction, prediction, probability` from the `predictions_ex` DataFrame\n",
    "\n",
    "#### Result:"
   ]
  },
  {
   "cell_type": "code",
   "execution_count": 0,
   "metadata": {
    "application/vnd.databricks.v1+cell": {
     "inputWidgets": {},
     "nuid": "22431a06-b3e8-44e2-b28c-36a05de9afc6",
     "showTitle": false,
     "title": ""
    }
   },
   "outputs": [
    {
     "data": {
      "text/html": [
       "<style scoped>\n",
       "  .ansiout {\n",
       "    display: block;\n",
       "    unicode-bidi: embed;\n",
       "    white-space: pre-wrap;\n",
       "    word-wrap: break-word;\n",
       "    word-break: break-all;\n",
       "    font-family: \"Source Code Pro\", \"Menlo\", monospace;;\n",
       "    font-size: 13px;\n",
       "    color: #555;\n",
       "    margin-left: 4px;\n",
       "    line-height: 19px;\n",
       "  }\n",
       "</style>\n",
       "<div class=\"ansiout\">+-------+--------------------+----------+--------------------+\n",
       "y_index|       rawPrediction|prediction|         probability|\n",
       "+-------+--------------------+----------+--------------------+\n",
       "    1.0|[2.05355528828481...|       0.0|[0.88630636818059...|\n",
       "    1.0|[2.05411529015604...|       0.0|[0.88636278590104...|\n",
       "    1.0|[2.05459712105922...|       0.0|[0.88641130870543...|\n",
       "    1.0|[2.05173498039814...|       0.0|[0.88612281148028...|\n",
       "    1.0|[2.05183789342197...|       0.0|[0.8861331959359,...|\n",
       "    1.0|[2.05351307841744...|       0.0|[0.88630211473307...|\n",
       "    0.0|[2.06852627112409...|       0.0|[0.88780625262087...|\n",
       "    0.0|[2.06313612669408...|       0.0|[0.88726823689279...|\n",
       "    0.0|[2.06073728486301...|       0.0|[0.88702807379101...|\n",
       "    0.0|[2.07082914794176...|       0.0|[0.88803542891229...|\n",
       "+-------+--------------------+----------+--------------------+\n",
       "only showing top 10 rows\n",
       "\n",
       "</div>"
      ]
     },
     "metadata": {
      "application/vnd.databricks.v1+output": {
       "addedWidgets": {},
       "arguments": {},
       "data": "<div class=\"ansiout\">+-------+--------------------+----------+--------------------+\n|y_index|       rawPrediction|prediction|         probability|\n+-------+--------------------+----------+--------------------+\n|    1.0|[2.05355528828481...|       0.0|[0.88630636818059...|\n|    1.0|[2.05411529015604...|       0.0|[0.88636278590104...|\n|    1.0|[2.05459712105922...|       0.0|[0.88641130870543...|\n|    1.0|[2.05173498039814...|       0.0|[0.88612281148028...|\n|    1.0|[2.05183789342197...|       0.0|[0.8861331959359,...|\n|    1.0|[2.05351307841744...|       0.0|[0.88630211473307...|\n|    0.0|[2.06852627112409...|       0.0|[0.88780625262087...|\n|    0.0|[2.06313612669408...|       0.0|[0.88726823689279...|\n|    0.0|[2.06073728486301...|       0.0|[0.88702807379101...|\n|    0.0|[2.07082914794176...|       0.0|[0.88803542891229...|\n+-------+--------------------+----------+--------------------+\nonly showing top 10 rows\n\n</div>",
       "datasetInfos": [],
       "removedWidgets": [],
       "type": "html"
      }
     },
     "output_type": "display_data"
    }
   ],
   "source": [
    "predictions_ex = lrModel.transform(test)\n",
    "predictions_ex.select('y_index', 'rawPrediction', 'prediction', 'probability').show(10)"
   ]
  },
  {
   "cell_type": "markdown",
   "metadata": {
    "application/vnd.databricks.v1+cell": {
     "inputWidgets": {},
     "nuid": "508512bb-cbeb-4be1-abea-93a242fabbe9",
     "showTitle": false,
     "title": ""
    }
   },
   "source": [
    "#### Task 3\n",
    "\n",
    "##### Calculate the `Accuracy` on the test predictions and print it\n",
    "##### Calculate the `Area Under ROC` on the test predictions and print it\n",
    "\n",
    "#### Result:"
   ]
  },
  {
   "cell_type": "code",
   "execution_count": 0,
   "metadata": {
    "application/vnd.databricks.v1+cell": {
     "inputWidgets": {},
     "nuid": "bf349968-869f-445d-8684-9a139038154c",
     "showTitle": false,
     "title": ""
    }
   },
   "outputs": [
    {
     "data": {
      "text/html": [
       "<style scoped>\n",
       "  .ansiout {\n",
       "    display: block;\n",
       "    unicode-bidi: embed;\n",
       "    white-space: pre-wrap;\n",
       "    word-wrap: break-word;\n",
       "    word-break: break-all;\n",
       "    font-family: \"Source Code Pro\", \"Menlo\", monospace;;\n",
       "    font-size: 13px;\n",
       "    color: #555;\n",
       "    margin-left: 4px;\n",
       "    line-height: 19px;\n",
       "  }\n",
       "</style>\n",
       "<div class=\"ansiout\">Accuracy :  0.8870286085825748\n",
       "</div>"
      ]
     },
     "metadata": {
      "application/vnd.databricks.v1+output": {
       "addedWidgets": {},
       "arguments": {},
       "data": "<div class=\"ansiout\">Accuracy :  0.8870286085825748\n</div>",
       "datasetInfos": [],
       "removedWidgets": [],
       "type": "html"
      }
     },
     "output_type": "display_data"
    }
   ],
   "source": [
    "accuracy = predictions_ex.filter(predictions_ex.y_index == predictions_ex.prediction).count() / float(predictions_ex.count())\n",
    "print(\"Accuracy : \", accuracy)"
   ]
  },
  {
   "cell_type": "code",
   "execution_count": 0,
   "metadata": {
    "application/vnd.databricks.v1+cell": {
     "inputWidgets": {},
     "nuid": "cf5c1ecf-5de2-407c-8a28-900a13ce6e5e",
     "showTitle": false,
     "title": ""
    }
   },
   "outputs": [
    {
     "data": {
      "text/html": [
       "<style scoped>\n",
       "  .ansiout {\n",
       "    display: block;\n",
       "    unicode-bidi: embed;\n",
       "    white-space: pre-wrap;\n",
       "    word-wrap: break-word;\n",
       "    word-break: break-all;\n",
       "    font-family: \"Source Code Pro\", \"Menlo\", monospace;;\n",
       "    font-size: 13px;\n",
       "    color: #555;\n",
       "    margin-left: 4px;\n",
       "    line-height: 19px;\n",
       "  }\n",
       "</style>\n",
       "<div class=\"ansiout\">Test Area Under ROC 0.8713732477459465\n",
       "</div>"
      ]
     },
     "metadata": {
      "application/vnd.databricks.v1+output": {
       "addedWidgets": {},
       "arguments": {},
       "data": "<div class=\"ansiout\">Test Area Under ROC 0.8713732477459465\n</div>",
       "datasetInfos": [],
       "removedWidgets": [],
       "type": "html"
      }
     },
     "output_type": "display_data"
    }
   ],
   "source": [
    "evaluator = BinaryClassificationEvaluator(labelCol = \"y_index\")\n",
    "print('Test Area Under ROC', evaluator.evaluate(predictions_ex))"
   ]
  }
 ],
 "metadata": {
  "application/vnd.databricks.v1+notebook": {
   "dashboards": [],
   "language": "python",
   "notebookName": "intro_to_spark_and_pyspark_exercises_with_answers",
   "notebookOrigID": 203455277521765,
   "widgets": {}
  },
  "kernelspec": {
   "display_name": "Python 3",
   "language": "python",
   "name": "python3"
  },
  "language_info": {
   "codemirror_mode": {
    "name": "ipython",
    "version": 3
   },
   "file_extension": ".py",
   "mimetype": "text/x-python",
   "name": "python",
   "nbconvert_exporter": "python",
   "pygments_lexer": "ipython3",
   "version": "3.8.5"
  }
 },
 "nbformat": 4,
 "nbformat_minor": 1
}
