{
 "cells": [
  {
   "cell_type": "markdown",
   "id": "7d4a5e78",
   "metadata": {},
   "source": [
    "## ENSEMBLE METHODS/ADVANCED CLASSIFICATION PART 4 EXERCISE ANSWERS ##\n",
    "#### Exercise ####\n",
    "#### Task 1\n",
    "##### Review the tasks that follow and import the packages required to complete them.\n",
    "##### Set the working directory to data directory.\n",
    "##### Load the dataset \"bank_marketing.csv\" from the data folder as 'data'.\n",
    "##### The **bank marketing dataset** will be used to predict if a client has subscribed a term deposit\n",
    "##### Similar to the credit card data, we will first predict using the demographic data (education, marital status, etc..)\n",
    "##### Then, we will include social and economic attributes to predict the subscription of term deposit \n",
    "##### View the first few rows and column names of `bank`.\n",
    "#### Result:\n"
   ]
  },
  {
   "cell_type": "code",
   "execution_count": 1,
   "id": "71c78dce",
   "metadata": {},
   "outputs": [
    {
     "data": {
      "text/plain": [
       "Index(['age', 'job', 'marital', 'education', 'default', 'housing', 'loan',\n",
       "       'contact', 'month', 'day_of_week', 'duration', 'campaign', 'pdays',\n",
       "       'previous', 'poutcome', 'emp_var_rate', 'cons_price_idx',\n",
       "       'cons_conf_idx', 'euribor3m', 'nr_employed', 'y'],\n",
       "      dtype='object')"
      ]
     },
     "execution_count": 1,
     "metadata": {},
     "output_type": "execute_result"
    }
   ],
   "source": [
    "import os\n",
    "import pickle\n",
    "import matplotlib.pyplot as plt                     \n",
    "import numpy as np                                    \n",
    "import pandas as pd\n",
    "from pathlib import Path\n",
    "from textwrap import wrap\n",
    "from sklearn.model_selection import train_test_split\n",
    "from sklearn import metrics\n",
    "from sklearn.ensemble import RandomForestClassifier\n",
    "from sklearn.metrics import accuracy_score\n",
    "from sklearn.ensemble import GradientBoostingClassifier\n",
    "# Set 'main_dir' to location of the project folder\n",
    "\n",
    "bank = pd.read_csv(\"bank_marketing.csv\")\n",
    "bank.head()\n",
    "bank.columns\n"
   ]
  },
  {
   "cell_type": "markdown",
   "id": "bc238239",
   "metadata": {},
   "source": [
    "#### Task 2\n",
    "##### Check the data type of each variable.\n",
    "##### Convert `y` into a categorical target variable.\n",
    "##### Replace the column `y` in the dataframe, by setting it to 1 if `y` is 'yes', otherwise set `y` to 0.\n",
    "#### Result:\n"
   ]
  },
  {
   "cell_type": "code",
   "execution_count": 2,
   "id": "6e7070e5",
   "metadata": {},
   "outputs": [
    {
     "name": "stdout",
     "output_type": "stream",
     "text": [
      "age                 int64\n",
      "job                object\n",
      "marital            object\n",
      "education          object\n",
      "default            object\n",
      "housing            object\n",
      "loan               object\n",
      "contact            object\n",
      "month              object\n",
      "day_of_week        object\n",
      "duration            int64\n",
      "campaign            int64\n",
      "pdays             float64\n",
      "previous            int64\n",
      "poutcome           object\n",
      "emp_var_rate      float64\n",
      "cons_price_idx    float64\n",
      "cons_conf_idx     float64\n",
      "euribor3m         float64\n",
      "nr_employed         int64\n",
      "y                  object\n",
      "dtype: object\n",
      "age               0\n",
      "job               0\n",
      "marital           0\n",
      "education         0\n",
      "default           0\n",
      "housing           0\n",
      "loan              0\n",
      "contact           0\n",
      "month             0\n",
      "day_of_week       0\n",
      "duration          0\n",
      "campaign          0\n",
      "pdays             1\n",
      "previous          0\n",
      "poutcome          0\n",
      "emp_var_rate      0\n",
      "cons_price_idx    0\n",
      "cons_conf_idx     0\n",
      "euribor3m         0\n",
      "nr_employed       0\n",
      "y                 0\n",
      "dtype: int64\n"
     ]
    }
   ],
   "source": [
    "# Check datatype\n",
    "print(bank.dtypes)\n",
    "# Convert y to 0/1 values\n",
    "bank['y'] = np.where(bank ['y'] == 'yes',1,0 )\n",
    "# Check for NAs.\n",
    "print(bank.isnull().sum())\n"
   ]
  },
  {
   "cell_type": "markdown",
   "id": "8340083d",
   "metadata": {},
   "source": [
    "#### Task 3\n",
    "##### Look for NAs in `bank` and drop the columns with >50% NAs.\n",
    "##### Check for NAs after again to make sure the data looks good.\n",
    "##### Keep the numerical columns `age`,`campaign`,`emp_var_rate`,`cons_price_idx`,`cons_conf_idx`,`euribor3m`,`nr_employed`,`y`.\n",
    "#### Result:\n"
   ]
  },
  {
   "cell_type": "code",
   "execution_count": 3,
   "id": "93090639",
   "metadata": {},
   "outputs": [
    {
     "name": "stdout",
     "output_type": "stream",
     "text": [
      "(41188, 20)\n"
     ]
    }
   ],
   "source": [
    "# Drop 'pdays'\n",
    "bank.drop(['pdays'], axis = 1, inplace = True)\n",
    "print(bank.shape)\n",
    "bank = bank[[\"age\",\"campaign\",\"emp_var_rate\",\"cons_price_idx\",\"cons_conf_idx\",\"euribor3m\",\"nr_employed\",\"y\"]]\n"
   ]
  },
  {
   "cell_type": "markdown",
   "id": "7759f1c2",
   "metadata": {},
   "source": [
    "#### Task 4\n",
    "##### In order to reduce time taken to train the models,\n",
    "##### replace `bank` with a dataframe containing 2000 rows randomly sampled from `bank` using the following code: `bank = bank.sample(n=2000, random_state=1)`\n",
    "#### Result:\n"
   ]
  },
  {
   "cell_type": "code",
   "execution_count": 4,
   "id": "0a3f6798",
   "metadata": {},
   "outputs": [],
   "source": [
    "# Randomly sample 2000 rows from bank\n",
    "bank = bank.sample(n=2000, random_state=1)\n"
   ]
  },
  {
   "cell_type": "markdown",
   "id": "baec396b",
   "metadata": {},
   "source": [
    "#### Task 5\n",
    "##### Select the predictors by dropping variable `y` and save the result to a dataframe `X_ex`.\n",
    "##### Save the target variable `y` column to `y_ex` variable.\n",
    "##### Set seed as 1.\n",
    "##### Split the data into train and test sets and save respective variables to `X_train_ex`, `X_test_ex`, `y_train_ex`, `y_test_ex`.\n",
    "#### Result:\n"
   ]
  },
  {
   "cell_type": "code",
   "execution_count": 5,
   "id": "f40e6124",
   "metadata": {},
   "outputs": [],
   "source": [
    "# Select the predictors and target.\n",
    "X_ex = bank.drop(['y'], axis = 1)\n",
    "y_ex = np.array(bank['y'])\n",
    "# Set the seed to 1.\n",
    "np.random.seed(1)\n",
    "# Split into training and test sets.\n",
    "X_train_ex, X_test_ex, y_train_ex, y_test_ex = train_test_split(X_ex, y_ex, test_size = 0.3)\n"
   ]
  },
  {
   "cell_type": "markdown",
   "id": "daea2359",
   "metadata": {},
   "source": [
    "#### Task 6\n",
    "##### Create a random forest classifier and save it to `forest_ex` variable.\n",
    "##### Set random state to 1, number of estimators to 100, and `gini` as the criterion in the model.\n",
    "##### Fit the classifier to our training data.\n",
    "#### Result:\n"
   ]
  },
  {
   "cell_type": "code",
   "execution_count": 6,
   "id": "f8b8f057",
   "metadata": {},
   "outputs": [
    {
     "data": {
      "text/plain": [
       "RandomForestClassifier(random_state=1)"
      ]
     },
     "execution_count": 6,
     "metadata": {},
     "output_type": "execute_result"
    }
   ],
   "source": [
    "forest_ex = RandomForestClassifier(criterion = 'gini', n_estimators = 100, \n",
    "                                  random_state = 1)\n",
    "forest_ex.fit(X_train_ex, y_train_ex)\n"
   ]
  },
  {
   "cell_type": "markdown",
   "id": "1c2dd94e",
   "metadata": {},
   "source": [
    "#### Task 7\n",
    "##### Predict on the test data and print the first 5 predictions on the test data.\n",
    "#### Result:\n"
   ]
  },
  {
   "cell_type": "code",
   "execution_count": 7,
   "id": "98f41124",
   "metadata": {},
   "outputs": [
    {
     "name": "stdout",
     "output_type": "stream",
     "text": [
      "[1 1 0 1 0]\n"
     ]
    }
   ],
   "source": [
    "# Predict on test data.\n",
    "y_predict_forest_ex = forest_ex.predict(X_test_ex)\n",
    "# Look at the first few predictions.\n",
    "print(y_predict_forest_ex[0:5, ])\n"
   ]
  },
  {
   "cell_type": "markdown",
   "id": "59d5174f",
   "metadata": {},
   "source": [
    "#### Task 8\n",
    "##### Print the confusion matrix and save it as `conf_matrix_forest_ex`.\n",
    "##### Print the accuracy score as `accuracy_forest_ex`.\n",
    "##### Compute the accuracy on the training data. Why is this accuracy so high?\n",
    "#### Result:\n"
   ]
  },
  {
   "cell_type": "code",
   "execution_count": 8,
   "id": "e86ea0cb",
   "metadata": {},
   "outputs": [
    {
     "name": "stdout",
     "output_type": "stream",
     "text": [
      "[[504  23]\n",
      " [ 58  15]]\n",
      "Accuracy for random forest on test data:  0.865\n",
      "Train Accuracy: 0.9885714285714285\n"
     ]
    }
   ],
   "source": [
    "# Take a look at test data confusion matrix.\n",
    "conf_matrix_forest_ex = metrics.confusion_matrix(y_test_ex, y_predict_forest_ex)\n",
    "print(conf_matrix_forest_ex)\n",
    "accuracy_forest_ex = metrics.accuracy_score(y_test_ex, y_predict_forest_ex)\n",
    "print(\"Accuracy for random forest on test data: \", accuracy_forest_ex)\n",
    "# Compute accuracy using training data.\n",
    "acc_train_forest_ex = forest_ex.score(X_train_ex, y_train_ex)\n",
    "print (\"Train Accuracy:\", acc_train_forest_ex)\n",
    "# The train accuracy is high since it is on the training dataset. The accuracy on test data will almost always be lower since the model has not seen this data before.\n"
   ]
  },
  {
   "cell_type": "markdown",
   "id": "6b032307",
   "metadata": {},
   "source": [
    "#### Task 9\n",
    "##### Print the feature importance graph and print the top 10 important features in our random forest model.\n",
    "#### Result:\n"
   ]
  },
  {
   "cell_type": "code",
   "execution_count": 9,
   "id": "9f2ab85b",
   "metadata": {},
   "outputs": [
    {
     "data": {
      "text/plain": [
       "Text(0.5, 0, 'Relative Importance')"
      ]
     },
     "execution_count": 9,
     "metadata": {},
     "output_type": "execute_result"
    },
    {
     "data": {
      "image/png": "[encoded data removed]",
      "text/plain": [
       "<Figure size 432x288 with 1 Axes>"
      ]
     },
     "metadata": {
      "needs_background": "light"
     },
     "output_type": "display_data"
    }
   ],
   "source": [
    "bank_features = bank.drop('y', axis = 1)\n",
    "features_ex = bank_features.columns\n",
    "importances_ex = forest_ex.feature_importances_\n",
    "indices_ex = np.argsort(importances_ex)[::-1]\n",
    "top_indices_ex = indices_ex[0:10][::-1]\n",
    "plt.figure(1)\n",
    "plt.title('Feature Importance of Bank marketing dataset')\n",
    "plt.barh(range(len(top_indices_ex)), importances_ex[top_indices_ex], color = 'b', align = 'center')\n",
    "labels = features_ex[top_indices_ex]\n",
    "labels = [ '\\n'.join(wrap(l,13)) for l in labels ]\n",
    "plt.yticks(range(len(top_indices_ex)), labels)\n",
    "plt.xlabel('Relative Importance')\n"
   ]
  },
  {
   "cell_type": "markdown",
   "id": "46b3c6f8",
   "metadata": {},
   "source": [
    "#### Task 10\n",
    "##### Create a gradient boosting classifier as `gbm_ex` with number of estimators set to 100, learning rate set to 1, max depth set to 1, and random state set to 1.\n",
    "##### Fit the model to our training data.\n",
    "#### Result:\n"
   ]
  },
  {
   "cell_type": "code",
   "execution_count": 10,
   "id": "55c1cc90",
   "metadata": {},
   "outputs": [
    {
     "data": {
      "text/plain": [
       "GradientBoostingClassifier(learning_rate=1, max_depth=1, random_state=1)"
      ]
     },
     "execution_count": 10,
     "metadata": {},
     "output_type": "execute_result"
    }
   ],
   "source": [
    "# Save the parameters we will be using for our gradient boosting classifier.\n",
    "gbm_ex = GradientBoostingClassifier(n_estimators = 100, \n",
    "                                    learning_rate = 1, \n",
    "                                    max_depth = 1,  \n",
    "                                    random_state = 1)\n",
    "# Fit the saved model to your training data.\n",
    "gbm_ex.fit(X_train_ex, y_train_ex)\n"
   ]
  },
  {
   "cell_type": "markdown",
   "id": "867b3bfa",
   "metadata": {},
   "source": [
    "#### Task 11\n",
    "##### Predict on the test data using our gbm classifier.\n",
    "##### Print the first 5 predicted values.\n",
    "#### Result:\n"
   ]
  },
  {
   "cell_type": "code",
   "execution_count": 11,
   "id": "7c5b6a2b",
   "metadata": {},
   "outputs": [
    {
     "name": "stdout",
     "output_type": "stream",
     "text": [
      "[0 0 0 0 0]\n"
     ]
    }
   ],
   "source": [
    "# Predict on test data.\n",
    "predicted_values_gbm_ex = gbm_ex.predict(X_test_ex)\n",
    "print(predicted_values_gbm_ex[0:5,])\n"
   ]
  },
  {
   "cell_type": "markdown",
   "id": "f98ea985",
   "metadata": {},
   "source": [
    "#### Task 12\n",
    "##### Print the confusion matrix and accuracy score on the test data.\n",
    "##### Print the training accuracy of gbm model.\n",
    "#### Result:\n"
   ]
  },
  {
   "cell_type": "code",
   "execution_count": 12,
   "id": "e770819b",
   "metadata": {},
   "outputs": [
    {
     "name": "stdout",
     "output_type": "stream",
     "text": [
      "[[521   6]\n",
      " [ 55  18]]\n",
      "Accuracy of gbm on test data:  0.8983333333333333\n",
      "Train Accuracy: 0.8892857142857142\n"
     ]
    }
   ],
   "source": [
    "# Take a look at test data confusion matrix.\n",
    "conf_matrix_boosting_ex = metrics.confusion_matrix(y_test_ex, predicted_values_gbm_ex)\n",
    "print(conf_matrix_boosting_ex)\n",
    "# Compute test model accuracy score.\n",
    "accuracy_gbm_ex = metrics.accuracy_score(y_test_ex, predicted_values_gbm_ex)\n",
    "print('Accuracy of gbm on test data: ', accuracy_gbm_ex)\n",
    "# Compute accuracy using training data.\n",
    "train_accuracy_gbm_ex = gbm_ex.score(X_train_ex, y_train_ex)\n",
    "print (\"Train Accuracy:\", train_accuracy_gbm_ex)\n"
   ]
  },
  {
   "cell_type": "markdown",
   "id": "2de4568e",
   "metadata": {},
   "source": [
    "#### Task 13\n",
    "##### Print the feature importance graph and print top 10 important predictors.\n",
    "#### Result:\n"
   ]
  },
  {
   "cell_type": "code",
   "execution_count": 13,
   "id": "9ef1239e",
   "metadata": {},
   "outputs": [
    {
     "data": {
      "text/plain": [
       "Text(0.5, 0, 'Relative Importance')"
      ]
     },
     "execution_count": 13,
     "metadata": {},
     "output_type": "execute_result"
    },
    {
     "data": {
      "image/png": "[encoded data removed]",
      "text/plain": [
       "<Figure size 432x288 with 1 Axes>"
      ]
     },
     "metadata": {
      "needs_background": "light"
     },
     "output_type": "display_data"
    }
   ],
   "source": [
    "bank_features = bank.drop('y', axis = 1)\n",
    "features_ex = bank_features.columns\n",
    "importances_ex = gbm_ex.feature_importances_\n",
    "indices_ex = np.argsort(importances_ex)[::-1]\n",
    "top_indices_ex = indices_ex[0:10][::-1]\n",
    "plt.figure(1)\n",
    "plt.title('Feature Importance of Bank marketing dataset')\n",
    "plt.barh(range(len(top_indices_ex)), importances_ex[top_indices_ex], color = 'b', align = 'center')\n",
    "labels = features_ex[top_indices_ex]\n",
    "labels = [ '\\n'.join(wrap(l,13)) for l in labels ]\n",
    "plt.yticks(range(len(top_indices_ex)), labels)\n",
    "plt.xlabel('Relative Importance')\n"
   ]
  }
 ],
 "metadata": {
  "kernelspec": {
   "display_name": "Python 3 (ipykernel)",
   "language": "python",
   "name": "python3"
  },
  "language_info": {
   "codemirror_mode": {
    "name": "ipython",
    "version": 3
   },
   "file_extension": ".py",
   "mimetype": "text/x-python",
   "name": "python",
   "nbconvert_exporter": "python",
   "pygments_lexer": "ipython3",
   "version": "3.9.12"
  }
 },
 "nbformat": 4,
 "nbformat_minor": 5
}
