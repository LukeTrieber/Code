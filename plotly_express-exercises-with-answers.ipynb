{
 "cells": [
  {
   "cell_type": "markdown",
   "id": "cc398b07",
   "metadata": {},
   "source": [
    "## PLOTLY EXPRESS/PLOTLY EXPRESS PART 1 EXERCISE ANSWERS ##\n",
    "#### Exercise 1 ####\n",
    "#### Task 1 \n",
    "##### Import the Plotly Express library as px\n",
    "##### Use the Plotly Express library to pull in the dataset `iris` and save it as df\n",
    "#### Result:\n"
   ]
  },
  {
   "cell_type": "code",
   "execution_count": null,
   "id": "04fc4eaf",
   "metadata": {},
   "outputs": [],
   "source": [
    "import plotly.express as px\n",
    "df = px.data.iris()\n"
   ]
  },
  {
   "cell_type": "markdown",
   "id": "c26c7350",
   "metadata": {},
   "source": [
    "#### Task 2 \n",
    "##### Create a histogram of petal_length colored by species. Add a title, choose a number of bins, and change the axes labels, and the color palette as you see fit.\n",
    "#### Result:\n"
   ]
  },
  {
   "cell_type": "code",
   "execution_count": null,
   "id": "b54f3bc3",
   "metadata": {},
   "outputs": [],
   "source": [
    "fig=px.histogram(df, x='petal_length', color='species', title='Petal Length by Species', labels={'petal_length':'Petal Length'}, color_discrete_sequence=px.colors.sequential.Aggrnyl, nbins=40)\n",
    "fig.show()\n"
   ]
  },
  {
   "cell_type": "markdown",
   "id": "74831793",
   "metadata": {},
   "source": [
    "#### Task 3 \n",
    "##### Create a box plot of `sepal_length` colored by species.  Add a title, change axes labels, and the color palette as you see fit.\n",
    "#### Result:\n"
   ]
  },
  {
   "cell_type": "code",
   "execution_count": null,
   "id": "a7ab0d04",
   "metadata": {},
   "outputs": [],
   "source": [
    "fig=px.boxplot(df, x='sepal_length', color='species', title='Sepal Length by Species', labels={'sepal_length', \"Sepal Length\"},color_discrete_sequence=px.colors.sequential.Blackbody)\n",
    "fig.show()\n"
   ]
  },
  {
   "cell_type": "markdown",
   "id": "747f5644",
   "metadata": {},
   "source": [
    "## PLOTLY EXPRESS/PLOTLY EXPRESS PART 2 EXERCISE ANSWERS ##\n",
    "#### Exercise 1 ####\n",
    "#### Task 1 \n",
    "##### Import the Plotly Express library as px\n",
    "##### Use the Plotly Express library to pull in the dataset `experiment` and save it as `expsdf`\n",
    "##### Load in `stocks` as `stocksdf`\n",
    "#### Result:\n"
   ]
  },
  {
   "cell_type": "code",
   "execution_count": null,
   "id": "946288f9",
   "metadata": {},
   "outputs": [],
   "source": [
    "import plotly.express as px\n",
    "expsdf = px.data.experiment()\n",
    "stocksdf = px.data.stocks()\n"
   ]
  },
  {
   "cell_type": "markdown",
   "id": "a62661b9",
   "metadata": {},
   "source": [
    "#### Task 2 \n",
    "##### Create a scatter plot using exps, plot experiment_1 versus experiment_2, coloring by group. \n",
    "#### Result:\n"
   ]
  },
  {
   "cell_type": "code",
   "execution_count": null,
   "id": "32862029",
   "metadata": {},
   "outputs": [],
   "source": [
    "fig=px.scatter(exps, x='experiment_1', y='experiment_2', color='group')\n",
    "fig.show()\n"
   ]
  },
  {
   "cell_type": "markdown",
   "id": "9a6f3212",
   "metadata": {},
   "source": [
    "#### Task 3 \n",
    "##### Use the code from Task 2 and create a linear regression by group.  Show the model summary for your group of choice.  Is this a good model?\n",
    "#### Result:\n"
   ]
  },
  {
   "cell_type": "code",
   "execution_count": null,
   "id": "dd92c2b2",
   "metadata": {},
   "outputs": [],
   "source": [
    "fig=px.scatter(exps, x='experiment_1', y='experiment_2', color='group', trendline='ols')\n",
    "fig.show()\n",
    "results=px.get_trendline_results(fig)\n",
    "results.query(\"group=='treatment'\").px_fit_results.iloc[0].summary()\n"
   ]
  },
  {
   "cell_type": "markdown",
   "id": "a9081f68",
   "metadata": {},
   "source": [
    "#### Task 4\n",
    "##### Create a line plot using the stocksdf.  Use pandas and melt to make the data long for plotting all the stocks on the same plot. Use the code below:\n"
   ]
  },
  {
   "cell_type": "code",
   "execution_count": null,
   "id": "64fd077f",
   "metadata": {},
   "outputs": [],
   "source": [
    "`import pandas as pd\n",
    "stocksdf_long=pd.melt(stocksdf, 'date', 'Value', 'Stock')`\n"
   ]
  },
  {
   "cell_type": "markdown",
   "id": "0fe96122",
   "metadata": {},
   "source": [
    "##### Plot each line colored by Stock\n",
    "#### Result:\n"
   ]
  },
  {
   "cell_type": "code",
   "execution_count": null,
   "id": "117874a2",
   "metadata": {},
   "outputs": [],
   "source": [
    "fig=px.line(stocksdf_long, x='date', y='Value', color='Stock')\n",
    "fig.show()\n"
   ]
  },
  {
   "cell_type": "markdown",
   "id": "4b95137f",
   "metadata": {},
   "source": [
    "#### Task 5\n",
    "##### Create a Scatter Matrix using the expsdf data.\n",
    "##### Save the figure as an html file.\n",
    "#### Result: \n"
   ]
  },
  {
   "cell_type": "code",
   "execution_count": null,
   "id": "9a3dfb16",
   "metadata": {},
   "outputs": [],
   "source": [
    "fig = px.scatter_matrix(expsdf, dimensions=['experiment_1','experiment_2', 'experiment_3' ])\n",
    "fig.show()\n",
    "fig.write_html('expscattermatrix.html')\n"
   ]
  },
  {
   "cell_type": "markdown",
   "id": "9d4c8f3e",
   "metadata": {},
   "source": [
    "## PLOTLY EXPRESS/PLOTLY EXPRESS PART 3 EXERCISE ANSWERS ##\n",
    "#### Exercise 1 ####\n",
    "#### Task 1 \n",
    "##### Import the Plotly Express library as px\n",
    "##### Use the Plotly Express library to pull in the dataset `election` and save it as `eldf`\n",
    "##### Load in `gapminder` as `gapdf`\n",
    "##### Load in `experiment` as `expdf`.\n",
    "#### Result:\n"
   ]
  },
  {
   "cell_type": "code",
   "execution_count": null,
   "id": "d452f5d7",
   "metadata": {},
   "outputs": [],
   "source": [
    "import plotly.express as px\n",
    "eldf = px.data.election()\n",
    "gapdf = px.data.gapminder()\n",
    "expdf= px.data.experiment()\n"
   ]
  },
  {
   "cell_type": "markdown",
   "id": "7886b91c",
   "metadata": {},
   "source": [
    "#### Task 2 \n",
    "##### Create a correlation plot using a subset of expdf which includes the columns `experiment_1`, `experiment_2`, and  `experiment_3`. Which of these are correlated?\n",
    "#### Result:\n"
   ]
  },
  {
   "cell_type": "code",
   "execution_count": null,
   "id": "d76ae4ab",
   "metadata": {},
   "outputs": [],
   "source": [
    "expdf2=expdf[['experiment_1', 'experiment_2', 'experiment_3']]\n",
    "fig=px.imshow(expdf2, zmin=-1, zmax=1)\n",
    "fig.show()\n"
   ]
  },
  {
   "cell_type": "markdown",
   "id": "afe2962e",
   "metadata": {},
   "source": [
    "#### Task 3 \n",
    "##### Create a density heatmap of `experiment_1` and `experiment_3`.  Would both of these contribute to a model?\n",
    "#### Result:\n"
   ]
  },
  {
   "cell_type": "code",
   "execution_count": null,
   "id": "8b0fcf1e",
   "metadata": {},
   "outputs": [],
   "source": [
    "fig=px.density_heatmap(expdf, x='experiment_1', y='experiment_2')\n",
    "fig.show()\n"
   ]
  },
  {
   "cell_type": "markdown",
   "id": "c666bb54",
   "metadata": {},
   "source": [
    "#### Task 4\n",
    "##### Use gapdf and create a choropleth map of `gdpPercap` in year 1982 for the world. \n",
    "#### Result:\n"
   ]
  },
  {
   "cell_type": "code",
   "execution_count": null,
   "id": "43dcfce2",
   "metadata": {},
   "outputs": [],
   "source": [
    "gapdf2 = gapdf.query(\"year==1982\")\n",
    "fig = px.choropleth(gapdf2, locations=\"iso_alpha\",\n",
    "                    color=\"gdpPercap\", \n",
    "                    hover_name=\"country\", \n",
    "                    color_continuous_scale=px.colors.sequential.Plasma)\n",
    "fig.show()\n"
   ]
  },
  {
   "cell_type": "markdown",
   "id": "af682d40",
   "metadata": {},
   "source": [
    "#### Task 5\n",
    "##### Use `eldf` and load in the geoJSON that goes with it to make a map of the votes for Coderre.\n",
    "#### Result: \n"
   ]
  },
  {
   "cell_type": "code",
   "execution_count": null,
   "id": "87e9e50c",
   "metadata": {},
   "outputs": [],
   "source": [
    "geojson = px.data.election_geojson()\n",
    "fig = px.choropleth(eldf, geojson=geojson, color=\"Coderre\",\n",
    "                    locations=\"district\", featureidkey=\"properties.district\",\n",
    "                    projection=\"mercator\"\n",
    "                   )\n",
    "fig.update_geos(fitbounds=\"locations\", visible=False)\n",
    "fig.update_layout(margin={\"r\":0,\"t\":0,\"l\":0,\"b\":0})\n",
    "fig.show()\n"
   ]
  },
  {
   "cell_type": "markdown",
   "id": "57805e27",
   "metadata": {},
   "source": [
    "#### Task 6\n",
    "##### Use `gapdf` to create an animation of `gdpPerCap` over the world by using year as the `animation_frame`.\n",
    "#### Result:\n"
   ]
  },
  {
   "cell_type": "code",
   "execution_count": null,
   "id": "716b5e7f",
   "metadata": {},
   "outputs": [],
   "source": [
    "fig=px.choropleth(gapdf,locations=\"iso_alpha\", color=\"gdpPerCap\", hover_name=\"country\", animation_frame=\"year\", range_color=[20,80] )\n",
    "fig.show()\n"
   ]
  }
 ],
 "metadata": {
  "language": "python"
 },
 "nbformat": 4,
 "nbformat_minor": 5
}
