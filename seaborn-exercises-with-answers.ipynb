{
 "cells": [
  {
   "cell_type": "markdown",
   "id": "306f5438",
   "metadata": {},
   "source": [
    "## SEABORN/INTRO TO SEABORN PART 1 EXERCISE ANSWERS ##\n",
    "#### Exercise 1 ####\n",
    "#### Task 1\n",
    "##### Load seaborn as sns and matplotlib.pyplot as plt for plotting data.\n",
    "##### Load in the dataset tips from the sns repository and save it to the variable tips.\n",
    "#### Result:\n"
   ]
  },
  {
   "cell_type": "code",
   "execution_count": null,
   "id": "8548597b",
   "metadata": {},
   "outputs": [],
   "source": [
    "import seaborn as sns\n",
    "import matplotlib.pyplot as plt\n",
    "tips = sns.load_dataset(\"tips\")\n"
   ]
  },
  {
   "cell_type": "markdown",
   "id": "4dcc001c",
   "metadata": {},
   "source": [
    "#### Task 2\n",
    "##### View the top 10 rows of `tips`.  \n",
    "#### Result:\n"
   ]
  },
  {
   "cell_type": "code",
   "execution_count": null,
   "id": "f0bc7f31",
   "metadata": {},
   "outputs": [],
   "source": [
    "tips.head(10)\n"
   ]
  },
  {
   "cell_type": "markdown",
   "id": "3684b80d",
   "metadata": {},
   "source": [
    "#### Task 3\n",
    "##### Create a histogram of the column `tip`.\n",
    "##### Create a layered histogram of `tip` by `smoker`\n",
    "#### Result:\n"
   ]
  },
  {
   "cell_type": "code",
   "execution_count": null,
   "id": "9a23e22d",
   "metadata": {},
   "outputs": [],
   "source": [
    "sns.histplot(tips, x=\"tip\")\n",
    "sns.histplot(tips, x=\"tip\", hue=\"smoker\")\n"
   ]
  },
  {
   "cell_type": "markdown",
   "id": "6651f168",
   "metadata": {},
   "source": [
    "#### Task 4\n",
    "##### Create a boxplot of `total_bill`.\n",
    "##### Create a second boxplot of `total_bill` grouped by `day`\n",
    "#### Result:\n"
   ]
  },
  {
   "cell_type": "code",
   "execution_count": null,
   "id": "2322c9c2",
   "metadata": {},
   "outputs": [],
   "source": [
    "sns.boxplot(tips, y='total_bill')\n",
    "sns.boxplot(tips, x='day', y='total_bill')\n"
   ]
  },
  {
   "cell_type": "markdown",
   "id": "f1b4da70",
   "metadata": {},
   "source": [
    "#### Task 5\n",
    "##### Create a bar plot of `tips` grouped by `day`\n",
    "##### Create a second bar plot of `tips` grouped by `day` and `time`\n",
    "##### Both plots should display the confidence interval based on the standard deviation.\n",
    "#### Result:\n"
   ]
  },
  {
   "cell_type": "code",
   "execution_count": null,
   "id": "76d0cb71",
   "metadata": {},
   "outputs": [],
   "source": [
    "sns.barplot(tips, x='day', y='tip', ci=\"sd\")\n",
    "sns.barplot(tips,x='day', y='tip', hue='time', ci='sd')\n"
   ]
  },
  {
   "cell_type": "markdown",
   "id": "bb9d184f",
   "metadata": {},
   "source": [
    "#### Task 6\n",
    "##### Create a scatterplot of `tips` versus `total_bill`\n",
    "#### Result:\n"
   ]
  },
  {
   "cell_type": "code",
   "execution_count": null,
   "id": "1b48a80c",
   "metadata": {},
   "outputs": [],
   "source": [
    "sns.scatterplot(data=tips, x=\"tip\", y=\"total_bill\")\n"
   ]
  },
  {
   "cell_type": "markdown",
   "id": "0199b935",
   "metadata": {},
   "source": [
    "#### Task 7\n",
    "##### Create a linear model plot of `tips` versus `total_bill`\n",
    "#### Result:\n"
   ]
  },
  {
   "cell_type": "code",
   "execution_count": null,
   "id": "c999b789",
   "metadata": {},
   "outputs": [],
   "source": [
    "sns.lmplot(data=tips, x=\"tip\", y=\"total_bill\",fit_reg=True)\n"
   ]
  },
  {
   "cell_type": "markdown",
   "id": "1207b149",
   "metadata": {},
   "source": [
    "#### Task 8\n",
    "##### Create a residual plot of `tips` versus `total_bill`\n",
    "##### Does the linear model seem like a good model for this data?\n",
    "#### Result:\n"
   ]
  },
  {
   "cell_type": "code",
   "execution_count": null,
   "id": "39b7b52b",
   "metadata": {},
   "outputs": [],
   "source": [
    "sns.residplot(data=tips, x=\"tip\", y=\"total_bill\", lowess=True, color=\"b\")\n",
    "#Yes, the dots are pretty scattered around the line at zero. There may be a few outliers.\n"
   ]
  },
  {
   "cell_type": "markdown",
   "id": "8acd20ea",
   "metadata": {},
   "source": [
    "#### Task 9\n",
    "##### Create a heatmap of `total_bill` by day and time using the below code to make a pivot table\n"
   ]
  },
  {
   "cell_type": "code",
   "execution_count": null,
   "id": "e2594b40",
   "metadata": {},
   "outputs": [],
   "source": [
    "`tips2=tips.groupby(['day', 'time']).mean()[['total_bill']]\n",
    "tips2.reset_index(inplace=True)\n",
    "tips2=tips2.pivot('day', 'time', 'total_bill')`\n"
   ]
  },
  {
   "cell_type": "markdown",
   "id": "fcce2f19",
   "metadata": {},
   "source": [
    "##### Use tips2 to create a heatmap.\n",
    "#### Result:\n"
   ]
  },
  {
   "cell_type": "code",
   "execution_count": null,
   "id": "763cafaf",
   "metadata": {},
   "outputs": [],
   "source": [
    "sns.heatmap(tips2)\n"
   ]
  },
  {
   "cell_type": "markdown",
   "id": "fd769e63",
   "metadata": {},
   "source": [
    "#### Task 10\n",
    "##### Use the code from Task 4 for the second boxplot and change the xlabel to `Days of the Week` and the ylabel to `Total Bill ($)` and the title to `Distributions of Restaurant Bills over the Week`\n",
    "#### Result:\n"
   ]
  },
  {
   "cell_type": "code",
   "execution_count": null,
   "id": "c5a8e7ad",
   "metadata": {},
   "outputs": [],
   "source": [
    "g=sns.boxplot(tips, x='day', y='total_bill')\n",
    "g.set(xlabel='Days of the Week', ylabel='Total Bill ($)', title='Distributions of Restaurant Bills over the Week')\n"
   ]
  }
 ],
 "metadata": {
  "language": "python"
 },
 "nbformat": 4,
 "nbformat_minor": 5
}
